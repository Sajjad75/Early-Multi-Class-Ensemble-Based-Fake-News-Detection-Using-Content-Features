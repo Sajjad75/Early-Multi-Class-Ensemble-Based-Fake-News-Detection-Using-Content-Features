{
 "cells": [
  {
   "cell_type": "markdown",
   "metadata": {
    "id": "dacDa7aGjxsZ"
   },
   "source": [
    "# **Preparing Data**"
   ]
  },
  {
   "cell_type": "code",
   "execution_count": 1,
   "metadata": {},
   "outputs": [],
   "source": [
    "import pandas as pd\n",
    "\n",
    "#Load Dataset\n",
    "dataset=pd.read_csv(\"C:/Users/Wintest/Desktop/FakenewsNet/Complete.csv\")\n",
    "\n",
    "dataset = dataset.astype(dtype={'title': 'string',\n",
    "                                'author_name': 'string',\n",
    "                                'content': 'string','label': 'string'})\n"
   ]
  },
  {
   "cell_type": "code",
   "execution_count": 2,
   "metadata": {},
   "outputs": [
    {
     "data": {
      "text/plain": [
       "False    130\n",
       "True     127\n",
       "Name: label, dtype: Int64"
      ]
     },
     "execution_count": 2,
     "metadata": {},
     "output_type": "execute_result"
    }
   ],
   "source": [
    "dataset.label.value_counts()"
   ]
  },
  {
   "cell_type": "code",
   "execution_count": 3,
   "metadata": {},
   "outputs": [
    {
     "name": "stdout",
     "output_type": "stream",
     "text": [
      "Duplicate Rows except first occurrence based on all columns are :\n",
      "Empty DataFrame\n",
      "Columns: [title, url, date_published, author_name, content, label]\n",
      "Index: []\n"
     ]
    }
   ],
   "source": [
    "duplicateRowsDF = dataset[dataset.duplicated()]\n",
    "print(\"Duplicate Rows except first occurrence based on all columns are :\")\n",
    "print(duplicateRowsDF)"
   ]
  },
  {
   "cell_type": "markdown",
   "metadata": {
    "id": "4WVJITGPbwYd"
   },
   "source": [
    "# **Semantic Analysis**"
   ]
  },
  {
   "cell_type": "markdown",
   "metadata": {
    "id": "QCl4IC4EWUAb"
   },
   "source": [
    "## **Quantity Analysis**"
   ]
  },
  {
   "cell_type": "code",
   "execution_count": 4,
   "metadata": {
    "id": "9fQ8ZNy6IAdF"
   },
   "outputs": [],
   "source": [
    "#Calculate Number of Postive and Negative Words\n",
    "\n",
    "PosWords = open('L:/Thesis/Dateset/PostiveWord.txt' , 'r')\n",
    "NegWords = open('L:/Thesis/Dateset/NegativeWords.txt' , 'r')\n",
    "\n",
    "PosWordSet = list (PosWords)\n",
    "NegWordSet = list (NegWords)\n",
    "\n",
    "countOfPosWord = list()\n",
    "countOfNegWord = list()\n",
    "\n",
    "\n",
    "for row in range(0,len(dataset)):\n",
    "  NumOfPosWord=0\n",
    "  word = dataset['content'][row].split()\n",
    "  for i in range(0,len(PosWordSet)):\n",
    "    PosWordSet[i] = PosWordSet[i].replace('\\n','')\n",
    "    for j in range(0,len(word)):\n",
    "      if word[j] == PosWordSet[i]:\n",
    "        NumOfPosWord +=1\n",
    "  countOfPosWord.insert(row,NumOfPosWord)\n",
    "  NumOfNegWord=0\n",
    "  word = dataset['content'][row].split()\n",
    "  for i in range(0,len(NegWordSet)):\n",
    "    NegWordSet[i] = NegWordSet[i].replace('\\n','')\n",
    "    for j in range(0,len(word)):\n",
    "      if word[j] == NegWordSet[i]:\n",
    "        NumOfNegWord +=1\n",
    "  countOfNegWord.insert(row,NumOfNegWord)\n",
    "\n",
    "dataset['countOfPosWord'] = countOfPosWord\n",
    "dataset['countOfNegWord'] = countOfNegWord"
   ]
  },
  {
   "cell_type": "code",
   "execution_count": 4,
   "metadata": {
    "colab": {
     "base_uri": "https://localhost:8080/"
    },
    "id": "4MF36Xx7eurC",
    "outputId": "3a8fa231-19ad-4841-bc8a-5c7983b52e0f"
   },
   "outputs": [
    {
     "name": "stdout",
     "output_type": "stream",
     "text": [
      "Requirement already satisfied: textstat in c:\\users\\wintest\\miniconda3\\envs\\tensorflow\\lib\\site-packages (0.7.2)\n",
      "Requirement already satisfied: pyphen in c:\\users\\wintest\\miniconda3\\envs\\tensorflow\\lib\\site-packages (from textstat) (0.11.0)\n"
     ]
    }
   ],
   "source": [
    "!pip install textstat"
   ]
  },
  {
   "cell_type": "code",
   "execution_count": 5,
   "metadata": {
    "id": "0XYxnd3jqGvP"
   },
   "outputs": [],
   "source": [
    "NumOfChar = list()\n",
    "NumOfWord = list()\n",
    "NumOfSen = list()"
   ]
  },
  {
   "cell_type": "code",
   "execution_count": 6,
   "metadata": {
    "colab": {
     "base_uri": "https://localhost:8080/"
    },
    "id": "ttFqIgFwb7s5",
    "outputId": "10eb1d8c-7ebf-45be-ffb2-9d94fd12a12d"
   },
   "outputs": [
    {
     "name": "stdout",
     "output_type": "stream",
     "text": [
      "256\n"
     ]
    }
   ],
   "source": [
    "import textstat\n",
    "#Calculate number of characters\n",
    "\n",
    "for row in range(0,len(dataset)):\n",
    "  NumOfChar.insert(row,textstat.char_count(dataset['content'][row]))\n",
    "\n",
    "#Calculate number of words\n",
    "for row in range(0,len(dataset)):\n",
    "  NumOfWord.insert(row,textstat.lexicon_count(dataset['content'][row]))\n",
    "\n",
    "#Calculate number of sentences\n",
    "\n",
    "for row in range(0,len(dataset)):\n",
    "  NumOfSen.insert(row,textstat.sentence_count(dataset['content'][row]))\n",
    "\n",
    "dataset['NumberOfChar']=NumOfChar\n",
    "dataset['NumberOfWords']=NumOfWord\n",
    "dataset['NumberOfSentences']=NumOfSen\n",
    "\n",
    "AvgCharPerWord=list()\n",
    "AvgWordPerSent=list()\n",
    "\n",
    "for row in range(0,len(dataset)):\n",
    "  AvgCharPerWord.insert(row,textstat.avg_character_per_word(dataset['content'][row]))\n",
    "\n",
    "for i in range(0,len(NumOfChar)):\n",
    "    AvgWordPerSent.insert(i,(NumOfWord[i] / NumOfSen[i]))\n",
    "\n",
    "\n",
    "dataset['AvgCharPerWord']=AvgCharPerWord\n",
    "dataset['AvgWordPerSent']=AvgWordPerSent\n",
    "\n",
    "NumberOfUpCase=list()\n",
    "for row in range(0,len(dataset)):\n",
    "  uppercase_count=0  \n",
    "  for character in dataset['content'][row]:\n",
    "      if character.isupper():\n",
    "          uppercase_count += 1\n",
    "  NumberOfUpCase.insert(row,uppercase_count)\n",
    "print(row)\n",
    "dataset['NumberOfUpCase']=NumberOfUpCase\n",
    "\n",
    "#Calculate Number of punctuations\n",
    "import string\n",
    "puncsigns=string.punctuation\n",
    "NumOfPunc=list()\n",
    "for row in range(0,len(dataset)):\n",
    "  Punc=0\n",
    "  for char in dataset['content'][row]:\n",
    "    if char in puncsigns:\n",
    "      Punc = Punc+1\n",
    "  NumOfPunc.insert(row,Punc)\n",
    "dataset['NumberOfPunctuatuion']=NumOfPunc\n",
    "\n"
   ]
  },
  {
   "cell_type": "code",
   "execution_count": null,
   "metadata": {
    "colab": {
     "base_uri": "https://localhost:8080/",
     "height": 1000
    },
    "id": "DIo73nSimEIg",
    "outputId": "b2c88661-5ae4-463c-ae00-c18911eeff8e"
   },
   "outputs": [],
   "source": [
    "dataset"
   ]
  },
  {
   "cell_type": "code",
   "execution_count": null,
   "metadata": {
    "id": "qQNZpfXWw1Wa"
   },
   "outputs": [],
   "source": [
    "from google.colab import files\n",
    "\n",
    "dataset.to_csv('Export_dataset.csv')\n"
   ]
  },
  {
   "cell_type": "markdown",
   "metadata": {
    "id": "Xy05FOh0GRdF"
   },
   "source": [
    "## **Topic Modelling**"
   ]
  },
  {
   "cell_type": "code",
   "execution_count": null,
   "metadata": {
    "colab": {
     "base_uri": "https://localhost:8080/"
    },
    "id": "9SSGthvj9yS4",
    "outputId": "0847b23f-9ae1-407c-9eb6-410238f488b3"
   },
   "outputs": [
    {
     "name": "stdout",
     "output_type": "stream",
     "text": [
      "<class 'pandas.core.frame.DataFrame'>\n",
      "RangeIndex: 24554 entries, 0 to 24553\n",
      "Data columns (total 17 columns):\n",
      " #   Column                Non-Null Count  Dtype  \n",
      "---  ------                --------------  -----  \n",
      " 0   Unnamed: 0            24554 non-null  int64  \n",
      " 1   id                    24554 non-null  int64  \n",
      " 2   title                 24554 non-null  object \n",
      " 3   url                   24554 non-null  object \n",
      " 4   date_published        24554 non-null  object \n",
      " 5   author_name           24554 non-null  object \n",
      " 6   content               24554 non-null  object \n",
      " 7   label                 24554 non-null  object \n",
      " 8   countOfPosWord        24554 non-null  int64  \n",
      " 9   countOfNegWord        24554 non-null  int64  \n",
      " 10  NumberOfChar          24554 non-null  int64  \n",
      " 11  NumberOfWords         24554 non-null  int64  \n",
      " 12  NumberOfSentences     24554 non-null  int64  \n",
      " 13  AvgCharPerWord        24554 non-null  float64\n",
      " 14  AvgWordPerSent        24554 non-null  float64\n",
      " 15  NumberOfUpCase        24554 non-null  int64  \n",
      " 16  NumberOfPunctuatuion  24554 non-null  int64  \n",
      "dtypes: float64(2), int64(9), object(6)\n",
      "memory usage: 3.2+ MB\n"
     ]
    }
   ],
   "source": [
    "import pandas as pd\n",
    "dataset = pd.read_csv(\"/content/drive/MyDrive/Thesis Datasets/Export_dataset.csv\")\n",
    "dataset.set_index('id')\n",
    "\n",
    "dataset.info()"
   ]
  },
  {
   "cell_type": "code",
   "execution_count": 12,
   "metadata": {
    "id": "RCTazSvgC1Zo"
   },
   "outputs": [
    {
     "ename": "NameError",
     "evalue": "name '_C' is not defined",
     "output_type": "error",
     "traceback": [
      "\u001b[1;31m---------------------------------------------------------------------------\u001b[0m",
      "\u001b[1;31mNameError\u001b[0m                                 Traceback (most recent call last)",
      "\u001b[1;32m<ipython-input-12-bb3c61d26286>\u001b[0m in \u001b[0;36m<module>\u001b[1;34m\u001b[0m\n\u001b[1;32m----> 1\u001b[1;33m \u001b[1;32mimport\u001b[0m \u001b[0mspacy\u001b[0m\u001b[1;33m\u001b[0m\u001b[1;33m\u001b[0m\u001b[0m\n\u001b[0m\u001b[0;32m      2\u001b[0m \u001b[0mspacy\u001b[0m\u001b[1;33m.\u001b[0m\u001b[0mload\u001b[0m\u001b[1;33m(\u001b[0m\u001b[1;34m'en_core_web_sm'\u001b[0m\u001b[1;33m)\u001b[0m\u001b[1;33m\u001b[0m\u001b[1;33m\u001b[0m\u001b[0m\n\u001b[0;32m      3\u001b[0m \u001b[1;32mfrom\u001b[0m \u001b[0mspacy\u001b[0m\u001b[1;33m.\u001b[0m\u001b[0mlang\u001b[0m\u001b[1;33m.\u001b[0m\u001b[0men\u001b[0m \u001b[1;32mimport\u001b[0m \u001b[0mEnglish\u001b[0m\u001b[1;33m\u001b[0m\u001b[1;33m\u001b[0m\u001b[0m\n\u001b[0;32m      4\u001b[0m \u001b[0mparser\u001b[0m \u001b[1;33m=\u001b[0m \u001b[0mEnglish\u001b[0m\u001b[1;33m(\u001b[0m\u001b[1;33m)\u001b[0m\u001b[1;33m\u001b[0m\u001b[1;33m\u001b[0m\u001b[0m\n\u001b[0;32m      5\u001b[0m \u001b[1;32mdef\u001b[0m \u001b[0mtokenize\u001b[0m\u001b[1;33m(\u001b[0m\u001b[0mtext\u001b[0m\u001b[1;33m)\u001b[0m\u001b[1;33m:\u001b[0m\u001b[1;33m\u001b[0m\u001b[1;33m\u001b[0m\u001b[0m\n",
      "\u001b[1;32m~\\miniconda3\\envs\\tensorflow\\lib\\site-packages\\spacy\\__init__.py\u001b[0m in \u001b[0;36m<module>\u001b[1;34m\u001b[0m\n\u001b[0;32m      9\u001b[0m \u001b[1;33m\u001b[0m\u001b[0m\n\u001b[0;32m     10\u001b[0m \u001b[1;31m# These are imported as part of the API\u001b[0m\u001b[1;33m\u001b[0m\u001b[1;33m\u001b[0m\u001b[1;33m\u001b[0m\u001b[0m\n\u001b[1;32m---> 11\u001b[1;33m \u001b[1;32mfrom\u001b[0m \u001b[0mthinc\u001b[0m\u001b[1;33m.\u001b[0m\u001b[0mapi\u001b[0m \u001b[1;32mimport\u001b[0m \u001b[0mprefer_gpu\u001b[0m\u001b[1;33m,\u001b[0m \u001b[0mrequire_gpu\u001b[0m\u001b[1;33m,\u001b[0m \u001b[0mrequire_cpu\u001b[0m  \u001b[1;31m# noqa: F401\u001b[0m\u001b[1;33m\u001b[0m\u001b[1;33m\u001b[0m\u001b[0m\n\u001b[0m\u001b[0;32m     12\u001b[0m \u001b[1;32mfrom\u001b[0m \u001b[0mthinc\u001b[0m\u001b[1;33m.\u001b[0m\u001b[0mapi\u001b[0m \u001b[1;32mimport\u001b[0m \u001b[0mConfig\u001b[0m\u001b[1;33m\u001b[0m\u001b[1;33m\u001b[0m\u001b[0m\n\u001b[0;32m     13\u001b[0m \u001b[1;33m\u001b[0m\u001b[0m\n",
      "\u001b[1;32m~\\miniconda3\\envs\\tensorflow\\lib\\site-packages\\thinc\\api.py\u001b[0m in \u001b[0;36m<module>\u001b[1;34m\u001b[0m\n\u001b[0;32m      1\u001b[0m \u001b[1;32mfrom\u001b[0m \u001b[1;33m.\u001b[0m\u001b[0mconfig\u001b[0m \u001b[1;32mimport\u001b[0m \u001b[0mConfig\u001b[0m\u001b[1;33m,\u001b[0m \u001b[0mregistry\u001b[0m\u001b[1;33m,\u001b[0m \u001b[0mConfigValidationError\u001b[0m\u001b[1;33m\u001b[0m\u001b[1;33m\u001b[0m\u001b[0m\n\u001b[1;32m----> 2\u001b[1;33m \u001b[1;32mfrom\u001b[0m \u001b[1;33m.\u001b[0m\u001b[0minitializers\u001b[0m \u001b[1;32mimport\u001b[0m \u001b[0mnormal_init\u001b[0m\u001b[1;33m,\u001b[0m \u001b[0muniform_init\u001b[0m\u001b[1;33m,\u001b[0m \u001b[0mglorot_uniform_init\u001b[0m\u001b[1;33m,\u001b[0m \u001b[0mzero_init\u001b[0m\u001b[1;33m\u001b[0m\u001b[1;33m\u001b[0m\u001b[0m\n\u001b[0m\u001b[0;32m      3\u001b[0m \u001b[1;32mfrom\u001b[0m \u001b[1;33m.\u001b[0m\u001b[0minitializers\u001b[0m \u001b[1;32mimport\u001b[0m \u001b[0mconfigure_normal_init\u001b[0m\u001b[1;33m\u001b[0m\u001b[1;33m\u001b[0m\u001b[0m\n\u001b[0;32m      4\u001b[0m \u001b[1;32mfrom\u001b[0m \u001b[1;33m.\u001b[0m\u001b[0mloss\u001b[0m \u001b[1;32mimport\u001b[0m \u001b[0mCategoricalCrossentropy\u001b[0m\u001b[1;33m,\u001b[0m \u001b[0mL2Distance\u001b[0m\u001b[1;33m,\u001b[0m \u001b[0mCosineDistance\u001b[0m\u001b[1;33m\u001b[0m\u001b[1;33m\u001b[0m\u001b[0m\n\u001b[0;32m      5\u001b[0m \u001b[1;32mfrom\u001b[0m \u001b[1;33m.\u001b[0m\u001b[0mloss\u001b[0m \u001b[1;32mimport\u001b[0m \u001b[0mSequenceCategoricalCrossentropy\u001b[0m\u001b[1;33m\u001b[0m\u001b[1;33m\u001b[0m\u001b[0m\n",
      "\u001b[1;32m~\\miniconda3\\envs\\tensorflow\\lib\\site-packages\\thinc\\initializers.py\u001b[0m in \u001b[0;36m<module>\u001b[1;34m\u001b[0m\n\u001b[0;32m      2\u001b[0m \u001b[1;32mimport\u001b[0m \u001b[0mnumpy\u001b[0m\u001b[1;33m\u001b[0m\u001b[1;33m\u001b[0m\u001b[0m\n\u001b[0;32m      3\u001b[0m \u001b[1;33m\u001b[0m\u001b[0m\n\u001b[1;32m----> 4\u001b[1;33m \u001b[1;32mfrom\u001b[0m \u001b[1;33m.\u001b[0m\u001b[0mbackends\u001b[0m \u001b[1;32mimport\u001b[0m \u001b[0mOps\u001b[0m\u001b[1;33m\u001b[0m\u001b[1;33m\u001b[0m\u001b[0m\n\u001b[0m\u001b[0;32m      5\u001b[0m \u001b[1;32mfrom\u001b[0m \u001b[1;33m.\u001b[0m\u001b[0mconfig\u001b[0m \u001b[1;32mimport\u001b[0m \u001b[0mregistry\u001b[0m\u001b[1;33m\u001b[0m\u001b[1;33m\u001b[0m\u001b[0m\n\u001b[0;32m      6\u001b[0m \u001b[1;32mfrom\u001b[0m \u001b[1;33m.\u001b[0m\u001b[0mtypes\u001b[0m \u001b[1;32mimport\u001b[0m \u001b[0mFloatsXd\u001b[0m\u001b[1;33m,\u001b[0m \u001b[0mShape\u001b[0m\u001b[1;33m\u001b[0m\u001b[1;33m\u001b[0m\u001b[0m\n",
      "\u001b[1;32m~\\miniconda3\\envs\\tensorflow\\lib\\site-packages\\thinc\\backends\\__init__.py\u001b[0m in \u001b[0;36m<module>\u001b[1;34m\u001b[0m\n\u001b[0;32m      5\u001b[0m \u001b[1;32mimport\u001b[0m \u001b[0mthreading\u001b[0m\u001b[1;33m\u001b[0m\u001b[1;33m\u001b[0m\u001b[0m\n\u001b[0;32m      6\u001b[0m \u001b[1;33m\u001b[0m\u001b[0m\n\u001b[1;32m----> 7\u001b[1;33m \u001b[1;32mfrom\u001b[0m \u001b[1;33m.\u001b[0m\u001b[0mops\u001b[0m \u001b[1;32mimport\u001b[0m \u001b[0mOps\u001b[0m\u001b[1;33m\u001b[0m\u001b[1;33m\u001b[0m\u001b[0m\n\u001b[0m\u001b[0;32m      8\u001b[0m \u001b[1;32mfrom\u001b[0m \u001b[1;33m.\u001b[0m\u001b[0mcupy_ops\u001b[0m \u001b[1;32mimport\u001b[0m \u001b[0mCupyOps\u001b[0m\u001b[1;33m,\u001b[0m \u001b[0mhas_cupy\u001b[0m\u001b[1;33m\u001b[0m\u001b[1;33m\u001b[0m\u001b[0m\n\u001b[0;32m      9\u001b[0m \u001b[1;32mfrom\u001b[0m \u001b[1;33m.\u001b[0m\u001b[0mnumpy_ops\u001b[0m \u001b[1;32mimport\u001b[0m \u001b[0mNumpyOps\u001b[0m\u001b[1;33m\u001b[0m\u001b[1;33m\u001b[0m\u001b[0m\n",
      "\u001b[1;32m~\\miniconda3\\envs\\tensorflow\\lib\\site-packages\\thinc\\backends\\ops.py\u001b[0m in \u001b[0;36m<module>\u001b[1;34m\u001b[0m\n\u001b[0;32m      8\u001b[0m \u001b[1;32mfrom\u001b[0m \u001b[1;33m.\u001b[0m\u001b[1;33m.\u001b[0m\u001b[0mtypes\u001b[0m \u001b[1;32mimport\u001b[0m \u001b[0mFloatsXd\u001b[0m\u001b[1;33m,\u001b[0m \u001b[0mInts1d\u001b[0m\u001b[1;33m,\u001b[0m \u001b[0mInts2d\u001b[0m\u001b[1;33m,\u001b[0m \u001b[0mInts3d\u001b[0m\u001b[1;33m,\u001b[0m \u001b[0mInts4d\u001b[0m\u001b[1;33m,\u001b[0m \u001b[0mIntsXd\u001b[0m\u001b[1;33m,\u001b[0m \u001b[0m_Floats\u001b[0m\u001b[1;33m\u001b[0m\u001b[1;33m\u001b[0m\u001b[0m\n\u001b[0;32m      9\u001b[0m \u001b[1;32mfrom\u001b[0m \u001b[1;33m.\u001b[0m\u001b[1;33m.\u001b[0m\u001b[0mtypes\u001b[0m \u001b[1;32mimport\u001b[0m \u001b[0mDeviceTypes\u001b[0m\u001b[1;33m,\u001b[0m \u001b[0mGenerator\u001b[0m\u001b[1;33m,\u001b[0m \u001b[0mPadded\u001b[0m\u001b[1;33m,\u001b[0m \u001b[0mBatchable\u001b[0m\u001b[1;33m,\u001b[0m \u001b[0mSizedGenerator\u001b[0m\u001b[1;33m\u001b[0m\u001b[1;33m\u001b[0m\u001b[0m\n\u001b[1;32m---> 10\u001b[1;33m \u001b[1;32mfrom\u001b[0m \u001b[1;33m.\u001b[0m\u001b[1;33m.\u001b[0m\u001b[0mutil\u001b[0m \u001b[1;32mimport\u001b[0m \u001b[0mget_array_module\u001b[0m\u001b[1;33m,\u001b[0m \u001b[0mis_xp_array\u001b[0m\u001b[1;33m,\u001b[0m \u001b[0mto_numpy\u001b[0m\u001b[1;33m\u001b[0m\u001b[1;33m\u001b[0m\u001b[0m\n\u001b[0m\u001b[0;32m     11\u001b[0m \u001b[1;33m\u001b[0m\u001b[0m\n\u001b[0;32m     12\u001b[0m \u001b[1;33m\u001b[0m\u001b[0m\n",
      "\u001b[1;32m~\\miniconda3\\envs\\tensorflow\\lib\\site-packages\\thinc\\util.py\u001b[0m in \u001b[0;36m<module>\u001b[1;34m\u001b[0m\n\u001b[0;32m     25\u001b[0m \u001b[1;33m\u001b[0m\u001b[0m\n\u001b[0;32m     26\u001b[0m \u001b[1;32mtry\u001b[0m\u001b[1;33m:\u001b[0m  \u001b[1;31m# pragma: no cover\u001b[0m\u001b[1;33m\u001b[0m\u001b[1;33m\u001b[0m\u001b[0m\n\u001b[1;32m---> 27\u001b[1;33m     \u001b[1;32mimport\u001b[0m \u001b[0mtorch\u001b[0m\u001b[1;33m\u001b[0m\u001b[1;33m\u001b[0m\u001b[0m\n\u001b[0m\u001b[0;32m     28\u001b[0m     \u001b[1;32mfrom\u001b[0m \u001b[0mtorch\u001b[0m \u001b[1;32mimport\u001b[0m \u001b[0mtensor\u001b[0m\u001b[1;33m\u001b[0m\u001b[1;33m\u001b[0m\u001b[0m\n\u001b[0;32m     29\u001b[0m     \u001b[1;32mimport\u001b[0m \u001b[0mtorch\u001b[0m\u001b[1;33m.\u001b[0m\u001b[0mutils\u001b[0m\u001b[1;33m.\u001b[0m\u001b[0mdlpack\u001b[0m\u001b[1;33m\u001b[0m\u001b[1;33m\u001b[0m\u001b[0m\n",
      "\u001b[1;32m~\\miniconda3\\envs\\tensorflow\\lib\\site-packages\\torch\\__init__.py\u001b[0m in \u001b[0;36m<module>\u001b[1;34m\u001b[0m\n\u001b[0;32m    194\u001b[0m     \u001b[1;32mimport\u001b[0m \u001b[0mtorch\u001b[0m\u001b[1;33m.\u001b[0m\u001b[0m_C\u001b[0m \u001b[1;32mas\u001b[0m \u001b[0m_C\u001b[0m\u001b[1;33m\u001b[0m\u001b[1;33m\u001b[0m\u001b[0m\n\u001b[0;32m    195\u001b[0m \u001b[1;33m\u001b[0m\u001b[0m\n\u001b[1;32m--> 196\u001b[1;33m __all__ += [name for name in dir(_C)\n\u001b[0m\u001b[0;32m    197\u001b[0m             \u001b[1;32mif\u001b[0m \u001b[0mname\u001b[0m\u001b[1;33m[\u001b[0m\u001b[1;36m0\u001b[0m\u001b[1;33m]\u001b[0m \u001b[1;33m!=\u001b[0m \u001b[1;34m'_'\u001b[0m \u001b[1;32mand\u001b[0m\u001b[1;33m\u001b[0m\u001b[1;33m\u001b[0m\u001b[0m\n\u001b[0;32m    198\u001b[0m             not name.endswith('Base')]\n",
      "\u001b[1;31mNameError\u001b[0m: name '_C' is not defined"
     ]
    }
   ],
   "source": [
    "import spacy\n",
    "spacy.load('en_core_web_sm')\n",
    "from spacy.lang.en import English\n",
    "parser = English()\n",
    "def tokenize(text):\n",
    "    lda_tokens = []\n",
    "    tokens = parser(text)\n",
    "    for token in tokens:\n",
    "        if token.orth_.isspace():\n",
    "            continue\n",
    "        elif token.like_url:\n",
    "            lda_tokens.append('URL')\n",
    "        elif token.orth_.startswith('@'):\n",
    "            lda_tokens.append('SCREEN_NAME')\n",
    "        else:\n",
    "            lda_tokens.append(token.lower_)\n",
    "    return lda_tokens"
   ]
  },
  {
   "cell_type": "code",
   "execution_count": null,
   "metadata": {
    "colab": {
     "base_uri": "https://localhost:8080/"
    },
    "id": "J_T0ZT5pC9fv",
    "outputId": "16d7efc1-6671-40d0-f23d-9b1035ba092f"
   },
   "outputs": [],
   "source": [
    "import nltk\n",
    "nltk.download('wordnet')\n",
    "from nltk.corpus import wordnet as wn\n",
    "def get_lemma(word):\n",
    "    lemma = wn.morphy(word)\n",
    "    if lemma is None:\n",
    "        return word\n",
    "    else:\n",
    "        return lemma\n",
    "    \n",
    "from nltk.stem.wordnet import WordNetLemmatizer\n",
    "def get_lemma2(word):\n",
    "    return WordNetLemmatizer().lemmatize(word)"
   ]
  },
  {
   "cell_type": "code",
   "execution_count": null,
   "metadata": {
    "colab": {
     "base_uri": "https://localhost:8080/"
    },
    "id": "atNRZcASGmAN",
    "outputId": "9a36c402-2238-4e45-80ef-59343ded5797"
   },
   "outputs": [],
   "source": [
    "nltk.download('stopwords')\n",
    "en_stop = set(nltk.corpus.stopwords.words('english'))"
   ]
  },
  {
   "cell_type": "code",
   "execution_count": null,
   "metadata": {
    "id": "gzCi0TjqDDk4"
   },
   "outputs": [],
   "source": [
    "def prepare_text_for_lda(text):\n",
    "    tokens = tokenize(text)\n",
    "    tokens = [token for token in tokens if len(token) > 4]\n",
    "    tokens = [token for token in tokens if token not in en_stop]\n",
    "    tokens = [get_lemma(token) for token in tokens]\n",
    "    return tokens"
   ]
  },
  {
   "cell_type": "code",
   "execution_count": null,
   "metadata": {
    "id": "ZSm8A0E-HhqD"
   },
   "outputs": [],
   "source": [
    "import random\n",
    "from gensim import corpora\n",
    "import pickle\n",
    "import gensim\n",
    "\n",
    "def topicModelling(content):\n",
    "  text_data = []\n",
    "  while(True):\n",
    "      tokens = prepare_text_for_lda(content)\n",
    "      if random.random() > .99:\n",
    "          #print(tokens)\n",
    "          text_data.append(tokens)\n",
    "          break;\n",
    "  dictionary = corpora.Dictionary(text_data)\n",
    "  corpus = [dictionary.doc2bow(text) for text in text_data]\n",
    "  pickle.dump(corpus, open('corpus.pkl', 'wb'))\n",
    "  dictionary.save('c:/users/wintest/desktop/dictionary.gensim')\n",
    "  NUM_TOPICS = 10\n",
    "  if len(corpus[0]) == 0:\n",
    "    return ('none')\n",
    "  else:\n",
    "    ldamodel = gensim.models.ldamodel.LdaModel(corpus, num_topics = NUM_TOPICS, id2word=dictionary, passes=15)\n",
    "    my_dict = {'Topic_' + str(i): [token for token, score in ldamodel.show_topic(i, topn=10)] for i in range(0, ldamodel.num_topics)}\n",
    "    print(my_dict['Topic_9'])\n",
    "  \n",
    "    return(my_dict['Topic_9'])"
   ]
  },
  {
   "cell_type": "code",
   "execution_count": null,
   "metadata": {
    "colab": {
     "base_uri": "https://localhost:8080/"
    },
    "id": "hLD2FEa4IRA5",
    "outputId": "58bea89c-1a1e-4b83-9359-425463740306"
   },
   "outputs": [],
   "source": [
    "contentTopicModelling = list()\n",
    "\n",
    "for row in range(0,len(dataset)):\n",
    "  print(row)\n",
    "\n",
    "  topicmodelling = topicModelling(dataset['content'][row])\n",
    "\n",
    "  if topicmodelling  == 'none':\n",
    "    contentTopicModelling.insert(row,'Null')\n",
    "    #dataset = dataset.drop(dataset.index[row])\n",
    "    print('Deleted empty row')\n",
    "    \n",
    "  else:\n",
    "    contentTopicModelling.insert(row,topicmodelling)\n",
    "\n",
    "dataset['ContentTM'] = contentTopicModelling"
   ]
  },
  {
   "cell_type": "code",
   "execution_count": null,
   "metadata": {
    "id": "UbAqZNq-Cbm8"
   },
   "outputs": [],
   "source": [
    "\n",
    "dataset.to_csv('Export_dataset2.csv')"
   ]
  },
  {
   "cell_type": "markdown",
   "metadata": {
    "id": "-mKtYgxNTJZQ"
   },
   "source": [
    "## **Semantic Analysis**"
   ]
  },
  {
   "cell_type": "code",
   "execution_count": 1,
   "metadata": {
    "colab": {
     "base_uri": "https://localhost:8080/"
    },
    "id": "RNqapGtJYkRW",
    "outputId": "5996bb99-0005-462f-b6a8-99af76ab7558"
   },
   "outputs": [
    {
     "name": "stdout",
     "output_type": "stream",
     "text": [
      "<class 'pandas.core.frame.DataFrame'>\n",
      "RangeIndex: 24517 entries, 0 to 24516\n",
      "Data columns (total 17 columns):\n",
      " #   Column                Non-Null Count  Dtype  \n",
      "---  ------                --------------  -----  \n",
      " 0   id                    24517 non-null  int64  \n",
      " 1   title                 24517 non-null  string \n",
      " 2   url                   24517 non-null  string \n",
      " 3   date_published        24517 non-null  string \n",
      " 4   author_name           24517 non-null  string \n",
      " 5   content               24517 non-null  string \n",
      " 6   label                 24517 non-null  string \n",
      " 7   countOfPosWord        24517 non-null  int64  \n",
      " 8   countOfNegWord        24517 non-null  int64  \n",
      " 9   NumberOfChar          24517 non-null  int64  \n",
      " 10  NumberOfWords         24517 non-null  int64  \n",
      " 11  NumberOfSentences     24517 non-null  int64  \n",
      " 12  AvgCharPerWord        24517 non-null  float64\n",
      " 13  AvgWordPerSent        24517 non-null  float64\n",
      " 14  NumberOfUpCase        24517 non-null  int64  \n",
      " 15  NumberOfPunctuatuion  24517 non-null  int64  \n",
      " 16  ContentTM             24517 non-null  string \n",
      "dtypes: float64(2), int64(8), string(7)\n",
      "memory usage: 3.2 MB\n"
     ]
    }
   ],
   "source": [
    "import pandas as pd\n",
    "dataset = pd.read_csv(\"D:/Rezaei/Export_dataset2.csv\")\n",
    "dataset.set_index('id')\n",
    "dataset = dataset.astype(dtype={'title': 'string','url': 'string',\n",
    "                                'date_published': 'string','author_name': 'string',\n",
    "                                'content': 'string','label': 'string','ContentTM':'string'})\n",
    "\n",
    "dataset.info()"
   ]
  },
  {
   "cell_type": "code",
   "execution_count": null,
   "metadata": {
    "colab": {
     "base_uri": "https://localhost:8080/"
    },
    "id": "PXK3QayXyl6F",
    "outputId": "dab27bb7-1041-43d5-f26f-9c2a37b74864"
   },
   "outputs": [],
   "source": [
    "import pandas as pd\n",
    "import numpy as np\n",
    "from nltk.corpus import stopwords\n",
    "import nltk\n",
    "import re\n",
    "from sklearn.feature_extraction.text import TfidfVectorizer \n",
    "from sklearn.metrics.pairwise import cosine_similarity\n",
    "from sklearn.metrics.pairwise import euclidean_distances\n",
    "\n",
    "global documents_df\n",
    "#tfidfvectoriser=int()\n",
    "#vocab_size=int()"
   ]
  },
  {
   "cell_type": "code",
   "execution_count": null,
   "metadata": {
    "id": "iu9ySu5GyqL9"
   },
   "outputs": [],
   "source": [
    "def preprocssing(documents_df):\n",
    "  stop_words_l=stopwords.words('english')\n",
    "  documents_df['documents_cleaned']=documents_df.documents.apply(lambda x: \" \".join(re.sub(r'[^a-zA-Z]',' ',w).lower() for w in x.split() if re.sub(r'[^a-zA-Z]',' ',w).lower() not in stop_words_l) )"
   ]
  },
  {
   "cell_type": "code",
   "execution_count": null,
   "metadata": {
    "id": "ex3f28AC3tjO"
   },
   "outputs": [],
   "source": [
    "def TfidfSim(documents_df):\n",
    "    global tfidfvectoriser\n",
    "    tfidfvectoriser=TfidfVectorizer(max_features=64)\n",
    "    tfidfvectoriser.fit(documents_df.documents_cleaned)\n",
    "    global tfidf_vectors\n",
    "    tfidf_vectors=tfidfvectoriser.transform(documents_df.documents_cleaned)\n",
    "    tfidf_vectors=tfidf_vectors.toarray()\n",
    "    pairwise_similarities=np.dot(tfidf_vectors,tfidf_vectors.T)\n",
    "    return(pairwise_similarities[0][1])"
   ]
  },
  {
   "cell_type": "code",
   "execution_count": null,
   "metadata": {
    "colab": {
     "base_uri": "https://localhost:8080/"
    },
    "id": "fIQjZu76XWRQ",
    "outputId": "8440a824-a646-4155-bc4e-baca0b7e65d0"
   },
   "outputs": [],
   "source": [
    "from tensorflow.keras.preprocessing.text import Tokenizer\n",
    "import gensim\n",
    "from gensim import models\n",
    "from tensorflow.keras.preprocessing.sequence import pad_sequences\n",
    "from nltk.tokenize import word_tokenize\n",
    "import nltk\n",
    "nltk.download('punkt')\n",
    "\n",
    "def word2vecSim(documents_df):\n",
    "  global tokenizer\n",
    "  tokenizer=Tokenizer()\n",
    "  tokenizer.fit_on_texts(documents_df.documents_cleaned)\n",
    "  tokenized_documents=tokenizer.texts_to_sequences(documents_df.documents_cleaned)\n",
    "  global tokenized_paded_documents\n",
    "  tokenized_paded_documents=pad_sequences(tokenized_documents,maxlen=64,padding='post')\n",
    "  global vocab_size\n",
    "  vocab_size=len(tokenizer.word_index)+1\n",
    "  # loading pre-trained embeddings, each word is represented as a 300 dimensional vector\n",
    "\n",
    "  "
   ]
  },
  {
   "cell_type": "code",
   "execution_count": null,
   "metadata": {
    "id": "iVYHwhuq1hWi"
   },
   "outputs": [],
   "source": [
    "def gloveSim(documents_df):\n",
    "  # reading Glove word embeddings into a dictionary with \"word\" as key and values as word vectors\n",
    "\n",
    "  embeddings_index = dict()\n",
    "\n",
    "  with open('G:/datasets/glove.6B/glove.6B.50d.txt', encoding='utf-8') as file:\n",
    "      for line in file:\n",
    "          values = line.split()\n",
    "          word = values[0]\n",
    "          coefs = np.asarray(values[1:], dtype='float64')\n",
    "          embeddings_index[word] = coefs\n",
    "  # creating embedding matrix, every row is a vector representation from the vocabulary indexed by the tokenizer index. \n",
    "\n",
    "  embedding_matrix=np.zeros((vocab_size,50))\n",
    "\n",
    "  for word,i in tokenizer.word_index.items():\n",
    "      embedding_vector = embeddings_index.get(word)\n",
    "      if embedding_vector is not None:\n",
    "          embedding_matrix[i] = embedding_vector\n",
    "  # tf-idf vectors do not keep the original sequence of words, converting them into actual word sequences from the documents\n",
    "\n",
    "  document_embeddings=np.zeros((len(tokenized_paded_documents),50))\n",
    "  words=tfidfvectoriser.get_feature_names()\n",
    "\n",
    "  for i in range(documents_df.shape[0]):\n",
    "      for j in range(len(words)):\n",
    "          document_embeddings[i]+=embedding_matrix[tokenizer.word_index[words[j]]]*tfidf_vectors[i][j]\n",
    "        \n",
    "  document_embeddings=document_embeddings/np.sum(tfidf_vectors,axis=1).reshape(-1,1)\n",
    "  pairwise_similarities=cosine_similarity(document_embeddings)\n",
    "  return(pairwise_similarities[0][1])\n"
   ]
  },
  {
   "cell_type": "code",
   "execution_count": 28,
   "metadata": {},
   "outputs": [
    {
     "name": "stdout",
     "output_type": "stream",
     "text": [
      "^C\n"
     ]
    }
   ],
   "source": [
    "!pip install sentence_transformers"
   ]
  },
  {
   "cell_type": "code",
   "execution_count": null,
   "metadata": {
    "id": "o8WWG6Za2Tgb"
   },
   "outputs": [],
   "source": [
    "\n",
    "from sentence_transformers import SentenceTransformer\n",
    "def bertSim(documents_df):\n",
    "  sbert_model = SentenceTransformer('bert-base-nli-mean-tokens')\n",
    "  document_embeddings = sbert_model.encode(documents_df['documents_cleaned'])\n",
    "  pairwise_similarities=cosine_similarity(document_embeddings)\n",
    "  return(pairwise_similarities[0][1])\n"
   ]
  },
  {
   "cell_type": "code",
   "execution_count": 42,
   "metadata": {},
   "outputs": [
    {
     "data": {
      "text/plain": [
       "5500"
      ]
     },
     "execution_count": 42,
     "metadata": {},
     "output_type": "execute_result"
    }
   ],
   "source": [
    "len(dataset)"
   ]
  },
  {
   "cell_type": "markdown",
   "metadata": {
    "id": "Lki5yB53Uz4y"
   },
   "source": [
    "### **Main**"
   ]
  },
  {
   "cell_type": "code",
   "execution_count": null,
   "metadata": {
    "colab": {
     "base_uri": "https://localhost:8080/",
     "height": 1000
    },
    "id": "1-fh90G-2jWd",
    "outputId": "94bb3ca3-3d3f-458f-9e4f-65254b5f7ad3",
    "tags": []
   },
   "outputs": [],
   "source": [
    "#data=pd.read_csv('/content/drive/MyDrive/Thesis Datasets/T1.csv')\n",
    "similarity=list()\n",
    "for row in range(0,len(dataset)):\n",
    "  try:\n",
    "    documents = [dataset['title'][row],dataset['content'][row],]\n",
    "    pd.set_option('display.max_colwidth', 0)\n",
    "    pd.set_option('display.max_columns', 0)\n",
    "    documents_df=pd.DataFrame(documents,columns=['documents'])\n",
    "    preprocssing(documents_df)\n",
    "    tfidfsim=TfidfSim(documents_df)\n",
    "    word2vecsim=word2vecSim(documents_df)\n",
    "    glovesim=gloveSim(documents_df)\n",
    "    bertsim=bertSim(documents_df)\n",
    "    avgSimilarity=(tfidfsim+glovesim+bertsim)/3\n",
    "    print(avgSimilarity,\"-->\",row)\n",
    "    similarity.insert(row,avgSimilarity)\n",
    "  except ValueError:\n",
    "    similarity.insert(row,\"ValueError\")\n",
    "dataset['Orgtitle_contentSim']=similarity"
   ]
  },
  {
   "cell_type": "code",
   "execution_count": 44,
   "metadata": {},
   "outputs": [],
   "source": [
    "dataset.to_csv('Export_dataset3.csv')"
   ]
  },
  {
   "cell_type": "code",
   "execution_count": null,
   "metadata": {},
   "outputs": [],
   "source": []
  },
  {
   "cell_type": "code",
   "execution_count": 45,
   "metadata": {
    "id": "HWFl0K4am-GB",
    "tags": []
   },
   "outputs": [
    {
     "ename": "AttributeError",
     "evalue": "'list' object has no attribute 'split'",
     "output_type": "error",
     "traceback": [
      "\u001b[1;31m---------------------------------------------------------------------------\u001b[0m",
      "\u001b[1;31mAttributeError\u001b[0m                            Traceback (most recent call last)",
      "\u001b[1;32m<ipython-input-45-07b9fffda32e>\u001b[0m in \u001b[0;36m<module>\u001b[1;34m\u001b[0m\n\u001b[0;32m      6\u001b[0m     \u001b[0mpd\u001b[0m\u001b[1;33m.\u001b[0m\u001b[0mset_option\u001b[0m\u001b[1;33m(\u001b[0m\u001b[1;34m'display.max_columns'\u001b[0m\u001b[1;33m,\u001b[0m \u001b[1;36m0\u001b[0m\u001b[1;33m)\u001b[0m\u001b[1;33m\u001b[0m\u001b[1;33m\u001b[0m\u001b[0m\n\u001b[0;32m      7\u001b[0m     \u001b[0mdocuments_df\u001b[0m\u001b[1;33m=\u001b[0m\u001b[0mpd\u001b[0m\u001b[1;33m.\u001b[0m\u001b[0mDataFrame\u001b[0m\u001b[1;33m(\u001b[0m\u001b[0mdocuments\u001b[0m\u001b[1;33m,\u001b[0m\u001b[0mcolumns\u001b[0m\u001b[1;33m=\u001b[0m\u001b[1;33m[\u001b[0m\u001b[1;34m'documents'\u001b[0m\u001b[1;33m]\u001b[0m\u001b[1;33m)\u001b[0m\u001b[1;33m\u001b[0m\u001b[1;33m\u001b[0m\u001b[0m\n\u001b[1;32m----> 8\u001b[1;33m     \u001b[0mpreprocssing\u001b[0m\u001b[1;33m(\u001b[0m\u001b[0mdocuments_df\u001b[0m\u001b[1;33m)\u001b[0m\u001b[1;33m\u001b[0m\u001b[1;33m\u001b[0m\u001b[0m\n\u001b[0m\u001b[0;32m      9\u001b[0m     \u001b[0mtfidfsim\u001b[0m\u001b[1;33m=\u001b[0m\u001b[0mTfidfSim\u001b[0m\u001b[1;33m(\u001b[0m\u001b[0mdocuments_df\u001b[0m\u001b[1;33m)\u001b[0m\u001b[1;33m\u001b[0m\u001b[1;33m\u001b[0m\u001b[0m\n\u001b[0;32m     10\u001b[0m     \u001b[0mword2vecsim\u001b[0m\u001b[1;33m=\u001b[0m\u001b[0mword2vecSim\u001b[0m\u001b[1;33m(\u001b[0m\u001b[0mdocuments_df\u001b[0m\u001b[1;33m)\u001b[0m\u001b[1;33m\u001b[0m\u001b[1;33m\u001b[0m\u001b[0m\n",
      "\u001b[1;32m<ipython-input-22-754e2561aa49>\u001b[0m in \u001b[0;36mpreprocssing\u001b[1;34m(documents_df)\u001b[0m\n\u001b[0;32m      1\u001b[0m \u001b[1;32mdef\u001b[0m \u001b[0mpreprocssing\u001b[0m\u001b[1;33m(\u001b[0m\u001b[0mdocuments_df\u001b[0m\u001b[1;33m)\u001b[0m\u001b[1;33m:\u001b[0m\u001b[1;33m\u001b[0m\u001b[1;33m\u001b[0m\u001b[0m\n\u001b[0;32m      2\u001b[0m   \u001b[0mstop_words_l\u001b[0m\u001b[1;33m=\u001b[0m\u001b[0mstopwords\u001b[0m\u001b[1;33m.\u001b[0m\u001b[0mwords\u001b[0m\u001b[1;33m(\u001b[0m\u001b[1;34m'english'\u001b[0m\u001b[1;33m)\u001b[0m\u001b[1;33m\u001b[0m\u001b[1;33m\u001b[0m\u001b[0m\n\u001b[1;32m----> 3\u001b[1;33m   \u001b[0mdocuments_df\u001b[0m\u001b[1;33m[\u001b[0m\u001b[1;34m'documents_cleaned'\u001b[0m\u001b[1;33m]\u001b[0m\u001b[1;33m=\u001b[0m\u001b[0mdocuments_df\u001b[0m\u001b[1;33m.\u001b[0m\u001b[0mdocuments\u001b[0m\u001b[1;33m.\u001b[0m\u001b[0mapply\u001b[0m\u001b[1;33m(\u001b[0m\u001b[1;32mlambda\u001b[0m \u001b[0mx\u001b[0m\u001b[1;33m:\u001b[0m \u001b[1;34m\" \"\u001b[0m\u001b[1;33m.\u001b[0m\u001b[0mjoin\u001b[0m\u001b[1;33m(\u001b[0m\u001b[0mre\u001b[0m\u001b[1;33m.\u001b[0m\u001b[0msub\u001b[0m\u001b[1;33m(\u001b[0m\u001b[1;34mr'[^a-zA-Z]'\u001b[0m\u001b[1;33m,\u001b[0m\u001b[1;34m' '\u001b[0m\u001b[1;33m,\u001b[0m\u001b[0mw\u001b[0m\u001b[1;33m)\u001b[0m\u001b[1;33m.\u001b[0m\u001b[0mlower\u001b[0m\u001b[1;33m(\u001b[0m\u001b[1;33m)\u001b[0m \u001b[1;32mfor\u001b[0m \u001b[0mw\u001b[0m \u001b[1;32min\u001b[0m \u001b[0mx\u001b[0m\u001b[1;33m.\u001b[0m\u001b[0msplit\u001b[0m\u001b[1;33m(\u001b[0m\u001b[1;33m)\u001b[0m \u001b[1;32mif\u001b[0m \u001b[0mre\u001b[0m\u001b[1;33m.\u001b[0m\u001b[0msub\u001b[0m\u001b[1;33m(\u001b[0m\u001b[1;34mr'[^a-zA-Z]'\u001b[0m\u001b[1;33m,\u001b[0m\u001b[1;34m' '\u001b[0m\u001b[1;33m,\u001b[0m\u001b[0mw\u001b[0m\u001b[1;33m)\u001b[0m\u001b[1;33m.\u001b[0m\u001b[0mlower\u001b[0m\u001b[1;33m(\u001b[0m\u001b[1;33m)\u001b[0m \u001b[1;32mnot\u001b[0m \u001b[1;32min\u001b[0m \u001b[0mstop_words_l\u001b[0m\u001b[1;33m)\u001b[0m \u001b[1;33m)\u001b[0m\u001b[1;33m\u001b[0m\u001b[1;33m\u001b[0m\u001b[0m\n\u001b[0m",
      "\u001b[1;32m~\\miniconda3\\envs\\tensorflow\\lib\\site-packages\\pandas\\core\\series.py\u001b[0m in \u001b[0;36mapply\u001b[1;34m(self, func, convert_dtype, args, **kwds)\u001b[0m\n\u001b[0;32m   4136\u001b[0m             \u001b[1;32melse\u001b[0m\u001b[1;33m:\u001b[0m\u001b[1;33m\u001b[0m\u001b[1;33m\u001b[0m\u001b[0m\n\u001b[0;32m   4137\u001b[0m                 \u001b[0mvalues\u001b[0m \u001b[1;33m=\u001b[0m \u001b[0mself\u001b[0m\u001b[1;33m.\u001b[0m\u001b[0mastype\u001b[0m\u001b[1;33m(\u001b[0m\u001b[0mobject\u001b[0m\u001b[1;33m)\u001b[0m\u001b[1;33m.\u001b[0m\u001b[0m_values\u001b[0m\u001b[1;33m\u001b[0m\u001b[1;33m\u001b[0m\u001b[0m\n\u001b[1;32m-> 4138\u001b[1;33m                 \u001b[0mmapped\u001b[0m \u001b[1;33m=\u001b[0m \u001b[0mlib\u001b[0m\u001b[1;33m.\u001b[0m\u001b[0mmap_infer\u001b[0m\u001b[1;33m(\u001b[0m\u001b[0mvalues\u001b[0m\u001b[1;33m,\u001b[0m \u001b[0mf\u001b[0m\u001b[1;33m,\u001b[0m \u001b[0mconvert\u001b[0m\u001b[1;33m=\u001b[0m\u001b[0mconvert_dtype\u001b[0m\u001b[1;33m)\u001b[0m\u001b[1;33m\u001b[0m\u001b[1;33m\u001b[0m\u001b[0m\n\u001b[0m\u001b[0;32m   4139\u001b[0m \u001b[1;33m\u001b[0m\u001b[0m\n\u001b[0;32m   4140\u001b[0m         \u001b[1;32mif\u001b[0m \u001b[0mlen\u001b[0m\u001b[1;33m(\u001b[0m\u001b[0mmapped\u001b[0m\u001b[1;33m)\u001b[0m \u001b[1;32mand\u001b[0m \u001b[0misinstance\u001b[0m\u001b[1;33m(\u001b[0m\u001b[0mmapped\u001b[0m\u001b[1;33m[\u001b[0m\u001b[1;36m0\u001b[0m\u001b[1;33m]\u001b[0m\u001b[1;33m,\u001b[0m \u001b[0mSeries\u001b[0m\u001b[1;33m)\u001b[0m\u001b[1;33m:\u001b[0m\u001b[1;33m\u001b[0m\u001b[1;33m\u001b[0m\u001b[0m\n",
      "\u001b[1;32mpandas\\_libs\\lib.pyx\u001b[0m in \u001b[0;36mpandas._libs.lib.map_infer\u001b[1;34m()\u001b[0m\n",
      "\u001b[1;32m<ipython-input-22-754e2561aa49>\u001b[0m in \u001b[0;36m<lambda>\u001b[1;34m(x)\u001b[0m\n\u001b[0;32m      1\u001b[0m \u001b[1;32mdef\u001b[0m \u001b[0mpreprocssing\u001b[0m\u001b[1;33m(\u001b[0m\u001b[0mdocuments_df\u001b[0m\u001b[1;33m)\u001b[0m\u001b[1;33m:\u001b[0m\u001b[1;33m\u001b[0m\u001b[1;33m\u001b[0m\u001b[0m\n\u001b[0;32m      2\u001b[0m   \u001b[0mstop_words_l\u001b[0m\u001b[1;33m=\u001b[0m\u001b[0mstopwords\u001b[0m\u001b[1;33m.\u001b[0m\u001b[0mwords\u001b[0m\u001b[1;33m(\u001b[0m\u001b[1;34m'english'\u001b[0m\u001b[1;33m)\u001b[0m\u001b[1;33m\u001b[0m\u001b[1;33m\u001b[0m\u001b[0m\n\u001b[1;32m----> 3\u001b[1;33m   \u001b[0mdocuments_df\u001b[0m\u001b[1;33m[\u001b[0m\u001b[1;34m'documents_cleaned'\u001b[0m\u001b[1;33m]\u001b[0m\u001b[1;33m=\u001b[0m\u001b[0mdocuments_df\u001b[0m\u001b[1;33m.\u001b[0m\u001b[0mdocuments\u001b[0m\u001b[1;33m.\u001b[0m\u001b[0mapply\u001b[0m\u001b[1;33m(\u001b[0m\u001b[1;32mlambda\u001b[0m \u001b[0mx\u001b[0m\u001b[1;33m:\u001b[0m \u001b[1;34m\" \"\u001b[0m\u001b[1;33m.\u001b[0m\u001b[0mjoin\u001b[0m\u001b[1;33m(\u001b[0m\u001b[0mre\u001b[0m\u001b[1;33m.\u001b[0m\u001b[0msub\u001b[0m\u001b[1;33m(\u001b[0m\u001b[1;34mr'[^a-zA-Z]'\u001b[0m\u001b[1;33m,\u001b[0m\u001b[1;34m' '\u001b[0m\u001b[1;33m,\u001b[0m\u001b[0mw\u001b[0m\u001b[1;33m)\u001b[0m\u001b[1;33m.\u001b[0m\u001b[0mlower\u001b[0m\u001b[1;33m(\u001b[0m\u001b[1;33m)\u001b[0m \u001b[1;32mfor\u001b[0m \u001b[0mw\u001b[0m \u001b[1;32min\u001b[0m \u001b[0mx\u001b[0m\u001b[1;33m.\u001b[0m\u001b[0msplit\u001b[0m\u001b[1;33m(\u001b[0m\u001b[1;33m)\u001b[0m \u001b[1;32mif\u001b[0m \u001b[0mre\u001b[0m\u001b[1;33m.\u001b[0m\u001b[0msub\u001b[0m\u001b[1;33m(\u001b[0m\u001b[1;34mr'[^a-zA-Z]'\u001b[0m\u001b[1;33m,\u001b[0m\u001b[1;34m' '\u001b[0m\u001b[1;33m,\u001b[0m\u001b[0mw\u001b[0m\u001b[1;33m)\u001b[0m\u001b[1;33m.\u001b[0m\u001b[0mlower\u001b[0m\u001b[1;33m(\u001b[0m\u001b[1;33m)\u001b[0m \u001b[1;32mnot\u001b[0m \u001b[1;32min\u001b[0m \u001b[0mstop_words_l\u001b[0m\u001b[1;33m)\u001b[0m \u001b[1;33m)\u001b[0m\u001b[1;33m\u001b[0m\u001b[1;33m\u001b[0m\u001b[0m\n\u001b[0m",
      "\u001b[1;31mAttributeError\u001b[0m: 'list' object has no attribute 'split'"
     ]
    }
   ],
   "source": [
    "similarityTM=list()\n",
    "for row in range(0,len(dataset)):\n",
    "  try:\n",
    "    documents = [dataset['title'][row],dataset['ContentTM'][row],]\n",
    "    pd.set_option('display.max_colwidth', 0)\n",
    "    pd.set_option('display.max_columns', 0)\n",
    "    documents_df=pd.DataFrame(documents,columns=['documents'])\n",
    "    preprocssing(documents_df)\n",
    "    tfidfsim=TfidfSim(documents_df)\n",
    "    word2vecsim=word2vecSim(documents_df)\n",
    "    glovesim=gloveSim(documents_df)\n",
    "    bertsim=bertSim(documents_df)\n",
    "    avgSimilarity=(tfidfsim+glovesim+bertsim)/3\n",
    "    print(avgSimilarity,\"-->\",row)\n",
    "    similarityTM.insert(row,avgSimilarity)\n",
    "  except ValueError:\n",
    "    similarityTM.insert(row,\"ValueError\")\n",
    "dataset['TopicModellingSim'] = similarityTM"
   ]
  },
  {
   "cell_type": "code",
   "execution_count": null,
   "metadata": {
    "id": "zOscXMA9rnFT"
   },
   "outputs": [],
   "source": [
    "dataset.to_csv('Export_dataset10.csv')"
   ]
  },
  {
   "cell_type": "markdown",
   "metadata": {
    "id": "pyMn1LMAMdEK"
   },
   "source": [
    "# **Sentiment Analysis**"
   ]
  },
  {
   "cell_type": "code",
   "execution_count": 46,
   "metadata": {
    "id": "ocpDed3iMfVo"
   },
   "outputs": [
    {
     "name": "stdout",
     "output_type": "stream",
     "text": [
      "Collecting afinn\n",
      "  Downloading afinn-0.1.tar.gz (52 kB)\n",
      "Building wheels for collected packages: afinn\n",
      "  Building wheel for afinn (setup.py): started\n",
      "  Building wheel for afinn (setup.py): finished with status 'done'\n",
      "  Created wheel for afinn: filename=afinn-0.1-py3-none-any.whl size=53450 sha256=f0847f1a4a9b41b857811758ca69c52e78c30a545034e83693441a52ed51b61d\n",
      "  Stored in directory: c:\\users\\wintest\\appdata\\local\\pip\\cache\\wheels\\9d\\16\\3a\\9f0953027434eab5dadf3f33ab3298fa95afa8292fcf7aba75\n",
      "Successfully built afinn\n",
      "Installing collected packages: afinn\n",
      "Successfully installed afinn-0.1\n"
     ]
    }
   ],
   "source": [
    "\n",
    "!pip install afinn"
   ]
  },
  {
   "cell_type": "code",
   "execution_count": 47,
   "metadata": {
    "id": "eoI07JYjMjrv"
   },
   "outputs": [],
   "source": [
    "from afinn import Afinn\n",
    "afinn = Afinn(language='en')"
   ]
  },
  {
   "cell_type": "code",
   "execution_count": 48,
   "metadata": {
    "id": "tz6m84GbMo1n"
   },
   "outputs": [],
   "source": [
    "dataset['afinn_score'] = dataset['content'].apply(afinn.score)"
   ]
  },
  {
   "cell_type": "code",
   "execution_count": null,
   "metadata": {
    "id": "W50mCwvGNTqY"
   },
   "outputs": [],
   "source": [
    "dataset"
   ]
  },
  {
   "cell_type": "code",
   "execution_count": 49,
   "metadata": {
    "id": "u4vN0_XS0ncg"
   },
   "outputs": [
    {
     "name": "stdout",
     "output_type": "stream",
     "text": [
      "Collecting vaderSentiment\n",
      "  Downloading vaderSentiment-3.3.2-py2.py3-none-any.whl (125 kB)\n",
      "Requirement already satisfied: requests in c:\\users\\wintest\\miniconda3\\envs\\tensorflow\\lib\\site-packages (from vaderSentiment) (2.25.1)\n",
      "Requirement already satisfied: certifi>=2017.4.17 in c:\\users\\wintest\\miniconda3\\envs\\tensorflow\\lib\\site-packages (from requests->vaderSentiment) (2021.5.30)\n",
      "Requirement already satisfied: chardet<5,>=3.0.2 in c:\\users\\wintest\\miniconda3\\envs\\tensorflow\\lib\\site-packages (from requests->vaderSentiment) (3.0.4)\n",
      "Requirement already satisfied: idna<3,>=2.5 in c:\\users\\wintest\\miniconda3\\envs\\tensorflow\\lib\\site-packages (from requests->vaderSentiment) (2.10)\n",
      "Requirement already satisfied: urllib3<1.27,>=1.21.1 in c:\\users\\wintest\\miniconda3\\envs\\tensorflow\\lib\\site-packages (from requests->vaderSentiment) (1.25.11)\n",
      "Installing collected packages: vaderSentiment\n",
      "Successfully installed vaderSentiment-3.3.2\n"
     ]
    }
   ],
   "source": [
    "!pip install vaderSentiment"
   ]
  },
  {
   "cell_type": "code",
   "execution_count": 50,
   "metadata": {
    "id": "PEKX5T0-0pyP"
   },
   "outputs": [],
   "source": [
    "from vaderSentiment.vaderSentiment import SentimentIntensityAnalyzer"
   ]
  },
  {
   "cell_type": "code",
   "execution_count": 51,
   "metadata": {
    "id": "0rTmMp6eWD7E"
   },
   "outputs": [
    {
     "data": {
      "text/html": [
       "<div>\n",
       "<style scoped>\n",
       "    .dataframe tbody tr th:only-of-type {\n",
       "        vertical-align: middle;\n",
       "    }\n",
       "\n",
       "    .dataframe tbody tr th {\n",
       "        vertical-align: top;\n",
       "    }\n",
       "\n",
       "    .dataframe thead th {\n",
       "        text-align: right;\n",
       "    }\n",
       "</style>\n",
       "<table border=\"1\" class=\"dataframe\">\n",
       "  <thead>\n",
       "    <tr style=\"text-align: right;\">\n",
       "      <th></th>\n",
       "      <th>title</th>\n",
       "      <th>url</th>\n",
       "      <th>date_published</th>\n",
       "      <th>author_name</th>\n",
       "      <th>content</th>\n",
       "      <th>label</th>\n",
       "      <th>countOfPosWord</th>\n",
       "      <th>countOfNegWord</th>\n",
       "      <th>NumberOfChar</th>\n",
       "      <th>NumberOfWords</th>\n",
       "      <th>NumberOfSentences</th>\n",
       "      <th>AvgCharPerWord</th>\n",
       "      <th>AvgWordPerSent</th>\n",
       "      <th>NumberOfUpCase</th>\n",
       "      <th>NumberOfPunctuatuion</th>\n",
       "      <th>ContentTM</th>\n",
       "      <th>Orgtitle_contentSim</th>\n",
       "      <th>afinn_score</th>\n",
       "    </tr>\n",
       "  </thead>\n",
       "  <tbody>\n",
       "    <tr>\n",
       "      <th>0</th>\n",
       "      <td>Trump fights release of video testimony in fraud case</td>\n",
       "      <td>NaN</td>\n",
       "      <td>6/13/2016</td>\n",
       "      <td>none</td>\n",
       "      <td>Lawyers for Republican presidential candidate Donald Trump on Monday filed court papers opposing the release of video showing him being questioned under oath about his Trump University series of real estate seminars. They argued that making public the videos, for which written transcripts are already available, would prejudice Trumpâ€™s case. The video is â€œunnecessary, irrelevant and unjustified,â€ lawyers for Trump wrote in court papers filed in federal court in San Diego. In legal proceedings, evidence is considered prejudicial if it may interfere with a judge or juryâ€™s objective consideration of the facts. Such evidence can still be presented if it is considered highly relevant to the case.  The Republican candidate has already claimed the federal judge overseeing the case is biased against him because of the judgeâ€™s Mexican heritage. Trump may also have concerns about the impact the videos could have outside the courtroom. On Friday, CNN, CBS, the New York Times, and other media outlets asked for the complete deposition transcripts and videotapes to be made available. If released, the videos could provide fodder for campaign commercials against Trump. In lawsuits in California and New York, Trump has been accused of bilking students who paid as much as $35,000 for an opportunity to learn the businessmanâ€™s real estate investment strategies. Former Trump University students suing the billionaire claim that they learned little and that their instructors, supposedly hand-picked by Trump, had few qualifications.  During deposition, Trump has admitted that he did not select instructors. His lawyers have argued the â€œhand-pickedâ€ claim amounted to mere sales â€œpufferyâ€ rather than fraud. In court papers arguing for the videosâ€™ release, lawyers for the students argued the images presented nuances not available in the transcripts. â€œTrumpâ€™s tone, facial expressions, gestures and body language... speak volumes to... Trumpâ€™s complete and utter unfamiliarity with the instructors and â€˜instructionâ€™ that student-victims received,â€ they said. Trump has said the claims over Trump University are baseless and that students highly rated the programs.  The case is Art Cohen v Donald J. Trump, 13-cv-2519, U.S. District Court, Southern District of California.</td>\n",
       "      <td>True</td>\n",
       "      <td>1</td>\n",
       "      <td>7</td>\n",
       "      <td>1964</td>\n",
       "      <td>342</td>\n",
       "      <td>16</td>\n",
       "      <td>5.74</td>\n",
       "      <td>21.375000</td>\n",
       "      <td>63</td>\n",
       "      <td>54</td>\n",
       "      <td>[trump, video, court, lawyer, papers, instructor, student, federal, claim, could]</td>\n",
       "      <td>0.676238</td>\n",
       "      <td>-14.0</td>\n",
       "    </tr>\n",
       "    <tr>\n",
       "      <th>1</th>\n",
       "      <td>Trump University lawyers ask judge for another shot at ending class action</td>\n",
       "      <td>NaN</td>\n",
       "      <td>6/7/2016</td>\n",
       "      <td>none</td>\n",
       "      <td>Lawyers for Republican presidential candidate Donald Trump asked the California federal judge he attacked last week as biased based on his Mexican heritage to end the Trump University fraud class action currently scheduled to go on trial in November.  In filings late on Friday, Trumpâ€™s lawyers argued the case should not continue as a class action including all students who took the classes in California, New York and Florida. The lawyers claimed the studentsâ€™ cases were too dissimilar to be heard as a class because they were exposed to different marketing and advertisements and were told different things by Trump University employees. San Diego U.S. District Court Judge Gonzalo P. Curiel is overseeing two class action lawsuits over Trump University. Last week, the presidential candidate said Curiel had treated him unfairly because he was a Mexican opposed to Trumpâ€™s proposal to build a wall along the U.S. border with Mexico. The judge was born in Indiana to Mexican parents. Trumpâ€™s lawyers on Friday sought permission from Judge Curiel to renew an earlier motion to decertify the class. The judge previously ruled the case could proceed as a class action on the issue of liability, though each student would have to prove damages separately. In April, Trumpâ€™s lawyers also filed a motion to decertify the class in the other California case. The judge has not yet ruled on that motion. If the judge were to decertify the classes, former Trump University students would have to bring individual lawsuits.  Trump and his for-profit real estate seminars have been accused of bilking students who paid as much as $35,000 for an opportunity to learn the businessmanâ€™s real estate investment strategies. The students claim they were defrauded, including by false claims that he had handpicked instructors to teach them his secrets.  â€œGiven TU studentsâ€™ radically different experiences, plaintiffs cannot showÂ that TU students were exposed to the same â€˜coreâ€™ misrepresentations,â€ Daniel Petrocelli, a lawyer for Trump, wrote in Fridayâ€™s filing.  Lawyers for the plaintiffs declined to comment on the filing.</td>\n",
       "      <td>True</td>\n",
       "      <td>0</td>\n",
       "      <td>7</td>\n",
       "      <td>1801</td>\n",
       "      <td>336</td>\n",
       "      <td>13</td>\n",
       "      <td>5.36</td>\n",
       "      <td>25.846154</td>\n",
       "      <td>67</td>\n",
       "      <td>34</td>\n",
       "      <td>[trump, class, student, lawyer, judge, university, curiel, trumpâ€, action, claim]</td>\n",
       "      <td>0.725248</td>\n",
       "      <td>-16.0</td>\n",
       "    </tr>\n",
       "    <tr>\n",
       "      <th>2</th>\n",
       "      <td>Bashing Trump not enough for Democrats to win Latino vote, advocates warn</td>\n",
       "      <td>NaN</td>\n",
       "      <td>5/27/2016</td>\n",
       "      <td>none</td>\n",
       "      <td>Latino groups have criticized the Democratic Party for relying too heavily on Republican Donald Trumpâ€™s inflammatory comments on illegal immigration to drive Hispanic voters to the polls, calling instead for the party to do more to address Latino concerns, according to meeting notes seen by Reuters. â€œ(W)e cannot rely on Trump as that will set us up for failure,â€ according to notes summarizing a meeting on May 2 between Democratic Party officials and representatives of several Hispanic advocacy groups. â€œOur valuesâ€¦ need to be uplifted,â€ they continued. Hispanics make up around 17 percent of the U.S. population, making them a critical voter group in what is expected to be a tight race between Trump and the Democratic nominee.  Democratic operatives have called Trump an ideal spur for getting out the Latino vote because of his hard-line approach to illegal immigration, with some canvassers even using his picture to help encourage Hispanics to register..  The New York billionaire and now presumptive Republican nominee made waves early in his campaign by saying Mexico was sending rapists and drug dealers over the border. He has vowed to make Mexico pay for building a wall to block them and promised to round up and deport the millions of undocumented immigrants now in the United States. By contrast, Democratic contenders for the White House, front-runner Hillary Clinton and rival U.S. Senator Bernie Sanders of Vermont, have both promised to provide undocumented immigrants a path to legal status. The have also promised to nominate Latinos to key posts in their prospective administrations. At least two Hispanics are also considered candidates to be the running mate to the eventual Democratic presidential nominee: Labor Secretary Thomas Perez and Housing and Urban Development Secretary Julian Castro.   â€œWhile Latinos appear to be a solid part of the Democratic base right now, that can certainly change,â€ said Brent Wilkes, the treasurer for the National Hispanic Leadership Agenda and the national executive director of the League of United Latin American Citizens, who was present at the meeting.  In the last election in 2012, Latinos constituted 10 percent of the electorate and voted for President Barack Obama over Republican Mitt Romney by 71 percent to 27 percent, according to an analysis of exit polls by the Pew Hispanic Center. Many Latino advocates also stressed to the Democratic Party that, as members of nonpartisan organizations, their concerns are in addressing issues within their communities, such as education and the economy, rather than backing any one party or candidate. The Democratic delegation at the meeting, which according to the notes included the new Hispanic outreach director, Bridgette Gomez, assured the advocates their Latino outreach strategy was not merely Trump-focused, one participant said.  â€œDonald Trumpâ€™s candidacy fits into a much longer term and more thoughtful approach than just one election cycle,â€ Democratic National Committee spokesman Pablo Manriquez said on Friday. He added that the party is focused on broader issues such as voting rights and the concerns of Latino families for this election and beyond.    Participants at the meeting also told the party they didnâ€™t see enough Latinos in the pipeline for future leadership positions, including elected office around the country, according to the meeting notes. â€œItâ€™s not just infrastructure for political participation, but how to get people to run for office, how to teach people to run their own campaigns,â€ said Maria Teresa Kumar, president of Voto Latino, which had a representative at the meeting.</td>\n",
       "      <td>True</td>\n",
       "      <td>11</td>\n",
       "      <td>13</td>\n",
       "      <td>3088</td>\n",
       "      <td>570</td>\n",
       "      <td>10</td>\n",
       "      <td>5.42</td>\n",
       "      <td>57.000000</td>\n",
       "      <td>115</td>\n",
       "      <td>60</td>\n",
       "      <td>[latino, democratic, meeting, party, hispanic, accord, concern, national, trump, republican]</td>\n",
       "      <td>0.649029</td>\n",
       "      <td>9.0</td>\n",
       "    </tr>\n",
       "    <tr>\n",
       "      <th>3</th>\n",
       "      <td>Bernie Sanders' ghost tweeter keeps his Brooklyn accent</td>\n",
       "      <td>NaN</td>\n",
       "      <td>4/3/2016</td>\n",
       "      <td>none</td>\n",
       "      <td>Last August, Bernie Sanders sat on a Craigslist-bought beige couch in his Washington office plotting to steal the social media spotlight from 10 Republicans taking the stage for the first televised debate of the 2016 presidential campaign. Â Â Â  Next to the Democratic presidential candidate, 74, sat 27-year-old Hector Sigala, his digital media director. For the next two hours, Sigala turned Sandersâ€™ sometimes acerbic, sometimes funny running commentary into a stream of 140-character tweets using the hashtag #DebateWithBernie that stole the show - at least on Twitter.  Some 17 million people were reached during the debate, according to the campaignâ€™s Twitter data reviewed by Reuters. It was the first in a string of Twitter wins by Sanders during a presidential contest widely viewed as a coming-of-age moment for social media in national politics. Sanders didnâ€™t even stop when the debate was interrupted by commercials. When an ad for a new Tom Hanks film appeared, he tweeted: â€œTom Hanks. Finally. Somebody who makes some sense.â€  Eight months later, Sigala is a key lieutenant in the Sanders campaign for the 2016 Democratic presidential nomination, one of a new breed of digital media specialists who have become indispensable in an election where platforms like Twitter allow candidates to communicate with supporters easily, bash opponents or swiftly counter-attack. Sigala goes everywhere â€“ on dates, to parties and to restaurants â€“ with his black backpack and MacBook laptop just in case something tweet-worthy breaks. He was driving his cousin to the airport last Wednesday when Donald Trump, the frontrunner for the Republican nomination, said women who end pregnancies should be punished if the United States bans abortion, comments that were widely condemned. Sigala pulled the car over and tweeted: â€œYour Republican frontrunner, ladies and gentlemen. Shameful.â€ Sanders has close to 2 million followers on his Twitter campaign account and has tweeted nearly 8,000 times. His opponent, Hillary Clinton, has tweeted less, 5,000 times, but she has nearly 6 million followers.  Sanders, however, has an edge because his tweets are much more personalized than Clintonâ€™s, say some social media strategy experts. â€œHeâ€™s been able to really resonate with (different groups) and connect with them on a level that many other candidates have not been able to do,â€ said marketing consultant and social media strategy specialist Dr. Kay Green. While Twitter could not provide data directly comparing the 2016 and 2012 presidential races, a spokesman said tweets about the Democrat and Republican primary debates held so far have been viewed 9 billion times. On Facebook, the number of interactions (likes, posts, comments and shares) related to the 2016 election is up exponentially. Facebook users engaged in 411.5 million interactions on average in January and February, up nearly threefold from the nearly 142 million per month average for all of 2015.  â€œThe most obvious difference in the social conversations around the 2012 and 2016 presidential elections is, simply put, size,â€ said Kellan Terry, an analyst with Brandwatch, a company that tracks and analyzes data from social media sites. â€œThe volume of social mentions around this yearâ€™s presidential election is massive.â€  Sigala and Sanders met in 2012 when he interned in Sandersâ€™ Senate office in Vermont. Sanders, he says, bonded with him during a stroll down Church Street in Burlington, discussing a topic only Internet nerds could love: net neutrality.  Â Â Â  Now, he manages both Sandersâ€™ and his wife Janeâ€™s social media accounts. In practice that means he is the person tweeting comments attributed to Sanders. On Twitter, â€œI am Bernie Sanders,â€ Sigala joked. Twitter tends to attract more millennials, who have largely backed the Brooklyn-born Vermont senator. The tweets and posts that get the best reaction are those that appear to be directly from Sandersâ€™ mouth.  Â Â Â Â â€œHe used to come up with a lot of quips himself,â€ Sigala said of Sanders, but the rigors of the 2016 campaign schedule mean Sigala is now often the one doing the tweeting. Â Â Â  Tweets about Sandersâ€™ bread-and-butter issues like climate change, healthcare, race and gender typically roll off Sigalaâ€™s fingertips in a tone and style that would be hard to distinguish from the senatorâ€™s.  Take, for example, a tweet from Sandersâ€™ Twitter handle on March 18 in response to a debate over student tuition that was posted by Sigala in the first person:  â€œEvery public college and university in this country should be tuition-free. I know my opponent thinks itâ€™s a radical idea, I donâ€™t,â€ it said, taking a dig at Clinton. Â Â Â  But some news events require Sandersâ€™ sign-off. On the day of the Brussels bomb attacks, in which 32 people were killed, Sigala had to wait hours before getting the go-ahead from a busy Sanders to post a condolence message. On a recent afternoon, Sigala was sitting in a Washington office posting messages to various social media sites while a college basketball game played on a nearby TV. When he isnâ€™t live-tweeting or reacting to breaking news, heâ€™s referring to a Microsoft Word document that contains 54 pages of prepared tweets on a list of issues.  When he took over the @BernieSanders Twitter account last May it had 50,000 followers. He would check it obsessively each day to see how many new followers it had attracted.  Now, with nearly 2 million followers, Sigala is less focused on the numbers and more interested in figuring out which tweets perform best. For example, he has discovered through trial and error that a tweet reading â€œWe have got toâ€ do something will do significantly worse than a tweet reading â€œWe gotta.â€ â€œThatâ€™s because it sounds like Brooklyn Bernie,â€ Sigala said with a laugh.</td>\n",
       "      <td>True</td>\n",
       "      <td>6</td>\n",
       "      <td>13</td>\n",
       "      <td>4941</td>\n",
       "      <td>941</td>\n",
       "      <td>25</td>\n",
       "      <td>5.25</td>\n",
       "      <td>37.640000</td>\n",
       "      <td>163</td>\n",
       "      <td>132</td>\n",
       "      <td>[tweet, sigala, medium, sander, sandersâ€, twitter, presidential, social, million, debate]</td>\n",
       "      <td>0.351266</td>\n",
       "      <td>19.0</td>\n",
       "    </tr>\n",
       "    <tr>\n",
       "      <th>4</th>\n",
       "      <td>Trump's missing donors: the people who work for him</td>\n",
       "      <td>NaN</td>\n",
       "      <td>10/13/2016</td>\n",
       "      <td>none</td>\n",
       "      <td>Kerry Woolard, the 37-year-old manager of Trump Winery in Charlottesville, Virginia, went online in June and made her first political contribution: A $250 donation to the campaign of her boss, Republican presidential nominee Donald Trump. Woolardâ€™s donation was unusual. Only a dozen of an estimated 22,450 people employed at Trumpâ€™s companies have donated more than $200 to the celebrity businessmanâ€™s bid for the U.S. presidency, a Reuters review of federal campaign finance records through August shows. Those who gave less to either Trumpâ€™s campaign or his joint fundraising committees would not have shown up in the review.  The contributors, including an office cleaner, a golf course groundskeeper, a bartender and an attorney, have given $5,298 to Trumpâ€™s campaign, a fraction of the $112 million Trumpâ€™s political operation has received from donors and joint fundraisers. An employee at Trump enterprises gave $275 to the campaign of her employerâ€™s Democratic rival, Hillary Clinton. A 13th Trump employee, a lawyer at the Trump Organization, contributed to a Trump Super PAC, giving $1,000. â€œHonestly, I wish I could do more,â€ said Woolard, who addressed the Republican national convention in July and has attended private dinners with Trump, his wife Melania, and their son, Barron. â€œHe is an amazing boss, has been a great leader and I believe would do a great job for our country.â€ Trump has made his business record central to his campaign. He often speaks about the thousands of jobs he has created and portrays himself as a dealmaker who drove hard bargains and avoided paying taxes to benefit his company, his family and his employees.  Those employees may vote for Trump on Nov. 8, and could be supporting his candidacy with smaller-dollar contributions that do not appear on the filings. But when it comes to putting more significant money toward Trumpâ€™s candidacy, his workers have shown little inclination to support their boss.    Â Â   That stands in stark contrast to the 2012 election, when Mitt Romney, also an affluent businessman, was the Republican nominee. Employees at the private equity firm Romney led and then retired from in 1999, Bain Capital, and a separate company for which he worked, Bain &amp; Company, donated nearly $375,000 directly to his campaign and through joint fundraising committees during a comparable period in the election cycle, FEC records show. Bain Capital employees gave an additional $1.125 million to Romneyâ€™s Super PAC. Clinton received $324,000 directly to her campaign and through her joint fundraising committee from employees at the State Department, where she served as secretary of state from 2009 until 2013, according to FEC filings through August. No State Department employee has given so far to Clintonâ€™s Super PAC. A spokeswoman for the Trump campaign, Hope Hicks, said in an emailed statement: â€œMr. Trump has self-funded the majority of his campaign so the comparison is not realistic.â€  A Trump Organization spokeswoman said: â€œWhile The Trump Organization is not political, there has been tremendous excitement and support for Mr. Trump from his employees, those that know firsthand he is an incredible leader.â€ After vowing to self-fund his campaign - and spending $47 million of his own money to defeat his primary challengers - Trump changed course once he secured the Republican nomination. Of the $112 million he raised, 43 percent came from people who gave $200 or less directly to his campaign.  A study published in September of companies on the Standard &amp; Poorâ€™s 1,500 stock market index found that employeesâ€™ political donations typically mirror those of their chief executive officers.  The study, conducted by business and finance professors at Arizona State University, Bocconi University in Milan and the Swiss Finance Institute in Zurich, found workers donated almost three times more money to candidates supported by their CEOs. The influence of the chief executives was particularly pronounced at firms that explicitly advocate for political campaigns. Reuters cross-referenced Trumpâ€™s federal financial disclosure records, which lists him as controlling more than 500 entities, including some based overseas, with FEC campaign finance data.  The FEC requires that political campaigns disclose the identities, addresses and employers of anyone who contributes $200 or more to Super PACs, a campaign or a joint fundraising committee, which typically coordinates fundraising between a political campaign and the partyâ€™s central organizing body. The estimate of Trumpâ€™s total employees, 22,450, comes from financial data intelligence provider PrivCo and includes some entities abroad. Federal election law stipulates that permanent residents and American citizens, including those working outside the United States, can donate to political campaigns. But foreign nationals working for Trump operations either in the United States or abroad cannot. Six of the 12 people who said they worked for Trump on campaign donation forms did not respond to multiple requests for comment on their home and business phones.  Two had phone numbers that are not in service, according to a background search database. One confirmed his employment and donation before hanging up the phone. Another confirmed her donation but said she needed clearance from the Trump Organization to comment. Â   The only two who discussed their donations with Reuters were Woolard, the Trump Winery manager, and Fred Laderer, an 81-year-old employee at Trump National Golf Club in North Carolina. Laderer made two donations to Republican political entities, of which $56 was earmarked for the Trump campaign.  Laderer, who schedules start times for golfers, said since Trump took over the North Carolina club â€œitâ€™s a much better place to work. The members are much happier.â€  Still, he added that he didnâ€™t donate to Trumpâ€™s campaign because he works for the candidate, but because â€œClinton would bring a lot of bad luggage.â€</td>\n",
       "      <td>True</td>\n",
       "      <td>19</td>\n",
       "      <td>3</td>\n",
       "      <td>5091</td>\n",
       "      <td>930</td>\n",
       "      <td>26</td>\n",
       "      <td>5.47</td>\n",
       "      <td>35.769231</td>\n",
       "      <td>187</td>\n",
       "      <td>142</td>\n",
       "      <td>[campaign, trump, employee, donation, political, trumpâ€, state, joint, record, republican]</td>\n",
       "      <td>0.589138</td>\n",
       "      <td>58.0</td>\n",
       "    </tr>\n",
       "    <tr>\n",
       "      <th>...</th>\n",
       "      <td>...</td>\n",
       "      <td>...</td>\n",
       "      <td>...</td>\n",
       "      <td>...</td>\n",
       "      <td>...</td>\n",
       "      <td>...</td>\n",
       "      <td>...</td>\n",
       "      <td>...</td>\n",
       "      <td>...</td>\n",
       "      <td>...</td>\n",
       "      <td>...</td>\n",
       "      <td>...</td>\n",
       "      <td>...</td>\n",
       "      <td>...</td>\n",
       "      <td>...</td>\n",
       "      <td>...</td>\n",
       "      <td>...</td>\n",
       "      <td>...</td>\n",
       "    </tr>\n",
       "    <tr>\n",
       "      <th>5495</th>\n",
       "      <td>\"Make Republicans Whole Again!\" A divided party struggles to rally behind Trump</td>\n",
       "      <td>NaN</td>\n",
       "      <td>7/21/2016</td>\n",
       "      <td>none</td>\n",
       "      <td>Ted Cruz was recounting to an audience how he had outlasted most of his 16 rivals for the Republican presidential nomination when a plane carrying the man who had won it all, Donald Trump, flew overhead, interrupting him mid-speech. â€œAll right, that was pretty well-orchestrated,â€ said Cruz, a Republican U.S. senator from Texas who waged a bitter campaign against Trump. Hours later Cruz would take his revenge, refusing to endorse Trump and urging Republicans to vote their conscience during a prime-time speech on the floor of the Republican National Convention in Cleveland. He left the podium to a chorus of boos, and his wife was escorted off the floor as the convention erupted in rancor. Susan Hutchison, chair of the Washington state delegation, said she confronted Cruz after his speech and called him a â€œtraitor to the party.â€ So much for party unity. Over three days in Cleveland this week, Republican leaders sought to sell a story of unity. They repeatedly said the party was getting ever closer to rallying behind Trump, who is running on the slogan â€œMake America Great Again!â€ and whose candidacy has divided many and exposed deep discontent among  Republicans with their leaders.  But in a few minutes on Wednesday night that show of unity was blown apart in spectacular fashion. Cruzâ€™s non-committal speech infuriated Trump supporters among the thousands of delegates cramming the floor of the Quicken Loans Arena in Cleveland. But their angry jeers triggered recriminations from other delegates.   â€œThey talk about unity and then they act like that. That is not going to get us to unify,â€ said Manette Merrill, a Cruz delegate from Washington state.  Trump will get the opportunity to rally the party when he formally accepts its nomination on Thursday night in a speech expected to be watched by millions of Americans, including undecided and independent voters. One of Trumpâ€™s key goals going into this weekâ€™s convention was to unite the party after a roughly 18-month primary season that was marked by personal attacks on candidates, sometimes violent rallies, and deep disagreement over what it means to be a Republican. In public and in private the Trump campaign tried to win over skeptics who feel the New York businessman and celebrity TV star does not represent the partyâ€™s values. It took a harder stance against opponents, for example shutting down a desperate last-minute bid on the convention floor early in the week to stop his nomination.  â€œItâ€™s like a slow crawl,â€ former Republican National Committee Chairman Michael Steele said of the unity drive as he made the rounds at the convention. â€œYouâ€™re kind of doing it. Youâ€™re kind of looking around to see if anyone else is doing it,â€ he told Reuters.  But almost from the start there were blatant signs of party disunity.  Ohio Governor John Kasich, who lost to Trump in the nomination fight and disagrees with Trump on a host of issues, declined to attend the convention held in his own state. Instead, he greeted his supporters at the Rock and Roll Hall of Fame close to the convention arena to the blaring tune of The Whoâ€™s â€œBaba Oâ€™Rileyâ€ with lyrics like, â€œI donâ€™t need to fight to prove Iâ€™m right.â€ Trump campaign manager Paul Manafort told reporters that Kasich was â€œembarrassing his stateâ€ by refusing to get on the Trump train. His remarks were a reminder of the sort of insults that many Republicans had hoped would disappear after a brutal primary season that was characterized by Trumpâ€™s often personal attacks on his opponents. The pleas for unity were frequent in Cleveland, led by House of Representatives Speaker Paul Ryan, the top elected Republican, who has been slow in warming to Trump. â€œWhat do you say that we unify this party at this crucial moment when unity is everything?â€ Ryan asked thousands of convention attendees on Tuesday night. It was the biggest applause line of his speech - delegates cheered, clapped and waved signs. But U.S. Senator Mike Lee of Utah, one of the â€œnever Trumpâ€ holdouts, is still not convinced.  â€œFederalism and separation of powers â€“ if he focuses on that, he brings along a lot of conservatives like me who havenâ€™t been sold yet,â€ Lee told Reuters. â€œHe needs to make that a distinct part of his message.â€ Trump and his surrogates have offered scant policy details so far at the convention, nor have they been able to put to rest questions about whether they are capable of mounting a sophisticated presidential campaign to take on his Democratic rival Hillary Clinton. The convention has been overshadowed, for example, by controversy surrounding his wife Melaniaâ€™s convention speech - which included lines uttered by first lady Michelle Obama at the Democratic convention in 2008 - and the campaignâ€™s initial reluctance to admit the plagiarism. Some Republicans thought it was an unnecessary distraction at a time when the party should be focused on selling itself and its new leader to Americans.  Others said that if Trump was really serious about uniting the party he would reach out to his vanquished foes on the campaign trail, including Cruz and Kasich.   Ken Cope, a Texas delegate who had backed Cruz for president but will vote for Trump, said the New York businessman needs to â€œswallow his prideâ€ and stress the contributions his 16 defeated rivals made to the primary process instead of belittling them. â€œHeâ€™s a prideful man and heâ€™s proud of what he is but weâ€™re in a general election campaign and itâ€™s going to take all of us pulling on the rope if weâ€™re going to pull the ship to the final line,â€ Cope said. Still others said Trump needed to be more disciplined. Trump supporter John Whitmer, a delegate from Wichita, Kansas, said Trump made a mistake by going on Fox News on Monday night to rail against Kasich as speakers were lauding his candidacy at the televised convention. â€œYou just stepped on your best act,â€ Whitmer said. â€œI get that you want to talk about Kasich, but everybody needed to be watching what was going on there.â€ After Wednesday night, the best hope for the Republican Party to come together may rest on Clinton, who was frequently vilified at the Cleveland convention this week. She will be formally nominated as the Democratic presidential nominee at her partyâ€™s convention in Philadelphia next week. When asked if the party was unified, former Speaker of the House of Representatives and close Trump adviser, Newt Gingrich, replied: â€œNo, but we will be by the end of Philadelphia.â€ â€œTrump will get us to 90 percent unity. Sheâ€™ll get us the rest of the way.â€</td>\n",
       "      <td>True</td>\n",
       "      <td>22</td>\n",
       "      <td>32</td>\n",
       "      <td>5544</td>\n",
       "      <td>1101</td>\n",
       "      <td>25</td>\n",
       "      <td>5.04</td>\n",
       "      <td>44.040000</td>\n",
       "      <td>187</td>\n",
       "      <td>112</td>\n",
       "      <td>[trump, convention, republican, party, unity, delegate, campaign, going, cleveland, kasich]</td>\n",
       "      <td>0.663017</td>\n",
       "      <td>4.0</td>\n",
       "    </tr>\n",
       "    <tr>\n",
       "      <th>5496</th>\n",
       "      <td>Once a self-funder, Trump's new fundraising machine ramps up</td>\n",
       "      <td>NaN</td>\n",
       "      <td>7/21/2016</td>\n",
       "      <td>none</td>\n",
       "      <td>Republican presidential nominee Donald Trump, who gained popularity partly by bashing wealthy donors and vowing to fund his own campaign, raised nearly as much money in June as the campaign of Democratic rival Hillary Clinton, according to federal reports filed on Wednesday. In the first month in which the Trump campaignâ€™s fundraising machine officially cranked up, Trump raised nearly $20 million from individual donors other than himself, as well as $2 million from donors to his joint fundraising committee with the Republican Party. The reports also showed that Trump converted the nearly $50 million in loans he made to his campaign into donations. He has $20 million in cash in the bank.  Clintonâ€™s campaign brought in $24 million from individual donors during the same period, and a further $11.5 million from donors to her joint fundraising committee.  Trumpâ€™s new money dash was also evident at the Republican National Convention in Cleveland this week, where two Trump Super PACs - each dueling for supremacy and boasting a roster of marquee donors - held private events. Those in the donor class backing Trump include investor Foster Friess and casino magnate Sheldon Adelson, who associates say is considering pouring as much as $100 million into helping Trump get elected.</td>\n",
       "      <td>True</td>\n",
       "      <td>5</td>\n",
       "      <td>2</td>\n",
       "      <td>1086</td>\n",
       "      <td>204</td>\n",
       "      <td>5</td>\n",
       "      <td>5.32</td>\n",
       "      <td>40.800000</td>\n",
       "      <td>34</td>\n",
       "      <td>25</td>\n",
       "      <td>[donor, million, trump, campaign, republican, nearly, fundraise, joint, money, raise]</td>\n",
       "      <td>0.516369</td>\n",
       "      <td>14.0</td>\n",
       "    </tr>\n",
       "    <tr>\n",
       "      <th>5497</th>\n",
       "      <td>Trump warns he could end NATO guarantee, scrap NAFTA</td>\n",
       "      <td>NaN</td>\n",
       "      <td>7/21/2016</td>\n",
       "      <td>none</td>\n",
       "      <td>Republican presidential nominee Donald Trump said he might abandon NATOâ€™s guarantee of mutual defense and would renegotiate or scrap the NAFTA trade deal if he is elected, drawing fire from some senior Republicans and his Democratic rival. In response to a question about potential Russian aggression against the Baltic states, Trump told the New York Times that  Washington would help defend other NATO members only if they had â€œfulfilled their obligations to us.â€  All three Baltic states, Estonia, Latvia and Lithuania, are former Soviet republics and now NATO members. Trump campaign manager Paul Manafort did not dispute the quotes, saying they were consistent with the candidateâ€™s desire to modernize the United Statesâ€™ international treaties.  But national security officials and some Republicans said abandoning NATOâ€™s mutual defense guarantee, enshrined in  Article 5 of the treaty, would abandon 66 years of U.S. foreign policy and threaten the worldâ€™s most powerful military alliance. Also weighing in was the campaign for Democrat Hillary Clinton, the former secretary of state and Trumpâ€™s likely opponent in the Nov. 8 election. â€œTrump has apparently decided that America lacks the moral authority to advance our interests and values around the world,â€ Clintonâ€™s senior foreign policy adviser, Jake Sullivan, said in a statement.      Senate Republican Majority Leader Mitch McConnell told CNN he disagreed â€œtotallyâ€ with Trumpâ€™s comments on NATO. â€œItâ€™s the most important military alliance in world history. It remains relevant today. Many Americans donâ€™t know that the operation in Afghanistan is a NATO operation,â€ McConnell said, adding: â€œI want to reassure our NATO allies that we will come to the defense of any member that is threatened.â€ U.S. Senator Lindsey Graham of South Carolina, a former presidential rival of Trump, said Trumpâ€™s remarks made the world more dangerous and the United States less safe. NATO Secretary-General Jens Stoltenberg said on Thursday he would not interfere in the U.S. election campaign but that allied solidarity was a key value for the group. â€œThis is good for European security and good for U.S. security,â€ the NATO head said in a statement. â€œThe United States has always stood by its European allies.â€ Trump previously said he would force allies to shoulder more of the defense costs that the United States has borne for decades, cancel long-standing treaties he considers unfavorable, and redefine what it means to be a partner of the United States.Stoltenberg said defense spending among European allies and Canada rose last year for the first time in many years. In 2016, he said, he expected a further 3 percent increase, or $8 billion. TRADE DISPUTESTrump has railed against the NAFTA trade deal with Canada and Mexico as a U.S. job killer and was quoted as saying in the New York Times interview that he would be prepared to scrap it if he could not negotiate much better terms for the United States. The North American Free Trade Agreement took effect in 1994 during the administration of President Bill Clinton, the husband of Hillary Clinton. Unlike the NATO treaty, U.S. laws appear to give presidents  significant authority to renegotiate foreign trade deals without consulting Congress, trade experts said. Â Â Â  â€œTrump as president would have an enormous amount of discretion,â€ said Barry Bosworth, a fellow at the Brookings Institution and a former White House staffer. Â Â Â  If elected, Trump could unilaterally terminate NAFTA or any other free trade deal, although a court would likely have to decide if the president had that authority, said Gary Hufbauer, a former deputy assistant secretary for trade at the Treasury Department. Â Â Â NAFTA was enacted by a law passed by Congress, but Article 2205 of the agreement allows any party to withdraw from the deal with six monthsâ€™ notice, and Hufbauer said U.S. courts would likely allow Trump to make that decision.  Â Â Â â€œThe president has a lot more power than is generally recognized,â€ said Hufbauer, currently at the Peterson Institute for International Economics, a Washington think tank.Â Â Â</td>\n",
       "      <td>True</td>\n",
       "      <td>12</td>\n",
       "      <td>12</td>\n",
       "      <td>3522</td>\n",
       "      <td>663</td>\n",
       "      <td>12</td>\n",
       "      <td>5.31</td>\n",
       "      <td>55.250000</td>\n",
       "      <td>233</td>\n",
       "      <td>80</td>\n",
       "      <td>[would, trade, state, unite, trump, defense, treaty, former, republican, president]</td>\n",
       "      <td>0.637666</td>\n",
       "      <td>24.0</td>\n",
       "    </tr>\n",
       "    <tr>\n",
       "      <th>5498</th>\n",
       "      <td>Trump says he was against Iraq war despite Howard Stern interview</td>\n",
       "      <td>NaN</td>\n",
       "      <td>9/8/2016</td>\n",
       "      <td>none</td>\n",
       "      <td>Republican presidential nominee Donald Trump on Thursday said he was against the Iraq war all along despite telling radio interviewer Howard Stern in 2002 that he favored it. Trump used the start of a speech about education at a charter school in Cleveland to push back at Democratic rival Hillary Clintonâ€™s statement that his position on Iraq is pretty much like her own: She voted for the 2003 war as a U.S. senator from New York but has since disavowed the vote. At an NBC forum on Wednesday night, Clinton pointed to a September 2002 interview Trump gave to radio host Howard Stern to say that Trump had supported the war. Trump had said â€œYeah, I guess so,â€ when asked about a potential conflict in Iraq.  Various fact-checkers have cited this interview to debunk Trumpâ€™s statement that he was always against the war. In Cleveland, Trump cited a Jan. 28, 2003, interview he did with Fox Newsâ€™ Neil Cavuto to say he was skeptical. In that interview, Trump said: â€œI think the Iraqi situation is a problem. And I think the economy is a much bigger problem as far as the president is concerned.â€ He said in his Cleveland remarks that the withdrawal of U.S. troops from Iraq had left a power void filled by Islamic State militants. â€œBut I was opposed to that war from the beginning, long before my interview with Howard Stern,â€ Trump said. He also cited what he said was a March 25, 2003, interview. â€œJust days after the war started, I was quoted as saying the war is a mess,â€ Trump said, calling it â€œmore evidence that I had opposed the war from the start.â€</td>\n",
       "      <td>True</td>\n",
       "      <td>4</td>\n",
       "      <td>3</td>\n",
       "      <td>1303</td>\n",
       "      <td>280</td>\n",
       "      <td>8</td>\n",
       "      <td>4.65</td>\n",
       "      <td>35.000000</td>\n",
       "      <td>67</td>\n",
       "      <td>34</td>\n",
       "      <td>[trump, interview, cleveland, howard, cite, stern, problem, radio, statement, think]</td>\n",
       "      <td>0.759842</td>\n",
       "      <td>-24.0</td>\n",
       "    </tr>\n",
       "    <tr>\n",
       "      <th>5499</th>\n",
       "      <td>Exclusive: Trump considering fracking mogul Harold Hamm as energy secretary - sources</td>\n",
       "      <td>NaN</td>\n",
       "      <td>7/21/2016</td>\n",
       "      <td>none</td>\n",
       "      <td>Republican presidential candidate Donald Trump is considering nominating Oklahoma oil and gas mogul Harold Hamm as energy secretary if elected to the White House on Nov. 8, according to four sources close to Trumpâ€™s campaign. The chief executive of Continental Resources (CLR.N) would be the first U.S. energy secretary drawn directly from the oil and gas industry since the cabinet position was created in 1977, a move that would jolt environmental advocates but bolster Trumpâ€™s pro-drilling energy platform.  Dan Eberhart, an oil investor and Republican financier, said he had been told by officials in Trumpâ€™s campaign that Hamm, who has been an informal advisor to Trump on energy policy since at least May, was â€œthe leading contenderâ€ for the position.  Eberhart said he had discussed the possible appointment with  top donors at the Republican National Convention in Cleveland this week, where Trump was formally nominated as the partyâ€™s candidate in the Nov. 8 presidential election. Three other sources close to the Trump campaign confirmed Trump was considering Hamm for the post. One of the sources said he first heard that Hamm was a contender from Trump officials on Sunday. None of the sources was aware of who else Trump may be considering for the job. Representatives for Trump and Hamm did not respond to a request for comment.  Addressing the convention on Wednesday night, Hamm called for expanded drilling and said too much environmental regulation    threatened to limit U.S. oil production and increase the countryâ€™s dependence on Middle Eastern oil producers. â€œEvery time we canâ€™t drill a well in America, terrorism is being funded,â€ Hamm told the cheering crowd. â€œEvery onerous regulation puts American lives at risk.â€     Hamm, 70, became one of Americaâ€™s wealthiest men during the U.S. oil and gas drilling boom over the past decade, tapping into new hydraulic fracturing drilling technology to access vast deposits in North Dakotaâ€™s shale fields. Past heads of the U.S. Department of Energy, which is charged with advancing U.S. energy security and technology and dealing with nuclear waste disposal, have typically boasted a political or academic background. This is not the first time Hamm has been in contention for the job. The Republican Partyâ€™s presidential nominee in 2012, Mitt Romney, vetted Hamm to be energy secretary but ultimately decided against him because the two men have differing positions on renewable energy sources like wind.  He made headlines in 2015 after settling a protracted divorce case and agreeing to pay his ex-wife $975 million - reported to be the biggest divorce settlement in history. His fortune is now estimated at nearly $12 billion.   â€œFRACKER-IN-CHIEFâ€ Trump, who has yet to make any announcements about his prospective cabinet, has already surrounded himself with strong advocates of traditional energy sources like oil, gas, and coal and has promised to gut environmental regulations to boost drilling and mining if elected. He tapped U.S. Congressman Kevin Cramer of North Dakota, a climate skeptic and drilling advocate, to help draw up his campaign energy platform, and picked Indiana Governor Mike Pence, also a climate skeptic, as his running mate.  Both moves cheered the energy industry but alarmed environmental activists who say a Trump presidency would set back years of progress on issues like pollution and climate change.  â€œGiven that Hammâ€™s as close as weâ€™ve got to a fracker-in-chief in this country, it would be an apropos pick for a president who thinks global warming is a hoax manufactured by the Chinese,â€ said leading environmental activist Bill McKibben.Â  Trumpâ€™s Democratic rival Hillary Clinton has promised to bolster regulation and increase use of renewable fuels to combat climate change if elected.</td>\n",
       "      <td>True</td>\n",
       "      <td>18</td>\n",
       "      <td>12</td>\n",
       "      <td>3225</td>\n",
       "      <td>599</td>\n",
       "      <td>13</td>\n",
       "      <td>5.38</td>\n",
       "      <td>46.076923</td>\n",
       "      <td>122</td>\n",
       "      <td>76</td>\n",
       "      <td>[trump, energy, environmental, drilling, republican, climate, source, close, would, regulation]</td>\n",
       "      <td>0.707731</td>\n",
       "      <td>9.0</td>\n",
       "    </tr>\n",
       "  </tbody>\n",
       "</table>\n",
       "<p>5500 rows × 18 columns</p>\n",
       "</div>"
      ],
      "text/plain": [
       "                                                                                      title  ...  afinn_score\n",
       "0     Trump fights release of video testimony in fraud case                                  ... -14.0       \n",
       "1     Trump University lawyers ask judge for another shot at ending class action             ... -16.0       \n",
       "2     Bashing Trump not enough for Democrats to win Latino vote, advocates warn              ...  9.0        \n",
       "3     Bernie Sanders' ghost tweeter keeps his Brooklyn accent                                ...  19.0       \n",
       "4     Trump's missing donors: the people who work for him                                    ...  58.0       \n",
       "...                                                   ...                                    ...   ...       \n",
       "5495  \"Make Republicans Whole Again!\" A divided party struggles to rally behind Trump        ...  4.0        \n",
       "5496  Once a self-funder, Trump's new fundraising machine ramps up                           ...  14.0       \n",
       "5497  Trump warns he could end NATO guarantee, scrap NAFTA                                   ...  24.0       \n",
       "5498  Trump says he was against Iraq war despite Howard Stern interview                      ... -24.0       \n",
       "5499  Exclusive: Trump considering fracking mogul Harold Hamm as energy secretary - sources  ...  9.0        \n",
       "\n",
       "[5500 rows x 18 columns]"
      ]
     },
     "execution_count": 51,
     "metadata": {},
     "output_type": "execute_result"
    }
   ],
   "source": [
    "dataset"
   ]
  },
  {
   "cell_type": "code",
   "execution_count": 52,
   "metadata": {
    "id": "jZukqRsA4BK3"
   },
   "outputs": [],
   "source": [
    "def vaderize(df, textfield):\n",
    "    '''Compute the Vader polarity scores for a textfield.\n",
    "    Returns scores and original dataframe.'''\n",
    "\n",
    "    analyzer = SentimentIntensityAnalyzer()\n",
    "\n",
    "    print('Estimating polarity scores for %d cases.' % len(df))\n",
    "    sentiment = df[textfield].apply(analyzer.polarity_scores)\n",
    "\n",
    "    # convert to dataframe\n",
    "    sdf = pd.DataFrame(sentiment.tolist()).add_prefix('vader_score_')\n",
    "\n",
    "    # merge dataframes\n",
    "    df_combined = pd.concat([df, sdf], axis=1)\n",
    "    del df_combined['vader_score_neg']\n",
    "    del df_combined['vader_score_neu']\n",
    "    del df_combined['vader_score_pos']\n",
    "\n",
    "    return df_combined"
   ]
  },
  {
   "cell_type": "code",
   "execution_count": 53,
   "metadata": {
    "id": "NfD_l1SM4COZ"
   },
   "outputs": [
    {
     "name": "stdout",
     "output_type": "stream",
     "text": [
      "Estimating polarity scores for 5500 cases.\n"
     ]
    }
   ],
   "source": [
    "dataset=vaderize(dataset,'content')"
   ]
  },
  {
   "cell_type": "code",
   "execution_count": 54,
   "metadata": {
    "id": "WFWjHauC49Eo"
   },
   "outputs": [
    {
     "data": {
      "text/html": [
       "<div>\n",
       "<style scoped>\n",
       "    .dataframe tbody tr th:only-of-type {\n",
       "        vertical-align: middle;\n",
       "    }\n",
       "\n",
       "    .dataframe tbody tr th {\n",
       "        vertical-align: top;\n",
       "    }\n",
       "\n",
       "    .dataframe thead th {\n",
       "        text-align: right;\n",
       "    }\n",
       "</style>\n",
       "<table border=\"1\" class=\"dataframe\">\n",
       "  <thead>\n",
       "    <tr style=\"text-align: right;\">\n",
       "      <th></th>\n",
       "      <th>title</th>\n",
       "      <th>url</th>\n",
       "      <th>date_published</th>\n",
       "      <th>author_name</th>\n",
       "      <th>content</th>\n",
       "      <th>label</th>\n",
       "      <th>countOfPosWord</th>\n",
       "      <th>countOfNegWord</th>\n",
       "      <th>NumberOfChar</th>\n",
       "      <th>NumberOfWords</th>\n",
       "      <th>NumberOfSentences</th>\n",
       "      <th>AvgCharPerWord</th>\n",
       "      <th>AvgWordPerSent</th>\n",
       "      <th>NumberOfUpCase</th>\n",
       "      <th>NumberOfPunctuatuion</th>\n",
       "      <th>ContentTM</th>\n",
       "      <th>Orgtitle_contentSim</th>\n",
       "      <th>afinn_score</th>\n",
       "      <th>vader_score_compound</th>\n",
       "    </tr>\n",
       "  </thead>\n",
       "  <tbody>\n",
       "    <tr>\n",
       "      <th>0</th>\n",
       "      <td>Trump fights release of video testimony in fraud case</td>\n",
       "      <td>NaN</td>\n",
       "      <td>6/13/2016</td>\n",
       "      <td>none</td>\n",
       "      <td>Lawyers for Republican presidential candidate Donald Trump on Monday filed court papers opposing the release of video showing him being questioned under oath about his Trump University series of real estate seminars. They argued that making public the videos, for which written transcripts are already available, would prejudice Trumpâ€™s case. The video is â€œunnecessary, irrelevant and unjustified,â€ lawyers for Trump wrote in court papers filed in federal court in San Diego. In legal proceedings, evidence is considered prejudicial if it may interfere with a judge or juryâ€™s objective consideration of the facts. Such evidence can still be presented if it is considered highly relevant to the case.  The Republican candidate has already claimed the federal judge overseeing the case is biased against him because of the judgeâ€™s Mexican heritage. Trump may also have concerns about the impact the videos could have outside the courtroom. On Friday, CNN, CBS, the New York Times, and other media outlets asked for the complete deposition transcripts and videotapes to be made available. If released, the videos could provide fodder for campaign commercials against Trump. In lawsuits in California and New York, Trump has been accused of bilking students who paid as much as $35,000 for an opportunity to learn the businessmanâ€™s real estate investment strategies. Former Trump University students suing the billionaire claim that they learned little and that their instructors, supposedly hand-picked by Trump, had few qualifications.  During deposition, Trump has admitted that he did not select instructors. His lawyers have argued the â€œhand-pickedâ€ claim amounted to mere sales â€œpufferyâ€ rather than fraud. In court papers arguing for the videosâ€™ release, lawyers for the students argued the images presented nuances not available in the transcripts. â€œTrumpâ€™s tone, facial expressions, gestures and body language... speak volumes to... Trumpâ€™s complete and utter unfamiliarity with the instructors and â€˜instructionâ€™ that student-victims received,â€ they said. Trump has said the claims over Trump University are baseless and that students highly rated the programs.  The case is Art Cohen v Donald J. Trump, 13-cv-2519, U.S. District Court, Southern District of California.</td>\n",
       "      <td>True</td>\n",
       "      <td>1</td>\n",
       "      <td>7</td>\n",
       "      <td>1964</td>\n",
       "      <td>342</td>\n",
       "      <td>16</td>\n",
       "      <td>5.74</td>\n",
       "      <td>21.375000</td>\n",
       "      <td>63</td>\n",
       "      <td>54</td>\n",
       "      <td>[trump, video, court, lawyer, papers, instructor, student, federal, claim, could]</td>\n",
       "      <td>0.676238</td>\n",
       "      <td>-14.0</td>\n",
       "      <td>-0.9716</td>\n",
       "    </tr>\n",
       "    <tr>\n",
       "      <th>1</th>\n",
       "      <td>Trump University lawyers ask judge for another shot at ending class action</td>\n",
       "      <td>NaN</td>\n",
       "      <td>6/7/2016</td>\n",
       "      <td>none</td>\n",
       "      <td>Lawyers for Republican presidential candidate Donald Trump asked the California federal judge he attacked last week as biased based on his Mexican heritage to end the Trump University fraud class action currently scheduled to go on trial in November.  In filings late on Friday, Trumpâ€™s lawyers argued the case should not continue as a class action including all students who took the classes in California, New York and Florida. The lawyers claimed the studentsâ€™ cases were too dissimilar to be heard as a class because they were exposed to different marketing and advertisements and were told different things by Trump University employees. San Diego U.S. District Court Judge Gonzalo P. Curiel is overseeing two class action lawsuits over Trump University. Last week, the presidential candidate said Curiel had treated him unfairly because he was a Mexican opposed to Trumpâ€™s proposal to build a wall along the U.S. border with Mexico. The judge was born in Indiana to Mexican parents. Trumpâ€™s lawyers on Friday sought permission from Judge Curiel to renew an earlier motion to decertify the class. The judge previously ruled the case could proceed as a class action on the issue of liability, though each student would have to prove damages separately. In April, Trumpâ€™s lawyers also filed a motion to decertify the class in the other California case. The judge has not yet ruled on that motion. If the judge were to decertify the classes, former Trump University students would have to bring individual lawsuits.  Trump and his for-profit real estate seminars have been accused of bilking students who paid as much as $35,000 for an opportunity to learn the businessmanâ€™s real estate investment strategies. The students claim they were defrauded, including by false claims that he had handpicked instructors to teach them his secrets.  â€œGiven TU studentsâ€™ radically different experiences, plaintiffs cannot showÂ that TU students were exposed to the same â€˜coreâ€™ misrepresentations,â€ Daniel Petrocelli, a lawyer for Trump, wrote in Fridayâ€™s filing.  Lawyers for the plaintiffs declined to comment on the filing.</td>\n",
       "      <td>True</td>\n",
       "      <td>0</td>\n",
       "      <td>7</td>\n",
       "      <td>1801</td>\n",
       "      <td>336</td>\n",
       "      <td>13</td>\n",
       "      <td>5.36</td>\n",
       "      <td>25.846154</td>\n",
       "      <td>67</td>\n",
       "      <td>34</td>\n",
       "      <td>[trump, class, student, lawyer, judge, university, curiel, trumpâ€, action, claim]</td>\n",
       "      <td>0.725248</td>\n",
       "      <td>-16.0</td>\n",
       "      <td>-0.9460</td>\n",
       "    </tr>\n",
       "    <tr>\n",
       "      <th>2</th>\n",
       "      <td>Bashing Trump not enough for Democrats to win Latino vote, advocates warn</td>\n",
       "      <td>NaN</td>\n",
       "      <td>5/27/2016</td>\n",
       "      <td>none</td>\n",
       "      <td>Latino groups have criticized the Democratic Party for relying too heavily on Republican Donald Trumpâ€™s inflammatory comments on illegal immigration to drive Hispanic voters to the polls, calling instead for the party to do more to address Latino concerns, according to meeting notes seen by Reuters. â€œ(W)e cannot rely on Trump as that will set us up for failure,â€ according to notes summarizing a meeting on May 2 between Democratic Party officials and representatives of several Hispanic advocacy groups. â€œOur valuesâ€¦ need to be uplifted,â€ they continued. Hispanics make up around 17 percent of the U.S. population, making them a critical voter group in what is expected to be a tight race between Trump and the Democratic nominee.  Democratic operatives have called Trump an ideal spur for getting out the Latino vote because of his hard-line approach to illegal immigration, with some canvassers even using his picture to help encourage Hispanics to register..  The New York billionaire and now presumptive Republican nominee made waves early in his campaign by saying Mexico was sending rapists and drug dealers over the border. He has vowed to make Mexico pay for building a wall to block them and promised to round up and deport the millions of undocumented immigrants now in the United States. By contrast, Democratic contenders for the White House, front-runner Hillary Clinton and rival U.S. Senator Bernie Sanders of Vermont, have both promised to provide undocumented immigrants a path to legal status. The have also promised to nominate Latinos to key posts in their prospective administrations. At least two Hispanics are also considered candidates to be the running mate to the eventual Democratic presidential nominee: Labor Secretary Thomas Perez and Housing and Urban Development Secretary Julian Castro.   â€œWhile Latinos appear to be a solid part of the Democratic base right now, that can certainly change,â€ said Brent Wilkes, the treasurer for the National Hispanic Leadership Agenda and the national executive director of the League of United Latin American Citizens, who was present at the meeting.  In the last election in 2012, Latinos constituted 10 percent of the electorate and voted for President Barack Obama over Republican Mitt Romney by 71 percent to 27 percent, according to an analysis of exit polls by the Pew Hispanic Center. Many Latino advocates also stressed to the Democratic Party that, as members of nonpartisan organizations, their concerns are in addressing issues within their communities, such as education and the economy, rather than backing any one party or candidate. The Democratic delegation at the meeting, which according to the notes included the new Hispanic outreach director, Bridgette Gomez, assured the advocates their Latino outreach strategy was not merely Trump-focused, one participant said.  â€œDonald Trumpâ€™s candidacy fits into a much longer term and more thoughtful approach than just one election cycle,â€ Democratic National Committee spokesman Pablo Manriquez said on Friday. He added that the party is focused on broader issues such as voting rights and the concerns of Latino families for this election and beyond.    Participants at the meeting also told the party they didnâ€™t see enough Latinos in the pipeline for future leadership positions, including elected office around the country, according to the meeting notes. â€œItâ€™s not just infrastructure for political participation, but how to get people to run for office, how to teach people to run their own campaigns,â€ said Maria Teresa Kumar, president of Voto Latino, which had a representative at the meeting.</td>\n",
       "      <td>True</td>\n",
       "      <td>11</td>\n",
       "      <td>13</td>\n",
       "      <td>3088</td>\n",
       "      <td>570</td>\n",
       "      <td>10</td>\n",
       "      <td>5.42</td>\n",
       "      <td>57.000000</td>\n",
       "      <td>115</td>\n",
       "      <td>60</td>\n",
       "      <td>[latino, democratic, meeting, party, hispanic, accord, concern, national, trump, republican]</td>\n",
       "      <td>0.649029</td>\n",
       "      <td>9.0</td>\n",
       "      <td>0.9418</td>\n",
       "    </tr>\n",
       "    <tr>\n",
       "      <th>3</th>\n",
       "      <td>Bernie Sanders' ghost tweeter keeps his Brooklyn accent</td>\n",
       "      <td>NaN</td>\n",
       "      <td>4/3/2016</td>\n",
       "      <td>none</td>\n",
       "      <td>Last August, Bernie Sanders sat on a Craigslist-bought beige couch in his Washington office plotting to steal the social media spotlight from 10 Republicans taking the stage for the first televised debate of the 2016 presidential campaign. Â Â Â  Next to the Democratic presidential candidate, 74, sat 27-year-old Hector Sigala, his digital media director. For the next two hours, Sigala turned Sandersâ€™ sometimes acerbic, sometimes funny running commentary into a stream of 140-character tweets using the hashtag #DebateWithBernie that stole the show - at least on Twitter.  Some 17 million people were reached during the debate, according to the campaignâ€™s Twitter data reviewed by Reuters. It was the first in a string of Twitter wins by Sanders during a presidential contest widely viewed as a coming-of-age moment for social media in national politics. Sanders didnâ€™t even stop when the debate was interrupted by commercials. When an ad for a new Tom Hanks film appeared, he tweeted: â€œTom Hanks. Finally. Somebody who makes some sense.â€  Eight months later, Sigala is a key lieutenant in the Sanders campaign for the 2016 Democratic presidential nomination, one of a new breed of digital media specialists who have become indispensable in an election where platforms like Twitter allow candidates to communicate with supporters easily, bash opponents or swiftly counter-attack. Sigala goes everywhere â€“ on dates, to parties and to restaurants â€“ with his black backpack and MacBook laptop just in case something tweet-worthy breaks. He was driving his cousin to the airport last Wednesday when Donald Trump, the frontrunner for the Republican nomination, said women who end pregnancies should be punished if the United States bans abortion, comments that were widely condemned. Sigala pulled the car over and tweeted: â€œYour Republican frontrunner, ladies and gentlemen. Shameful.â€ Sanders has close to 2 million followers on his Twitter campaign account and has tweeted nearly 8,000 times. His opponent, Hillary Clinton, has tweeted less, 5,000 times, but she has nearly 6 million followers.  Sanders, however, has an edge because his tweets are much more personalized than Clintonâ€™s, say some social media strategy experts. â€œHeâ€™s been able to really resonate with (different groups) and connect with them on a level that many other candidates have not been able to do,â€ said marketing consultant and social media strategy specialist Dr. Kay Green. While Twitter could not provide data directly comparing the 2016 and 2012 presidential races, a spokesman said tweets about the Democrat and Republican primary debates held so far have been viewed 9 billion times. On Facebook, the number of interactions (likes, posts, comments and shares) related to the 2016 election is up exponentially. Facebook users engaged in 411.5 million interactions on average in January and February, up nearly threefold from the nearly 142 million per month average for all of 2015.  â€œThe most obvious difference in the social conversations around the 2012 and 2016 presidential elections is, simply put, size,â€ said Kellan Terry, an analyst with Brandwatch, a company that tracks and analyzes data from social media sites. â€œThe volume of social mentions around this yearâ€™s presidential election is massive.â€  Sigala and Sanders met in 2012 when he interned in Sandersâ€™ Senate office in Vermont. Sanders, he says, bonded with him during a stroll down Church Street in Burlington, discussing a topic only Internet nerds could love: net neutrality.  Â Â Â  Now, he manages both Sandersâ€™ and his wife Janeâ€™s social media accounts. In practice that means he is the person tweeting comments attributed to Sanders. On Twitter, â€œI am Bernie Sanders,â€ Sigala joked. Twitter tends to attract more millennials, who have largely backed the Brooklyn-born Vermont senator. The tweets and posts that get the best reaction are those that appear to be directly from Sandersâ€™ mouth.  Â Â Â Â â€œHe used to come up with a lot of quips himself,â€ Sigala said of Sanders, but the rigors of the 2016 campaign schedule mean Sigala is now often the one doing the tweeting. Â Â Â  Tweets about Sandersâ€™ bread-and-butter issues like climate change, healthcare, race and gender typically roll off Sigalaâ€™s fingertips in a tone and style that would be hard to distinguish from the senatorâ€™s.  Take, for example, a tweet from Sandersâ€™ Twitter handle on March 18 in response to a debate over student tuition that was posted by Sigala in the first person:  â€œEvery public college and university in this country should be tuition-free. I know my opponent thinks itâ€™s a radical idea, I donâ€™t,â€ it said, taking a dig at Clinton. Â Â Â  But some news events require Sandersâ€™ sign-off. On the day of the Brussels bomb attacks, in which 32 people were killed, Sigala had to wait hours before getting the go-ahead from a busy Sanders to post a condolence message. On a recent afternoon, Sigala was sitting in a Washington office posting messages to various social media sites while a college basketball game played on a nearby TV. When he isnâ€™t live-tweeting or reacting to breaking news, heâ€™s referring to a Microsoft Word document that contains 54 pages of prepared tweets on a list of issues.  When he took over the @BernieSanders Twitter account last May it had 50,000 followers. He would check it obsessively each day to see how many new followers it had attracted.  Now, with nearly 2 million followers, Sigala is less focused on the numbers and more interested in figuring out which tweets perform best. For example, he has discovered through trial and error that a tweet reading â€œWe have got toâ€ do something will do significantly worse than a tweet reading â€œWe gotta.â€ â€œThatâ€™s because it sounds like Brooklyn Bernie,â€ Sigala said with a laugh.</td>\n",
       "      <td>True</td>\n",
       "      <td>6</td>\n",
       "      <td>13</td>\n",
       "      <td>4941</td>\n",
       "      <td>941</td>\n",
       "      <td>25</td>\n",
       "      <td>5.25</td>\n",
       "      <td>37.640000</td>\n",
       "      <td>163</td>\n",
       "      <td>132</td>\n",
       "      <td>[tweet, sigala, medium, sander, sandersâ€, twitter, presidential, social, million, debate]</td>\n",
       "      <td>0.351266</td>\n",
       "      <td>19.0</td>\n",
       "      <td>0.9918</td>\n",
       "    </tr>\n",
       "    <tr>\n",
       "      <th>4</th>\n",
       "      <td>Trump's missing donors: the people who work for him</td>\n",
       "      <td>NaN</td>\n",
       "      <td>10/13/2016</td>\n",
       "      <td>none</td>\n",
       "      <td>Kerry Woolard, the 37-year-old manager of Trump Winery in Charlottesville, Virginia, went online in June and made her first political contribution: A $250 donation to the campaign of her boss, Republican presidential nominee Donald Trump. Woolardâ€™s donation was unusual. Only a dozen of an estimated 22,450 people employed at Trumpâ€™s companies have donated more than $200 to the celebrity businessmanâ€™s bid for the U.S. presidency, a Reuters review of federal campaign finance records through August shows. Those who gave less to either Trumpâ€™s campaign or his joint fundraising committees would not have shown up in the review.  The contributors, including an office cleaner, a golf course groundskeeper, a bartender and an attorney, have given $5,298 to Trumpâ€™s campaign, a fraction of the $112 million Trumpâ€™s political operation has received from donors and joint fundraisers. An employee at Trump enterprises gave $275 to the campaign of her employerâ€™s Democratic rival, Hillary Clinton. A 13th Trump employee, a lawyer at the Trump Organization, contributed to a Trump Super PAC, giving $1,000. â€œHonestly, I wish I could do more,â€ said Woolard, who addressed the Republican national convention in July and has attended private dinners with Trump, his wife Melania, and their son, Barron. â€œHe is an amazing boss, has been a great leader and I believe would do a great job for our country.â€ Trump has made his business record central to his campaign. He often speaks about the thousands of jobs he has created and portrays himself as a dealmaker who drove hard bargains and avoided paying taxes to benefit his company, his family and his employees.  Those employees may vote for Trump on Nov. 8, and could be supporting his candidacy with smaller-dollar contributions that do not appear on the filings. But when it comes to putting more significant money toward Trumpâ€™s candidacy, his workers have shown little inclination to support their boss.    Â Â   That stands in stark contrast to the 2012 election, when Mitt Romney, also an affluent businessman, was the Republican nominee. Employees at the private equity firm Romney led and then retired from in 1999, Bain Capital, and a separate company for which he worked, Bain &amp; Company, donated nearly $375,000 directly to his campaign and through joint fundraising committees during a comparable period in the election cycle, FEC records show. Bain Capital employees gave an additional $1.125 million to Romneyâ€™s Super PAC. Clinton received $324,000 directly to her campaign and through her joint fundraising committee from employees at the State Department, where she served as secretary of state from 2009 until 2013, according to FEC filings through August. No State Department employee has given so far to Clintonâ€™s Super PAC. A spokeswoman for the Trump campaign, Hope Hicks, said in an emailed statement: â€œMr. Trump has self-funded the majority of his campaign so the comparison is not realistic.â€  A Trump Organization spokeswoman said: â€œWhile The Trump Organization is not political, there has been tremendous excitement and support for Mr. Trump from his employees, those that know firsthand he is an incredible leader.â€ After vowing to self-fund his campaign - and spending $47 million of his own money to defeat his primary challengers - Trump changed course once he secured the Republican nomination. Of the $112 million he raised, 43 percent came from people who gave $200 or less directly to his campaign.  A study published in September of companies on the Standard &amp; Poorâ€™s 1,500 stock market index found that employeesâ€™ political donations typically mirror those of their chief executive officers.  The study, conducted by business and finance professors at Arizona State University, Bocconi University in Milan and the Swiss Finance Institute in Zurich, found workers donated almost three times more money to candidates supported by their CEOs. The influence of the chief executives was particularly pronounced at firms that explicitly advocate for political campaigns. Reuters cross-referenced Trumpâ€™s federal financial disclosure records, which lists him as controlling more than 500 entities, including some based overseas, with FEC campaign finance data.  The FEC requires that political campaigns disclose the identities, addresses and employers of anyone who contributes $200 or more to Super PACs, a campaign or a joint fundraising committee, which typically coordinates fundraising between a political campaign and the partyâ€™s central organizing body. The estimate of Trumpâ€™s total employees, 22,450, comes from financial data intelligence provider PrivCo and includes some entities abroad. Federal election law stipulates that permanent residents and American citizens, including those working outside the United States, can donate to political campaigns. But foreign nationals working for Trump operations either in the United States or abroad cannot. Six of the 12 people who said they worked for Trump on campaign donation forms did not respond to multiple requests for comment on their home and business phones.  Two had phone numbers that are not in service, according to a background search database. One confirmed his employment and donation before hanging up the phone. Another confirmed her donation but said she needed clearance from the Trump Organization to comment. Â   The only two who discussed their donations with Reuters were Woolard, the Trump Winery manager, and Fred Laderer, an 81-year-old employee at Trump National Golf Club in North Carolina. Laderer made two donations to Republican political entities, of which $56 was earmarked for the Trump campaign.  Laderer, who schedules start times for golfers, said since Trump took over the North Carolina club â€œitâ€™s a much better place to work. The members are much happier.â€  Still, he added that he didnâ€™t donate to Trumpâ€™s campaign because he works for the candidate, but because â€œClinton would bring a lot of bad luggage.â€</td>\n",
       "      <td>True</td>\n",
       "      <td>19</td>\n",
       "      <td>3</td>\n",
       "      <td>5091</td>\n",
       "      <td>930</td>\n",
       "      <td>26</td>\n",
       "      <td>5.47</td>\n",
       "      <td>35.769231</td>\n",
       "      <td>187</td>\n",
       "      <td>142</td>\n",
       "      <td>[campaign, trump, employee, donation, political, trumpâ€, state, joint, record, republican]</td>\n",
       "      <td>0.589138</td>\n",
       "      <td>58.0</td>\n",
       "      <td>0.9962</td>\n",
       "    </tr>\n",
       "    <tr>\n",
       "      <th>...</th>\n",
       "      <td>...</td>\n",
       "      <td>...</td>\n",
       "      <td>...</td>\n",
       "      <td>...</td>\n",
       "      <td>...</td>\n",
       "      <td>...</td>\n",
       "      <td>...</td>\n",
       "      <td>...</td>\n",
       "      <td>...</td>\n",
       "      <td>...</td>\n",
       "      <td>...</td>\n",
       "      <td>...</td>\n",
       "      <td>...</td>\n",
       "      <td>...</td>\n",
       "      <td>...</td>\n",
       "      <td>...</td>\n",
       "      <td>...</td>\n",
       "      <td>...</td>\n",
       "      <td>...</td>\n",
       "    </tr>\n",
       "    <tr>\n",
       "      <th>5495</th>\n",
       "      <td>\"Make Republicans Whole Again!\" A divided party struggles to rally behind Trump</td>\n",
       "      <td>NaN</td>\n",
       "      <td>7/21/2016</td>\n",
       "      <td>none</td>\n",
       "      <td>Ted Cruz was recounting to an audience how he had outlasted most of his 16 rivals for the Republican presidential nomination when a plane carrying the man who had won it all, Donald Trump, flew overhead, interrupting him mid-speech. â€œAll right, that was pretty well-orchestrated,â€ said Cruz, a Republican U.S. senator from Texas who waged a bitter campaign against Trump. Hours later Cruz would take his revenge, refusing to endorse Trump and urging Republicans to vote their conscience during a prime-time speech on the floor of the Republican National Convention in Cleveland. He left the podium to a chorus of boos, and his wife was escorted off the floor as the convention erupted in rancor. Susan Hutchison, chair of the Washington state delegation, said she confronted Cruz after his speech and called him a â€œtraitor to the party.â€ So much for party unity. Over three days in Cleveland this week, Republican leaders sought to sell a story of unity. They repeatedly said the party was getting ever closer to rallying behind Trump, who is running on the slogan â€œMake America Great Again!â€ and whose candidacy has divided many and exposed deep discontent among  Republicans with their leaders.  But in a few minutes on Wednesday night that show of unity was blown apart in spectacular fashion. Cruzâ€™s non-committal speech infuriated Trump supporters among the thousands of delegates cramming the floor of the Quicken Loans Arena in Cleveland. But their angry jeers triggered recriminations from other delegates.   â€œThey talk about unity and then they act like that. That is not going to get us to unify,â€ said Manette Merrill, a Cruz delegate from Washington state.  Trump will get the opportunity to rally the party when he formally accepts its nomination on Thursday night in a speech expected to be watched by millions of Americans, including undecided and independent voters. One of Trumpâ€™s key goals going into this weekâ€™s convention was to unite the party after a roughly 18-month primary season that was marked by personal attacks on candidates, sometimes violent rallies, and deep disagreement over what it means to be a Republican. In public and in private the Trump campaign tried to win over skeptics who feel the New York businessman and celebrity TV star does not represent the partyâ€™s values. It took a harder stance against opponents, for example shutting down a desperate last-minute bid on the convention floor early in the week to stop his nomination.  â€œItâ€™s like a slow crawl,â€ former Republican National Committee Chairman Michael Steele said of the unity drive as he made the rounds at the convention. â€œYouâ€™re kind of doing it. Youâ€™re kind of looking around to see if anyone else is doing it,â€ he told Reuters.  But almost from the start there were blatant signs of party disunity.  Ohio Governor John Kasich, who lost to Trump in the nomination fight and disagrees with Trump on a host of issues, declined to attend the convention held in his own state. Instead, he greeted his supporters at the Rock and Roll Hall of Fame close to the convention arena to the blaring tune of The Whoâ€™s â€œBaba Oâ€™Rileyâ€ with lyrics like, â€œI donâ€™t need to fight to prove Iâ€™m right.â€ Trump campaign manager Paul Manafort told reporters that Kasich was â€œembarrassing his stateâ€ by refusing to get on the Trump train. His remarks were a reminder of the sort of insults that many Republicans had hoped would disappear after a brutal primary season that was characterized by Trumpâ€™s often personal attacks on his opponents. The pleas for unity were frequent in Cleveland, led by House of Representatives Speaker Paul Ryan, the top elected Republican, who has been slow in warming to Trump. â€œWhat do you say that we unify this party at this crucial moment when unity is everything?â€ Ryan asked thousands of convention attendees on Tuesday night. It was the biggest applause line of his speech - delegates cheered, clapped and waved signs. But U.S. Senator Mike Lee of Utah, one of the â€œnever Trumpâ€ holdouts, is still not convinced.  â€œFederalism and separation of powers â€“ if he focuses on that, he brings along a lot of conservatives like me who havenâ€™t been sold yet,â€ Lee told Reuters. â€œHe needs to make that a distinct part of his message.â€ Trump and his surrogates have offered scant policy details so far at the convention, nor have they been able to put to rest questions about whether they are capable of mounting a sophisticated presidential campaign to take on his Democratic rival Hillary Clinton. The convention has been overshadowed, for example, by controversy surrounding his wife Melaniaâ€™s convention speech - which included lines uttered by first lady Michelle Obama at the Democratic convention in 2008 - and the campaignâ€™s initial reluctance to admit the plagiarism. Some Republicans thought it was an unnecessary distraction at a time when the party should be focused on selling itself and its new leader to Americans.  Others said that if Trump was really serious about uniting the party he would reach out to his vanquished foes on the campaign trail, including Cruz and Kasich.   Ken Cope, a Texas delegate who had backed Cruz for president but will vote for Trump, said the New York businessman needs to â€œswallow his prideâ€ and stress the contributions his 16 defeated rivals made to the primary process instead of belittling them. â€œHeâ€™s a prideful man and heâ€™s proud of what he is but weâ€™re in a general election campaign and itâ€™s going to take all of us pulling on the rope if weâ€™re going to pull the ship to the final line,â€ Cope said. Still others said Trump needed to be more disciplined. Trump supporter John Whitmer, a delegate from Wichita, Kansas, said Trump made a mistake by going on Fox News on Monday night to rail against Kasich as speakers were lauding his candidacy at the televised convention. â€œYou just stepped on your best act,â€ Whitmer said. â€œI get that you want to talk about Kasich, but everybody needed to be watching what was going on there.â€ After Wednesday night, the best hope for the Republican Party to come together may rest on Clinton, who was frequently vilified at the Cleveland convention this week. She will be formally nominated as the Democratic presidential nominee at her partyâ€™s convention in Philadelphia next week. When asked if the party was unified, former Speaker of the House of Representatives and close Trump adviser, Newt Gingrich, replied: â€œNo, but we will be by the end of Philadelphia.â€ â€œTrump will get us to 90 percent unity. Sheâ€™ll get us the rest of the way.â€</td>\n",
       "      <td>True</td>\n",
       "      <td>22</td>\n",
       "      <td>32</td>\n",
       "      <td>5544</td>\n",
       "      <td>1101</td>\n",
       "      <td>25</td>\n",
       "      <td>5.04</td>\n",
       "      <td>44.040000</td>\n",
       "      <td>187</td>\n",
       "      <td>112</td>\n",
       "      <td>[trump, convention, republican, party, unity, delegate, campaign, going, cleveland, kasich]</td>\n",
       "      <td>0.663017</td>\n",
       "      <td>4.0</td>\n",
       "      <td>0.9930</td>\n",
       "    </tr>\n",
       "    <tr>\n",
       "      <th>5496</th>\n",
       "      <td>Once a self-funder, Trump's new fundraising machine ramps up</td>\n",
       "      <td>NaN</td>\n",
       "      <td>7/21/2016</td>\n",
       "      <td>none</td>\n",
       "      <td>Republican presidential nominee Donald Trump, who gained popularity partly by bashing wealthy donors and vowing to fund his own campaign, raised nearly as much money in June as the campaign of Democratic rival Hillary Clinton, according to federal reports filed on Wednesday. In the first month in which the Trump campaignâ€™s fundraising machine officially cranked up, Trump raised nearly $20 million from individual donors other than himself, as well as $2 million from donors to his joint fundraising committee with the Republican Party. The reports also showed that Trump converted the nearly $50 million in loans he made to his campaign into donations. He has $20 million in cash in the bank.  Clintonâ€™s campaign brought in $24 million from individual donors during the same period, and a further $11.5 million from donors to her joint fundraising committee.  Trumpâ€™s new money dash was also evident at the Republican National Convention in Cleveland this week, where two Trump Super PACs - each dueling for supremacy and boasting a roster of marquee donors - held private events. Those in the donor class backing Trump include investor Foster Friess and casino magnate Sheldon Adelson, who associates say is considering pouring as much as $100 million into helping Trump get elected.</td>\n",
       "      <td>True</td>\n",
       "      <td>5</td>\n",
       "      <td>2</td>\n",
       "      <td>1086</td>\n",
       "      <td>204</td>\n",
       "      <td>5</td>\n",
       "      <td>5.32</td>\n",
       "      <td>40.800000</td>\n",
       "      <td>34</td>\n",
       "      <td>25</td>\n",
       "      <td>[donor, million, trump, campaign, republican, nearly, fundraise, joint, money, raise]</td>\n",
       "      <td>0.516369</td>\n",
       "      <td>14.0</td>\n",
       "      <td>0.9527</td>\n",
       "    </tr>\n",
       "    <tr>\n",
       "      <th>5497</th>\n",
       "      <td>Trump warns he could end NATO guarantee, scrap NAFTA</td>\n",
       "      <td>NaN</td>\n",
       "      <td>7/21/2016</td>\n",
       "      <td>none</td>\n",
       "      <td>Republican presidential nominee Donald Trump said he might abandon NATOâ€™s guarantee of mutual defense and would renegotiate or scrap the NAFTA trade deal if he is elected, drawing fire from some senior Republicans and his Democratic rival. In response to a question about potential Russian aggression against the Baltic states, Trump told the New York Times that  Washington would help defend other NATO members only if they had â€œfulfilled their obligations to us.â€  All three Baltic states, Estonia, Latvia and Lithuania, are former Soviet republics and now NATO members. Trump campaign manager Paul Manafort did not dispute the quotes, saying they were consistent with the candidateâ€™s desire to modernize the United Statesâ€™ international treaties.  But national security officials and some Republicans said abandoning NATOâ€™s mutual defense guarantee, enshrined in  Article 5 of the treaty, would abandon 66 years of U.S. foreign policy and threaten the worldâ€™s most powerful military alliance. Also weighing in was the campaign for Democrat Hillary Clinton, the former secretary of state and Trumpâ€™s likely opponent in the Nov. 8 election. â€œTrump has apparently decided that America lacks the moral authority to advance our interests and values around the world,â€ Clintonâ€™s senior foreign policy adviser, Jake Sullivan, said in a statement.      Senate Republican Majority Leader Mitch McConnell told CNN he disagreed â€œtotallyâ€ with Trumpâ€™s comments on NATO. â€œItâ€™s the most important military alliance in world history. It remains relevant today. Many Americans donâ€™t know that the operation in Afghanistan is a NATO operation,â€ McConnell said, adding: â€œI want to reassure our NATO allies that we will come to the defense of any member that is threatened.â€ U.S. Senator Lindsey Graham of South Carolina, a former presidential rival of Trump, said Trumpâ€™s remarks made the world more dangerous and the United States less safe. NATO Secretary-General Jens Stoltenberg said on Thursday he would not interfere in the U.S. election campaign but that allied solidarity was a key value for the group. â€œThis is good for European security and good for U.S. security,â€ the NATO head said in a statement. â€œThe United States has always stood by its European allies.â€ Trump previously said he would force allies to shoulder more of the defense costs that the United States has borne for decades, cancel long-standing treaties he considers unfavorable, and redefine what it means to be a partner of the United States.Stoltenberg said defense spending among European allies and Canada rose last year for the first time in many years. In 2016, he said, he expected a further 3 percent increase, or $8 billion. TRADE DISPUTESTrump has railed against the NAFTA trade deal with Canada and Mexico as a U.S. job killer and was quoted as saying in the New York Times interview that he would be prepared to scrap it if he could not negotiate much better terms for the United States. The North American Free Trade Agreement took effect in 1994 during the administration of President Bill Clinton, the husband of Hillary Clinton. Unlike the NATO treaty, U.S. laws appear to give presidents  significant authority to renegotiate foreign trade deals without consulting Congress, trade experts said. Â Â Â  â€œTrump as president would have an enormous amount of discretion,â€ said Barry Bosworth, a fellow at the Brookings Institution and a former White House staffer. Â Â Â  If elected, Trump could unilaterally terminate NAFTA or any other free trade deal, although a court would likely have to decide if the president had that authority, said Gary Hufbauer, a former deputy assistant secretary for trade at the Treasury Department. Â Â Â NAFTA was enacted by a law passed by Congress, but Article 2205 of the agreement allows any party to withdraw from the deal with six monthsâ€™ notice, and Hufbauer said U.S. courts would likely allow Trump to make that decision.  Â Â Â â€œThe president has a lot more power than is generally recognized,â€ said Hufbauer, currently at the Peterson Institute for International Economics, a Washington think tank.Â Â Â</td>\n",
       "      <td>True</td>\n",
       "      <td>12</td>\n",
       "      <td>12</td>\n",
       "      <td>3522</td>\n",
       "      <td>663</td>\n",
       "      <td>12</td>\n",
       "      <td>5.31</td>\n",
       "      <td>55.250000</td>\n",
       "      <td>233</td>\n",
       "      <td>80</td>\n",
       "      <td>[would, trade, state, unite, trump, defense, treaty, former, republican, president]</td>\n",
       "      <td>0.637666</td>\n",
       "      <td>24.0</td>\n",
       "      <td>0.9969</td>\n",
       "    </tr>\n",
       "    <tr>\n",
       "      <th>5498</th>\n",
       "      <td>Trump says he was against Iraq war despite Howard Stern interview</td>\n",
       "      <td>NaN</td>\n",
       "      <td>9/8/2016</td>\n",
       "      <td>none</td>\n",
       "      <td>Republican presidential nominee Donald Trump on Thursday said he was against the Iraq war all along despite telling radio interviewer Howard Stern in 2002 that he favored it. Trump used the start of a speech about education at a charter school in Cleveland to push back at Democratic rival Hillary Clintonâ€™s statement that his position on Iraq is pretty much like her own: She voted for the 2003 war as a U.S. senator from New York but has since disavowed the vote. At an NBC forum on Wednesday night, Clinton pointed to a September 2002 interview Trump gave to radio host Howard Stern to say that Trump had supported the war. Trump had said â€œYeah, I guess so,â€ when asked about a potential conflict in Iraq.  Various fact-checkers have cited this interview to debunk Trumpâ€™s statement that he was always against the war. In Cleveland, Trump cited a Jan. 28, 2003, interview he did with Fox Newsâ€™ Neil Cavuto to say he was skeptical. In that interview, Trump said: â€œI think the Iraqi situation is a problem. And I think the economy is a much bigger problem as far as the president is concerned.â€ He said in his Cleveland remarks that the withdrawal of U.S. troops from Iraq had left a power void filled by Islamic State militants. â€œBut I was opposed to that war from the beginning, long before my interview with Howard Stern,â€ Trump said. He also cited what he said was a March 25, 2003, interview. â€œJust days after the war started, I was quoted as saying the war is a mess,â€ Trump said, calling it â€œmore evidence that I had opposed the war from the start.â€</td>\n",
       "      <td>True</td>\n",
       "      <td>4</td>\n",
       "      <td>3</td>\n",
       "      <td>1303</td>\n",
       "      <td>280</td>\n",
       "      <td>8</td>\n",
       "      <td>4.65</td>\n",
       "      <td>35.000000</td>\n",
       "      <td>67</td>\n",
       "      <td>34</td>\n",
       "      <td>[trump, interview, cleveland, howard, cite, stern, problem, radio, statement, think]</td>\n",
       "      <td>0.759842</td>\n",
       "      <td>-24.0</td>\n",
       "      <td>-0.9932</td>\n",
       "    </tr>\n",
       "    <tr>\n",
       "      <th>5499</th>\n",
       "      <td>Exclusive: Trump considering fracking mogul Harold Hamm as energy secretary - sources</td>\n",
       "      <td>NaN</td>\n",
       "      <td>7/21/2016</td>\n",
       "      <td>none</td>\n",
       "      <td>Republican presidential candidate Donald Trump is considering nominating Oklahoma oil and gas mogul Harold Hamm as energy secretary if elected to the White House on Nov. 8, according to four sources close to Trumpâ€™s campaign. The chief executive of Continental Resources (CLR.N) would be the first U.S. energy secretary drawn directly from the oil and gas industry since the cabinet position was created in 1977, a move that would jolt environmental advocates but bolster Trumpâ€™s pro-drilling energy platform.  Dan Eberhart, an oil investor and Republican financier, said he had been told by officials in Trumpâ€™s campaign that Hamm, who has been an informal advisor to Trump on energy policy since at least May, was â€œthe leading contenderâ€ for the position.  Eberhart said he had discussed the possible appointment with  top donors at the Republican National Convention in Cleveland this week, where Trump was formally nominated as the partyâ€™s candidate in the Nov. 8 presidential election. Three other sources close to the Trump campaign confirmed Trump was considering Hamm for the post. One of the sources said he first heard that Hamm was a contender from Trump officials on Sunday. None of the sources was aware of who else Trump may be considering for the job. Representatives for Trump and Hamm did not respond to a request for comment.  Addressing the convention on Wednesday night, Hamm called for expanded drilling and said too much environmental regulation    threatened to limit U.S. oil production and increase the countryâ€™s dependence on Middle Eastern oil producers. â€œEvery time we canâ€™t drill a well in America, terrorism is being funded,â€ Hamm told the cheering crowd. â€œEvery onerous regulation puts American lives at risk.â€     Hamm, 70, became one of Americaâ€™s wealthiest men during the U.S. oil and gas drilling boom over the past decade, tapping into new hydraulic fracturing drilling technology to access vast deposits in North Dakotaâ€™s shale fields. Past heads of the U.S. Department of Energy, which is charged with advancing U.S. energy security and technology and dealing with nuclear waste disposal, have typically boasted a political or academic background. This is not the first time Hamm has been in contention for the job. The Republican Partyâ€™s presidential nominee in 2012, Mitt Romney, vetted Hamm to be energy secretary but ultimately decided against him because the two men have differing positions on renewable energy sources like wind.  He made headlines in 2015 after settling a protracted divorce case and agreeing to pay his ex-wife $975 million - reported to be the biggest divorce settlement in history. His fortune is now estimated at nearly $12 billion.   â€œFRACKER-IN-CHIEFâ€ Trump, who has yet to make any announcements about his prospective cabinet, has already surrounded himself with strong advocates of traditional energy sources like oil, gas, and coal and has promised to gut environmental regulations to boost drilling and mining if elected. He tapped U.S. Congressman Kevin Cramer of North Dakota, a climate skeptic and drilling advocate, to help draw up his campaign energy platform, and picked Indiana Governor Mike Pence, also a climate skeptic, as his running mate.  Both moves cheered the energy industry but alarmed environmental activists who say a Trump presidency would set back years of progress on issues like pollution and climate change.  â€œGiven that Hammâ€™s as close as weâ€™ve got to a fracker-in-chief in this country, it would be an apropos pick for a president who thinks global warming is a hoax manufactured by the Chinese,â€ said leading environmental activist Bill McKibben.Â  Trumpâ€™s Democratic rival Hillary Clinton has promised to bolster regulation and increase use of renewable fuels to combat climate change if elected.</td>\n",
       "      <td>True</td>\n",
       "      <td>18</td>\n",
       "      <td>12</td>\n",
       "      <td>3225</td>\n",
       "      <td>599</td>\n",
       "      <td>13</td>\n",
       "      <td>5.38</td>\n",
       "      <td>46.076923</td>\n",
       "      <td>122</td>\n",
       "      <td>76</td>\n",
       "      <td>[trump, energy, environmental, drilling, republican, climate, source, close, would, regulation]</td>\n",
       "      <td>0.707731</td>\n",
       "      <td>9.0</td>\n",
       "      <td>0.9953</td>\n",
       "    </tr>\n",
       "  </tbody>\n",
       "</table>\n",
       "<p>5500 rows × 19 columns</p>\n",
       "</div>"
      ],
      "text/plain": [
       "                                                                                      title  ...  vader_score_compound\n",
       "0     Trump fights release of video testimony in fraud case                                  ... -0.9716              \n",
       "1     Trump University lawyers ask judge for another shot at ending class action             ... -0.9460              \n",
       "2     Bashing Trump not enough for Democrats to win Latino vote, advocates warn              ...  0.9418              \n",
       "3     Bernie Sanders' ghost tweeter keeps his Brooklyn accent                                ...  0.9918              \n",
       "4     Trump's missing donors: the people who work for him                                    ...  0.9962              \n",
       "...                                                   ...                                    ...     ...              \n",
       "5495  \"Make Republicans Whole Again!\" A divided party struggles to rally behind Trump        ...  0.9930              \n",
       "5496  Once a self-funder, Trump's new fundraising machine ramps up                           ...  0.9527              \n",
       "5497  Trump warns he could end NATO guarantee, scrap NAFTA                                   ...  0.9969              \n",
       "5498  Trump says he was against Iraq war despite Howard Stern interview                      ... -0.9932              \n",
       "5499  Exclusive: Trump considering fracking mogul Harold Hamm as energy secretary - sources  ...  0.9953              \n",
       "\n",
       "[5500 rows x 19 columns]"
      ]
     },
     "execution_count": 54,
     "metadata": {},
     "output_type": "execute_result"
    }
   ],
   "source": [
    "dataset"
   ]
  },
  {
   "cell_type": "code",
   "execution_count": null,
   "metadata": {
    "id": "XqdikIVn-8dl"
   },
   "outputs": [],
   "source": [
    "\n",
    "\n",
    "dataset.to_csv('Export_dataset5.csv')"
   ]
  },
  {
   "cell_type": "markdown",
   "metadata": {
    "id": "2n2M0BirNcw8"
   },
   "source": [
    "# **Readability**"
   ]
  },
  {
   "cell_type": "code",
   "execution_count": 55,
   "metadata": {
    "id": "isKyZ3zJgu2h"
   },
   "outputs": [],
   "source": [
    "import textstat\n",
    "\n",
    "#Flesch Reading Ease Index\n",
    "FREI=list()\n",
    "\n",
    "#Flesch-Kionciad Grade Level\n",
    "FKGL=list()\n",
    "\n",
    "#Automated Readability Index\n",
    "ARI=list()\n",
    "\n",
    "#Gunning Fox Index\n",
    "GFI=list()\n",
    "\n",
    "#Coleman-Liau Index\n",
    "CLI=list()\n",
    "\n",
    "for row in range(0,len(dataset)):\n",
    "  FREI.insert(row,(textstat.flesch_reading_ease(dataset['content'][row])))\n",
    "  FKGL.insert(row,(textstat.flesch_kincaid_grade(dataset['content'][row])))\n",
    "  ARI.insert(row,(textstat.automated_readability_index(dataset['content'][row])))\n",
    "  GFI.insert(row,(textstat.gunning_fog(dataset['content'][row])))\n",
    "  CLI.insert(row,(textstat.coleman_liau_index(dataset['content'][row])))\n",
    "\n",
    "dataset['FREI'] = FREI\n",
    "dataset['FKGL'] = FKGL\n",
    "dataset['ARI'] = ARI\n",
    "dataset['GFI'] = GFI\n",
    "dataset['CLI'] = CLI\n",
    "\n"
   ]
  },
  {
   "cell_type": "code",
   "execution_count": 56,
   "metadata": {
    "id": "IKyc5aiOnx4p"
   },
   "outputs": [],
   "source": [
    "\n",
    "\n",
    "dataset.to_csv('Export_dataset6.csv')"
   ]
  },
  {
   "cell_type": "code",
   "execution_count": null,
   "metadata": {},
   "outputs": [],
   "source": []
  }
 ],
 "metadata": {
  "colab": {
   "collapsed_sections": [],
   "name": "thesis.ipynb",
   "provenance": [],
   "toc_visible": true
  },
  "kernelspec": {
   "display_name": "Python 3.7 (tensorflow)",
   "language": "python",
   "name": "tensorflow"
  },
  "language_info": {
   "codemirror_mode": {
    "name": "ipython",
    "version": 3
   },
   "file_extension": ".py",
   "mimetype": "text/x-python",
   "name": "python",
   "nbconvert_exporter": "python",
   "pygments_lexer": "ipython3",
   "version": "3.7.11"
  },
  "metadata": {
   "interpreter": {
    "hash": "ac59ebe37160ed0dfa835113d9b8498d9f09ceb179beaac4002f036b9467c963"
   }
  }
 },
 "nbformat": 4,
 "nbformat_minor": 1
}
