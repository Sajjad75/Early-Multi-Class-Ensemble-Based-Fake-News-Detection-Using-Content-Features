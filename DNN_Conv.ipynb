{
 "cells": [
  {
   "cell_type": "code",
   "execution_count": 1,
   "id": "f7290197",
   "metadata": {
    "id": "c0ad506d"
   },
   "outputs": [],
   "source": [
    "import logging\n",
    "import pandas as pd\n",
    "import numpy as np\n",
    "from numpy import random\n",
    "from sklearn.model_selection import train_test_split\n",
    "from sklearn.feature_extraction.text import CountVectorizer, TfidfVectorizer\n",
    "from sklearn.metrics import accuracy_score, confusion_matrix\n",
    "import matplotlib.pyplot as plt\n",
    "from nltk.corpus import stopwords\n",
    "import re\n",
    "\n",
    "from sklearn import model_selection, preprocessing, linear_model, naive_bayes, metrics, svm\n",
    "from sklearn.feature_extraction.text import TfidfVectorizer, CountVectorizer\n",
    "from sklearn import decomposition, ensemble\n",
    "\n",
    "import textblob, string\n",
    "from tensorflow.keras.preprocessing import text, sequence\n",
    "from tensorflow.keras import layers, models, optimizers, Sequential"
   ]
  },
  {
   "cell_type": "code",
   "execution_count": 2,
   "id": "199f5d74",
   "metadata": {
    "id": "In_zYnx7iyjm"
   },
   "outputs": [],
   "source": [
    "\n",
    "\n",
    "df = pd.read_csv('L:/Thesis/Dateset/FeaturesExtraction_Compeleted.csv', encoding='latin-1')\n",
    "\n",
    "df = df.astype(dtype={'title': 'string','url': 'string',\n",
    "                                'date_published': 'string','author_name': 'string',\n",
    "                                'content': 'string','label': 'string'})\n",
    "\n",
    "cols = ['countOfPosWord', 'countOfNegWord', 'NumberOfChar','NumberOfWords','NumberOfSentences','AvgCharPerWord','AvgWordPerSent','NumberOfUpCase','NumberOfPunctuatuion','Orgtitle_contentSim','TopicModellingSim','afinn_score','vader_score_compound','FREI','FKGL','ARI','GFI','CLI']\n",
    "data = pd.read_csv('L:/Thesis/Dateset/FeaturesExtraction_Compeleted.csv',  usecols = cols)"
   ]
  },
  {
   "cell_type": "code",
   "execution_count": 3,
   "id": "4634269e",
   "metadata": {},
   "outputs": [
    {
     "data": {
      "text/plain": [
       "FALSE           9576\n",
       "TRUE            9559\n",
       "half-true       4248\n",
       "mostly-false    3437\n",
       "mostly-true     3196\n",
       "Name: label, dtype: Int64"
      ]
     },
     "execution_count": 3,
     "metadata": {},
     "output_type": "execute_result"
    }
   ],
   "source": [
    "df['label'].value_counts()"
   ]
  },
  {
   "cell_type": "code",
   "execution_count": 4,
   "id": "ce9ba98c",
   "metadata": {
    "id": "qPaG74F9VoFX"
   },
   "outputs": [],
   "source": [
    "df['text_features']= df['title'] +' '+ df['content'] +' '+ df['author_name'] +' '+ df['date_published']\n",
    "df['Complete_Data'] = df['text_features'] "
   ]
  },
  {
   "cell_type": "markdown",
   "id": "72ba7ac5",
   "metadata": {
    "id": "6CXPMvsK2Iif"
   },
   "source": [
    "## **SpellCheker**"
   ]
  },
  {
   "cell_type": "markdown",
   "id": "993d0316",
   "metadata": {
    "id": "j4HlFVjdHcP7"
   },
   "source": [
    "**Data Preprocessing**"
   ]
  },
  {
   "cell_type": "code",
   "execution_count": null,
   "id": "bd61b95f",
   "metadata": {
    "colab": {
     "base_uri": "https://localhost:8080/"
    },
    "id": "VHWMrBrJbsg1",
    "outputId": "5ee1ab7f-43f4-4c5f-b020-1b71b8646bea"
   },
   "outputs": [],
   "source": [
    "import nltk\n",
    "nltk.download('stopwords')\n",
    "nltk.download('wordnet')"
   ]
  },
  {
   "cell_type": "code",
   "execution_count": 5,
   "id": "a4326bed",
   "metadata": {
    "colab": {
     "base_uri": "https://localhost:8080/"
    },
    "id": "QUyk98dgFhvi",
    "outputId": "17f1c138-ec57-4b63-f89a-41c482feaa21"
   },
   "outputs": [
    {
     "name": "stdout",
     "output_type": "stream",
     "text": [
      "Done\n"
     ]
    }
   ],
   "source": [
    "for row in range(len(df)):\n",
    "  df['Complete_Data'][row] = re.sub(r\"won\\'t\", \"will not\", df['Complete_Data'][row])\n",
    "  df['Complete_Data'][row] = re.sub(r\"can\\'t\", \"can not\", df['Complete_Data'][row])\n",
    "\n",
    "    # general\n",
    "  df['Complete_Data'][row] = re.sub(r\"n\\'t\", \" not\", df['Complete_Data'][row])\n",
    "  df['Complete_Data'][row] = re.sub(r\"\\'re\", \" are\", df['Complete_Data'][row])\n",
    "  df['Complete_Data'][row] = re.sub(r\"\\'s\", \" is\", df['Complete_Data'][row])\n",
    "  df['Complete_Data'][row] = re.sub(r\"\\'d\", \" would\", df['Complete_Data'][row])\n",
    "  df['Complete_Data'][row] = re.sub(r\"\\'ll\", \" will\", df['Complete_Data'][row])\n",
    "  df['Complete_Data'][row] = re.sub(r\"\\'t\", \" not\", df['Complete_Data'][row])\n",
    "  df['Complete_Data'][row] = re.sub(r\"\\'ve\", \" have\", df['Complete_Data'][row])\n",
    "  df['Complete_Data'][row] = re.sub(r\"\\'m\", \" am\", df['Complete_Data'][row])\n",
    "print(\"Done\")"
   ]
  },
  {
   "cell_type": "code",
   "execution_count": 6,
   "id": "6dfe396d",
   "metadata": {
    "colab": {
     "base_uri": "https://localhost:8080/"
    },
    "id": "592f0f46",
    "outputId": "3d66939c-728a-4d34-ab7b-9ea973ae71c2"
   },
   "outputs": [
    {
     "name": "stdout",
     "output_type": "stream",
     "text": [
      "Done\n"
     ]
    }
   ],
   "source": [
    "from nltk.stem.porter import PorterStemmer\n",
    "ps = PorterStemmer()\n",
    "\n",
    "X = df['Complete_Data']\n",
    "stop_words = set(stopwords.words(\"english\"))\n",
    "\n",
    "import re\n",
    "documents = []\n",
    "\n",
    "from nltk.stem import WordNetLemmatizer\n",
    "\n",
    "stemmer = WordNetLemmatizer()\n",
    "\n",
    "for sen in range(0, len(X)):\n",
    "    # Remove all the special characters\n",
    "    document = re.sub(r'\\W', ' ', str(X[sen]))\n",
    "    \n",
    "    # remove all single characters\n",
    "    document = re.sub(r'\\s+[a-zA-Z]\\s+', ' ', document)\n",
    "    \n",
    "    # Remove single characters from the start\n",
    "    document = re.sub(r'\\^[a-zA-Z]\\s+', ' ', document) \n",
    "    \n",
    "    # Substituting multiple spaces with single space\n",
    "    document = re.sub(r'\\s+', ' ', document, flags=re.I)\n",
    "    \n",
    "    # Removing prefixed 'b'\n",
    "    document = re.sub(r'^b\\s+', '', document)\n",
    "    \n",
    "    # Converting to Lowercase\n",
    "    document = document.lower()\n",
    "    \n",
    "    # Lemmatization\n",
    "    document = document.split()\n",
    "    document= [word for word in document if word not in stop_words]\n",
    "    document = [ps.stem(word) for word in document]\n",
    "    document = ' '.join(document)\n",
    "    \n",
    "    documents.append(document)\n",
    "    \n",
    "df['Complete_Data'] = documents\n",
    "print(\"Done\")"
   ]
  },
  {
   "cell_type": "markdown",
   "id": "5f235319",
   "metadata": {
    "id": "JhOwiMYbI2-a"
   },
   "source": [
    "**Add Numeric features to text features**"
   ]
  },
  {
   "cell_type": "code",
   "execution_count": null,
   "id": "a2374ffc",
   "metadata": {
    "id": "dSQIHcNHdlML"
   },
   "outputs": [],
   "source": [
    "from sklearn.preprocessing import StandardScaler\n",
    "scaler = StandardScaler() \n",
    "data_scaled = scaler.fit_transform(data)"
   ]
  },
  {
   "cell_type": "code",
   "execution_count": null,
   "id": "d1fbc3f8",
   "metadata": {
    "id": "YHKQuov7dH_h"
   },
   "outputs": [],
   "source": [
    "from sklearn.preprocessing import MinMaxScaler\n",
    "scaler = MinMaxScaler() \n",
    "data_scaled = scaler.fit_transform(data)"
   ]
  },
  {
   "cell_type": "code",
   "execution_count": null,
   "id": "8b580f6d",
   "metadata": {
    "id": "kjR7uLY6dlTp"
   },
   "outputs": [],
   "source": [
    "numerical_data=list()\n",
    "for row in range(0,len(df)):\n",
    "  numerical_data.insert(row,data_scaled[row])\n",
    "df['numerical_features'] = numerical_data"
   ]
  },
  {
   "cell_type": "code",
   "execution_count": null,
   "id": "2a9b0a63",
   "metadata": {
    "id": "4lDuf-IydlZ4"
   },
   "outputs": [],
   "source": [
    "df = df.astype(dtype={'numerical_features': 'string'})"
   ]
  },
  {
   "cell_type": "code",
   "execution_count": null,
   "id": "51be49e6",
   "metadata": {
    "id": "r8h8X_lzly67"
   },
   "outputs": [],
   "source": [
    "df['Complete_Data'] = df['Complete_Data'] + df['numerical_features']"
   ]
  },
  {
   "cell_type": "code",
   "execution_count": null,
   "id": "5d0546e8",
   "metadata": {
    "colab": {
     "base_uri": "https://localhost:8080/",
     "height": 145
    },
    "id": "bUbudSpF2UR9",
    "outputId": "80139565-ad55-4029-fa11-dc38489b6be0"
   },
   "outputs": [],
   "source": [
    "df['Complete_Data'][150]"
   ]
  },
  {
   "cell_type": "code",
   "execution_count": null,
   "id": "99d3cf69",
   "metadata": {
    "id": "UtxsAJb1m-w8"
   },
   "outputs": [],
   "source": [
    "for row in range(0,len(df)):\n",
    "    df['Complete_Data'][row] = re.sub(r'\\[',' ',df['Complete_Data'][row])\n",
    "    df['Complete_Data'][row] = re.sub(r'\\]',' ',df['Complete_Data'][row])\n",
    "    df['Complete_Data'][row] = re.sub(r'\\n',' ',df['Complete_Data'][row])\n",
    "    df['Complete_Data'][row] = re.sub(r'\\s+', ' ', df['Complete_Data'][row], flags=re.I)\n",
    "\n"
   ]
  },
  {
   "cell_type": "markdown",
   "id": "dfbbcfe7",
   "metadata": {
    "id": "HGyMxm6mVkCl"
   },
   "source": [
    "## **Set Max features**"
   ]
  },
  {
   "cell_type": "code",
   "execution_count": null,
   "id": "830ab12a",
   "metadata": {
    "colab": {
     "base_uri": "https://localhost:8080/"
    },
    "id": "EEzfuJCxnJBD",
    "outputId": "82a43333-5b64-4632-ed26-125fcdab4d36"
   },
   "outputs": [],
   "source": [
    "!pip install textstat"
   ]
  },
  {
   "cell_type": "code",
   "execution_count": 7,
   "id": "c95dffbe",
   "metadata": {
    "colab": {
     "base_uri": "https://localhost:8080/"
    },
    "id": "b5cfb51a",
    "outputId": "bafcc972-0e5f-4c91-a834-4f1b70ef24f7"
   },
   "outputs": [
    {
     "name": "stdout",
     "output_type": "stream",
     "text": [
      "min:  19\n",
      "max:  3072\n",
      "mean: 441.13\n",
      "mean + 2 *sigma: 947.39\n",
      "947\n"
     ]
    }
   ],
   "source": [
    "import textstat\n",
    "lenght=list()\n",
    "for row in range(0,len(df)):\n",
    "    lenght.insert(row , textstat.lexicon_count(df['Complete_Data'][row]))\n",
    "df['lenght']=lenght\n",
    "\n",
    "print('min: ', min(df['lenght']))\n",
    "print('max: ', max(df['lenght']))\n",
    "\n",
    "print('mean: {:.2f}'.format(np.mean(df['lenght'])))\n",
    "\n",
    "print('mean + 2 *sigma: {:.2f}'.format(np.mean(df['lenght'])+ 2.0 * np.std(df['lenght'])))\n",
    "\n",
    "\n",
    "max_features = int(np.mean(df['lenght'])+ 2.0 * np.std(df['lenght']))\n",
    "print(max_features)"
   ]
  },
  {
   "cell_type": "code",
   "execution_count": 8,
   "id": "e225f12f",
   "metadata": {
    "id": "643d9b64"
   },
   "outputs": [],
   "source": [
    "encoder = preprocessing.LabelEncoder()\n",
    "df['label'] = encoder.fit_transform(df['label'])"
   ]
  },
  {
   "cell_type": "code",
   "execution_count": 9,
   "id": "638d605f",
   "metadata": {
    "colab": {
     "base_uri": "https://localhost:8080/"
    },
    "id": "FvGtb5dczm6H",
    "outputId": "60565963-b3bc-4224-9d23-22bffd6e9951"
   },
   "outputs": [
    {
     "data": {
      "text/plain": [
       "array(['FALSE', 'TRUE', 'half-true', 'mostly-false', 'mostly-true'],\n",
       "      dtype=object)"
      ]
     },
     "execution_count": 9,
     "metadata": {},
     "output_type": "execute_result"
    }
   ],
   "source": [
    "encoder.classes_"
   ]
  },
  {
   "cell_type": "code",
   "execution_count": 10,
   "id": "67699ac3",
   "metadata": {
    "colab": {
     "base_uri": "https://localhost:8080/"
    },
    "id": "a0dc9389",
    "outputId": "cefc42f4-3265-4050-cb7e-174f6df82a47"
   },
   "outputs": [],
   "source": [
    "y = df['label'].to_numpy()"
   ]
  },
  {
   "cell_type": "code",
   "execution_count": 11,
   "id": "1c70be5a",
   "metadata": {
    "colab": {
     "base_uri": "https://localhost:8080/"
    },
    "id": "GLQunBt9PHnx",
    "outputId": "f8147b9d-4aa7-4a88-d790-5f892e335dce"
   },
   "outputs": [
    {
     "name": "stdout",
     "output_type": "stream",
     "text": [
      "21011 1801 7204\n",
      "21011 1801 7204\n"
     ]
    }
   ],
   "source": [
    "train_ratio = 0.70\n",
    "validation_ratio = 0.10\n",
    "test_ratio = 0.20\n",
    "\n",
    "# train is now 75% of the entire data set\n",
    "# the _junk suffix means that we drop that variable completely\n",
    "x_train, x_test, y_train, y_test = train_test_split(df['Complete_Data'], df['label'], test_size=0.3)\n",
    "\n",
    "# test is now 10% of the initial data set\n",
    "# validation is now 15% of the initial data set\n",
    "x_val, x_test, y_val, y_test = train_test_split(x_test, y_test, train_size=0.2)\n",
    "\n",
    "import tensorflow as tf\n",
    "train_y = tf.keras.utils.to_categorical(y_train, num_classes=5)\n",
    "valid_y = tf.keras.utils.to_categorical(y_val, num_classes=5)\n",
    "test_y = tf.keras.utils.to_categorical(y_test, num_classes=5)\n",
    "\n",
    "print(len(x_train), len(x_val), len(x_test))\n",
    "print(len(train_y), len(valid_y), len(test_y))\n"
   ]
  },
  {
   "cell_type": "markdown",
   "id": "4e79111f",
   "metadata": {
    "id": "bzreAg3HIZj2"
   },
   "source": [
    "## **word2vec**"
   ]
  },
  {
   "cell_type": "code",
   "execution_count": 12,
   "id": "608f6534",
   "metadata": {
    "id": "ZXKaGCPvAoVi"
   },
   "outputs": [],
   "source": [
    "import numpy as np\n",
    "\n",
    "\n",
    "class Embeddings():\n",
    "    \"\"\"\n",
    "    A class to read the word embedding file and to create the word embedding matrix\n",
    "    \"\"\"\n",
    "\n",
    "    def __init__(self, path, vector_dimension):\n",
    "        self.path = path \n",
    "        self.vector_dimension = vector_dimension\n",
    "    \n",
    "    @staticmethod\n",
    "    def get_coefs(word, *arr): \n",
    "        return word, np.asarray(arr, dtype='float32')\n",
    "\n",
    "    def get_embedding_index(self):\n",
    "        embeddings_index = dict(self.get_coefs(*o.split(\" \")) for o in open(self.path, errors='ignore'))\n",
    "        return embeddings_index\n",
    "\n",
    "    def create_embedding_matrix(self, tokenizer, vocab_size):\n",
    "        \"\"\"\n",
    "        A method to create the embedding matrix\n",
    "        \"\"\"\n",
    "        model_embed = self.get_embedding_index()\n",
    "\n",
    "        embedding_matrix = np.zeros((vocab_size + 1, self.vector_dimension))\n",
    "        for word, index in tokenizer.word_index.items():\n",
    "            if index > max_features:\n",
    "                break\n",
    "            else:\n",
    "                try:\n",
    "                    embedding_matrix[index] = model_embed[word]\n",
    "                except:\n",
    "                    continue\n",
    "        return embedding_matrix\n"
   ]
  },
  {
   "cell_type": "code",
   "execution_count": 13,
   "id": "6eac601f",
   "metadata": {
    "id": "mLIeNymoDXjU"
   },
   "outputs": [],
   "source": [
    "tokenizer = text.Tokenizer()\n",
    "tokenizer.fit_on_texts(df['Complete_Data'])\n",
    "word_index = tokenizer.word_index\n",
    "vocab_size = len(word_index)"
   ]
  },
  {
   "cell_type": "code",
   "execution_count": 14,
   "id": "ed52b0a7",
   "metadata": {
    "id": "7uSlgsw5DGXs"
   },
   "outputs": [],
   "source": [
    "embedding = Embeddings(\n",
    "  'G:/datasets/glove.840B.300d/glove.840B.300d.txt', \n",
    "  vector_dimension = 300\n",
    ")\n",
    "embedding_matrix = embedding.create_embedding_matrix(tokenizer, vocab_size)"
   ]
  },
  {
   "cell_type": "code",
   "execution_count": 15,
   "id": "62d9e4b8",
   "metadata": {
    "colab": {
     "base_uri": "https://localhost:8080/"
    },
    "id": "5Wa1tcLp4uLN",
    "outputId": "d818864e-4686-4e8f-aea6-a96f0dc52569"
   },
   "outputs": [
    {
     "data": {
      "text/plain": [
       "0.007992411600414551"
      ]
     },
     "execution_count": 15,
     "metadata": {},
     "output_type": "execute_result"
    }
   ],
   "source": [
    "nonzero_elements = np.count_nonzero(np.count_nonzero(embedding_matrix, axis=1))\n",
    "vocab_size = len(tokenizer.word_index) + 1\n",
    "nonzero_elements / vocab_size"
   ]
  },
  {
   "cell_type": "code",
   "execution_count": 16,
   "id": "78cf1a93",
   "metadata": {
    "id": "81b4135f"
   },
   "outputs": [],
   "source": [
    "padding_type='post'\n",
    "trunc_type='post'\n",
    "\n",
    "#train_seq_x = sequence.pad_sequences(tokenizer.texts_to_sequences(train_x), maxlen=max_features, padding=padding_type, truncating=trunc_type)\n",
    "#valid_seq_x = sequence.pad_sequences(tokenizer.texts_to_sequences(valid_x), maxlen=max_features, padding=padding_type, truncating=trunc_type)\n",
    "\n",
    "train_seq_x = sequence.pad_sequences(tokenizer.texts_to_sequences(x_train), maxlen=max_features, padding=padding_type, truncating=trunc_type)\n",
    "\n",
    "test_seq_x = sequence.pad_sequences(tokenizer.texts_to_sequences(x_test), maxlen=max_features, padding=padding_type, truncating=trunc_type)\n",
    "valid_seq_x = sequence.pad_sequences(tokenizer.texts_to_sequences(x_val), maxlen=max_features, padding=padding_type, truncating=trunc_type)\n"
   ]
  },
  {
   "cell_type": "code",
   "execution_count": 17,
   "id": "1995b26a",
   "metadata": {
    "colab": {
     "base_uri": "https://localhost:8080/"
    },
    "id": "6_pH6AAZVVYk",
    "outputId": "c371cff1-1f78-4794-c91b-c54f882d38bc"
   },
   "outputs": [
    {
     "name": "stdout",
     "output_type": "stream",
     "text": [
      "21011 7204 1801\n"
     ]
    }
   ],
   "source": [
    "print(len(train_seq_x), len(test_seq_x), len(valid_seq_x))\n"
   ]
  },
  {
   "cell_type": "code",
   "execution_count": null,
   "id": "0baee952",
   "metadata": {
    "colab": {
     "base_uri": "https://localhost:8080/"
    },
    "id": "f5ec9662",
    "outputId": "855b8346-b5e3-426e-8913-2999c45d50f1"
   },
   "outputs": [],
   "source": [
    "# load the pre-trained word-embedding vectors \n",
    "embeddings_index = {}\n",
    "for i, line in enumerate(open('/content/drive/MyDrive/Datasets/Glove.6B/GoogleNews-vectors-negative300.bin',encoding=\"ISO-8859-1\")):\n",
    "    values = line.split()\n",
    "    embeddings_index[values[0]] = np.asarray(values[1:], dtype='float64')\n",
    "    \n",
    "#num_word = 10000\n",
    "\n",
    "# create a tokenizer \n",
    "token = text.Tokenizer(oov_token='UNK', filters='!\"#$%&()*+,-./:;<=>?@[\\\\]^_`{|}~\\t\\n',lower=True)\n",
    "token.fit_on_texts(df['Complete_Data'])\n",
    "word_index = token.word_index\n",
    "print(len(word_index))\n",
    "# convert text to sequence of tokens and pad them to ensure equal length vectors \n",
    "train_seq_x = sequence.pad_sequences(token.texts_to_sequences(train_x), maxlen=max_features, padding=padding_type, truncating=trunc_type)\n",
    "valid_seq_x = sequence.pad_sequences(token.texts_to_sequences(valid_x), maxlen=max_features, padding=padding_type, truncating=trunc_type)\n",
    "\n",
    "# create token-embedding mapping\n",
    "embedding_matrix = numpy.zeros((len(word_index) + 1, 300))\n",
    "for word, i in word_index.items():\n",
    "    embedding_vector = embeddings_index.get(word)\n",
    "    if embedding_vector is not None:\n",
    "        embedding_matrix[i] = embedding_vector"
   ]
  },
  {
   "cell_type": "code",
   "execution_count": 18,
   "id": "7dd53389",
   "metadata": {
    "id": "_r-mLVX3-3xY"
   },
   "outputs": [
    {
     "name": "stderr",
     "output_type": "stream",
     "text": [
      "C:\\Users\\Wintest\\miniconda3\\envs\\tensorflow\\lib\\site-packages\\sklearn\\utils\\validation.py:72: FutureWarning: Pass classes=[0 1 2 3 4], y=[0 3 0 ... 1 1 1] as keyword args. From version 1.0 (renaming of 0.25) passing these as positional arguments will result in an error\n",
      "  \"will result in an error\", FutureWarning)\n"
     ]
    }
   ],
   "source": [
    "from sklearn.utils import class_weight\n",
    "\n",
    "def compute_classweights(target):\n",
    "    \"\"\"\n",
    "    Computes the weights of the target values based on the samples\n",
    "    :param target: Y-target variable\n",
    "    :return: dictionary object\n",
    "    \"\"\"\n",
    "    # compute class weights\n",
    "    class_weights = class_weight.compute_class_weight('balanced',\n",
    "                                                     np.unique(target),\n",
    "                                                     target)\n",
    "    \n",
    "    # make the class weight list into dictionary\n",
    "    weights = {}\n",
    "    \n",
    "    # enumerate the list\n",
    "    for index, weight in enumerate(class_weights):\n",
    "        weights[index] = weight\n",
    "        \n",
    "    return weights\n",
    "\n",
    "# Get the class weights for the target variable\n",
    "weights = compute_classweights(y)"
   ]
  },
  {
   "cell_type": "code",
   "execution_count": 19,
   "id": "d0615513",
   "metadata": {
    "colab": {
     "base_uri": "https://localhost:8080/"
    },
    "id": "RThPs-YZE_W6",
    "outputId": "becfccd2-a57b-40c1-ce38-57907ed7395e"
   },
   "outputs": [
    {
     "data": {
      "text/plain": [
       "{0: 0.6269005847953216,\n",
       " 1: 0.628015482791087,\n",
       " 2: 1.4131826741996234,\n",
       " 3: 1.7466395112016293,\n",
       " 4: 1.8783479349186483}"
      ]
     },
     "execution_count": 19,
     "metadata": {},
     "output_type": "execute_result"
    }
   ],
   "source": [
    "weights"
   ]
  },
  {
   "cell_type": "code",
   "execution_count": 20,
   "id": "9106bbe5",
   "metadata": {
    "id": "bd7aec1e"
   },
   "outputs": [],
   "source": [
    "def plot_history(history):\n",
    "    acc = history.history['accuracy']\n",
    "    val_acc = history.history['val_accuracy']\n",
    "    loss = history.history['loss']\n",
    "    val_loss = history.history['val_loss']\n",
    "    x = range(1, len(acc) + 1)\n",
    "    \n",
    "\n",
    "    plt.figure(figsize=(12, 5))\n",
    "    plt.subplot(1, 2, 1)\n",
    "    plt.plot(x, acc, 'b', label='Training acc')\n",
    "    plt.plot(x, val_acc, 'r', label='Validation acc')\n",
    "    plt.title('Training and validation accuracy')\n",
    "    plt.legend()\n",
    "    plt.subplot(1, 2, 2)\n",
    "    plt.plot(x, loss, 'b', label='Training loss')\n",
    "    plt.plot(x, val_loss, 'r', label='Validation loss')\n",
    "    plt.title('Training and validation loss')\n",
    "    plt.legend()"
   ]
  },
  {
   "cell_type": "code",
   "execution_count": 21,
   "id": "e1f5ed09",
   "metadata": {
    "id": "ODi0zfyvxI7o"
   },
   "outputs": [],
   "source": [
    "import tensorflow\n",
    "def scheduler(epoch, lr):\n",
    "    \n",
    "    if epoch < 7:\n",
    "        print('-- lr =%f --',lr) \n",
    "        return lr\n",
    "\n",
    "    elif (epoch%7 == 0):\n",
    "        lr = lr * tensorflow.math.exp(-0.2)\n",
    "        print('** lr =%f **',lr)  \n",
    "        return lr\n",
    "        \n",
    "    else:\n",
    "        print('__ lr =%f __',lr) \n",
    "        return lr\n",
    "    \n",
    "    \n",
    "callback = tensorflow.keras.callbacks.LearningRateScheduler(scheduler)"
   ]
  },
  {
   "cell_type": "code",
   "execution_count": 22,
   "id": "7ab67268",
   "metadata": {
    "colab": {
     "base_uri": "https://localhost:8080/"
    },
    "id": "8IL6VCFwG5UT",
    "outputId": "2520a715-65cc-4b81-94ec-8afb9bdb6d47"
   },
   "outputs": [
    {
     "name": "stdout",
     "output_type": "stream",
     "text": [
      "Model: \"sequential\"\n",
      "_________________________________________________________________\n",
      "Layer (type)                 Output Shape              Param #   \n",
      "=================================================================\n",
      "embedding (Embedding)        (None, 947, 300)          34157400  \n",
      "_________________________________________________________________\n",
      "batch_normalization (BatchNo (None, 947, 300)          1200      \n",
      "_________________________________________________________________\n",
      "conv1d (Conv1D)              (None, 945, 256)          230656    \n",
      "_________________________________________________________________\n",
      "dense (Dense)                (None, 945, 128)          32896     \n",
      "_________________________________________________________________\n",
      "global_max_pooling1d (Global (None, 128)               0         \n",
      "_________________________________________________________________\n",
      "dense_1 (Dense)              (None, 64)                8256      \n",
      "_________________________________________________________________\n",
      "dropout (Dropout)            (None, 64)                0         \n",
      "_________________________________________________________________\n",
      "dense_2 (Dense)              (None, 32)                2080      \n",
      "_________________________________________________________________\n",
      "dropout_1 (Dropout)          (None, 32)                0         \n",
      "_________________________________________________________________\n",
      "dense_3 (Dense)              (None, 5)                 165       \n",
      "=================================================================\n",
      "Total params: 34,432,653\n",
      "Trainable params: 274,653\n",
      "Non-trainable params: 34,158,000\n",
      "_________________________________________________________________\n"
     ]
    }
   ],
   "source": [
    "from tensorflow.keras import losses\n",
    "\n",
    "\n",
    "embedding_dim =300\n",
    "model_ConV = Sequential()\n",
    "model_ConV.add(layers.Embedding(vocab_size, embedding_dim, input_length=max_features, weights=[embedding_matrix], trainable=False))\n",
    "model_ConV.add(layers.BatchNormalization())\n",
    "model_ConV.add(layers.Conv1D(256,3))\n",
    "model_ConV.add(layers.Dense(128, activation='relu', kernel_regularizer=tf.keras.regularizers.L1L2(l2=0.002)))\n",
    "\n",
    "model_ConV.add(layers.GlobalMaxPool1D()) # Remove flatten layer\n",
    "model_ConV.add(layers.Dense(64, activation='relu', kernel_regularizer=tf.keras.regularizers.L1L2(l2=0.002)))\n",
    "model_ConV.add(layers.Dropout(0.3))\n",
    "model_ConV.add(layers.Dense(32, activation='relu', kernel_regularizer=tf.keras.regularizers.L1L2(l2=0.002)))\n",
    "model_ConV.add(layers.Dropout(0.3))\n",
    "model_ConV.add(layers.Dense(5, activation='softmax'))\n",
    "\n",
    "model_ConV.summary()\n",
    "\n",
    "model_ConV.compile(optimizer=tf.keras.optimizers.Adam(1e-5), \n",
    "                  loss=losses.CategoricalCrossentropy(), \n",
    "                  metrics=[tf.metrics.AUC(name='accuracy')])\n",
    "\n"
   ]
  },
  {
   "cell_type": "code",
   "execution_count": 23,
   "id": "ce9ba5b3",
   "metadata": {
    "colab": {
     "base_uri": "https://localhost:8080/",
     "height": 1000
    },
    "id": "9oH4jDcvHV9-",
    "outputId": "bd568eee-538a-4e0b-d4d3-9cfa7f51e433"
   },
   "outputs": [
    {
     "name": "stdout",
     "output_type": "stream",
     "text": [
      "Train on 21011 samples, validate on 1801 samples\n",
      "-- lr =%f -- 9.999999747378752e-06\n",
      "Epoch 1/50\n",
      "21011/21011 [==============================] - 116s 6ms/sample - loss: 2.7635 - accuracy: 0.6277 - val_loss: 1.9326 - val_accuracy: 0.7514\n",
      "-- lr =%f -- 9.999999747378752e-06\n",
      "Epoch 2/50\n",
      "21011/21011 [==============================] - 100s 5ms/sample - loss: 1.9035 - accuracy: 0.7384 - val_loss: 1.6984 - val_accuracy: 0.8225\n",
      "-- lr =%f -- 9.999999747378752e-06\n",
      "Epoch 3/50\n",
      "21011/21011 [==============================] - 101s 5ms/sample - loss: 1.7124 - accuracy: 0.8039 - val_loss: 1.5308 - val_accuracy: 0.8736\n",
      "-- lr =%f -- 9.999999747378752e-06\n",
      "Epoch 4/50\n",
      "21011/21011 [==============================] - 101s 5ms/sample - loss: 1.5711 - accuracy: 0.8495 - val_loss: 1.3787 - val_accuracy: 0.9114\n",
      "-- lr =%f -- 9.999999747378752e-06\n",
      "Epoch 5/50\n",
      "21011/21011 [==============================] - 100s 5ms/sample - loss: 1.4441 - accuracy: 0.8837 - val_loss: 1.2435 - val_accuracy: 0.9335\n",
      "-- lr =%f -- 9.999999747378752e-06\n",
      "Epoch 6/50\n",
      "21011/21011 [==============================] - 102s 5ms/sample - loss: 1.3272 - accuracy: 0.9107 - val_loss: 1.1407 - val_accuracy: 0.9487\n",
      "-- lr =%f -- 9.999999747378752e-06\n",
      "Epoch 7/50\n",
      "21011/21011 [==============================] - 103s 5ms/sample - loss: 1.2336 - accuracy: 0.9289 - val_loss: 1.0632 - val_accuracy: 0.9589\n",
      "** lr =%f ** tf.Tensor(8.187308e-06, shape=(), dtype=float32)\n",
      "Epoch 8/50\n",
      "21011/21011 [==============================] - 102s 5ms/sample - loss: 1.1637 - accuracy: 0.9406 - val_loss: 1.0184 - val_accuracy: 0.9627\n",
      "__ lr =%f __ 8.187307685147971e-06\n",
      "Epoch 9/50\n",
      "21011/21011 [==============================] - 101s 5ms/sample - loss: 1.1161 - accuracy: 0.9477 - val_loss: 0.9841 - val_accuracy: 0.9668\n",
      "__ lr =%f __ 8.187307685147971e-06\n",
      "Epoch 10/50\n",
      "21011/21011 [==============================] - 101s 5ms/sample - loss: 1.0795 - accuracy: 0.9525 - val_loss: 0.9662 - val_accuracy: 0.9679\n",
      "__ lr =%f __ 8.187307685147971e-06\n",
      "Epoch 11/50\n",
      "21011/21011 [==============================] - 100s 5ms/sample - loss: 1.0467 - accuracy: 0.9565 - val_loss: 0.9484 - val_accuracy: 0.9690\n",
      "__ lr =%f __ 8.187307685147971e-06\n",
      "Epoch 12/50\n",
      "21011/21011 [==============================] - 100s 5ms/sample - loss: 1.0213 - accuracy: 0.9593 - val_loss: 0.9299 - val_accuracy: 0.9711\n",
      "__ lr =%f __ 8.187307685147971e-06\n",
      "Epoch 13/50\n",
      "21011/21011 [==============================] - 101s 5ms/sample - loss: 0.9906 - accuracy: 0.9630 - val_loss: 0.9169 - val_accuracy: 0.9719\n",
      "__ lr =%f __ 8.187307685147971e-06\n",
      "Epoch 14/50\n",
      "21011/21011 [==============================] - 101s 5ms/sample - loss: 0.9702 - accuracy: 0.9652 - val_loss: 0.9080 - val_accuracy: 0.9723\n",
      "** lr =%f ** tf.Tensor(6.7032006e-06, shape=(), dtype=float32)\n",
      "Epoch 15/50\n",
      "21011/21011 [==============================] - 101s 5ms/sample - loss: 0.9467 - accuracy: 0.9678 - val_loss: 0.9001 - val_accuracy: 0.9730\n",
      "__ lr =%f __ 6.703200597257819e-06\n",
      "Epoch 16/50\n",
      "21011/21011 [==============================] - 101s 5ms/sample - loss: 0.9352 - accuracy: 0.9688 - val_loss: 0.8947 - val_accuracy: 0.9730\n",
      "__ lr =%f __ 6.703200597257819e-06\n",
      "Epoch 17/50\n",
      "21011/21011 [==============================] - 100s 5ms/sample - loss: 0.9139 - accuracy: 0.9710 - val_loss: 0.8899 - val_accuracy: 0.9732\n",
      "__ lr =%f __ 6.703200597257819e-06\n",
      "Epoch 18/50\n",
      "21011/21011 [==============================] - 101s 5ms/sample - loss: 0.8992 - accuracy: 0.9725 - val_loss: 0.8834 - val_accuracy: 0.9739\n",
      "__ lr =%f __ 6.703200597257819e-06\n",
      "Epoch 19/50\n",
      "21011/21011 [==============================] - 101s 5ms/sample - loss: 0.8857 - accuracy: 0.9735 - val_loss: 0.8785 - val_accuracy: 0.9741\n",
      "__ lr =%f __ 6.703200597257819e-06\n",
      "Epoch 20/50\n",
      "21011/21011 [==============================] - 101s 5ms/sample - loss: 0.8674 - accuracy: 0.9755 - val_loss: 0.8727 - val_accuracy: 0.9743\n",
      "__ lr =%f __ 6.703200597257819e-06\n",
      "Epoch 21/50\n",
      "21011/21011 [==============================] - 100s 5ms/sample - loss: 0.8655 - accuracy: 0.9753 - val_loss: 0.8685 - val_accuracy: 0.9750\n",
      "** lr =%f ** tf.Tensor(5.4881166e-06, shape=(), dtype=float32)\n",
      "Epoch 22/50\n",
      "21011/21011 [==============================] - 101s 5ms/sample - loss: 0.8490 - accuracy: 0.9769 - val_loss: 0.8632 - val_accuracy: 0.9752\n",
      "__ lr =%f __ 5.488116585183889e-06\n",
      "Epoch 23/50\n",
      "21011/21011 [==============================] - 101s 5ms/sample - loss: 0.8400 - accuracy: 0.9777 - val_loss: 0.8591 - val_accuracy: 0.9754\n",
      "__ lr =%f __ 5.488116585183889e-06\n",
      "Epoch 24/50\n",
      "21011/21011 [==============================] - 100s 5ms/sample - loss: 0.8262 - accuracy: 0.9790 - val_loss: 0.8580 - val_accuracy: 0.9753\n",
      "__ lr =%f __ 5.488116585183889e-06\n",
      "Epoch 25/50\n",
      "21011/21011 [==============================] - 101s 5ms/sample - loss: 0.8215 - accuracy: 0.9790 - val_loss: 0.8544 - val_accuracy: 0.9756\n",
      "__ lr =%f __ 5.488116585183889e-06\n",
      "Epoch 26/50\n",
      "21011/21011 [==============================] - 101s 5ms/sample - loss: 0.8110 - accuracy: 0.9800 - val_loss: 0.8529 - val_accuracy: 0.9753\n",
      "__ lr =%f __ 5.488116585183889e-06\n",
      "Epoch 27/50\n",
      "21011/21011 [==============================] - 100s 5ms/sample - loss: 0.8006 - accuracy: 0.9809 - val_loss: 0.8499 - val_accuracy: 0.9761\n",
      "__ lr =%f __ 5.488116585183889e-06\n",
      "Epoch 28/50\n",
      "21011/21011 [==============================] - 100s 5ms/sample - loss: 0.7929 - accuracy: 0.9815 - val_loss: 0.8452 - val_accuracy: 0.9762\n",
      "** lr =%f ** tf.Tensor(4.49329e-06, shape=(), dtype=float32)\n",
      "Epoch 29/50\n",
      "21011/21011 [==============================] - 100s 5ms/sample - loss: 0.7804 - accuracy: 0.9827 - val_loss: 0.8454 - val_accuracy: 0.9759\n",
      "__ lr =%f __ 4.493289907259168e-06\n",
      "Epoch 30/50\n",
      "21011/21011 [==============================] - 100s 5ms/sample - loss: 0.7727 - accuracy: 0.9832 - val_loss: 0.8457 - val_accuracy: 0.9756\n",
      "__ lr =%f __ 4.493289907259168e-06\n",
      "Epoch 31/50\n",
      "21011/21011 [==============================] - 101s 5ms/sample - loss: 0.7687 - accuracy: 0.9834 - val_loss: 0.8431 - val_accuracy: 0.9759\n",
      "__ lr =%f __ 4.493289907259168e-06\n",
      "Epoch 32/50\n",
      "21011/21011 [==============================] - 101s 5ms/sample - loss: 0.7612 - accuracy: 0.9839 - val_loss: 0.8431 - val_accuracy: 0.9758\n",
      "__ lr =%f __ 4.493289907259168e-06\n",
      "Epoch 33/50\n",
      "21011/21011 [==============================] - 100s 5ms/sample - loss: 0.7535 - accuracy: 0.9846 - val_loss: 0.8401 - val_accuracy: 0.9760\n",
      "__ lr =%f __ 4.493289907259168e-06\n",
      "Epoch 34/50\n",
      "21011/21011 [==============================] - 100s 5ms/sample - loss: 0.7434 - accuracy: 0.9854 - val_loss: 0.8411 - val_accuracy: 0.9759\n",
      "__ lr =%f __ 4.493289907259168e-06\n",
      "Epoch 35/50\n",
      "21011/21011 [==============================] - 101s 5ms/sample - loss: 0.7426 - accuracy: 0.9852 - val_loss: 0.8412 - val_accuracy: 0.9760\n",
      "** lr =%f ** tf.Tensor(3.6787947e-06, shape=(), dtype=float32)\n",
      "Epoch 36/50\n",
      "21011/21011 [==============================] - 100s 5ms/sample - loss: 0.7430 - accuracy: 0.9851 - val_loss: 0.8380 - val_accuracy: 0.9762\n",
      "__ lr =%f __ 3.6787946555705275e-06\n",
      "Epoch 37/50\n",
      "21011/21011 [==============================] - 101s 5ms/sample - loss: 0.7334 - accuracy: 0.9859 - val_loss: 0.8342 - val_accuracy: 0.9765\n",
      "__ lr =%f __ 3.6787946555705275e-06\n",
      "Epoch 38/50\n",
      "21011/21011 [==============================] - 100s 5ms/sample - loss: 0.7290 - accuracy: 0.9861 - val_loss: 0.8382 - val_accuracy: 0.9759\n",
      "__ lr =%f __ 3.6787946555705275e-06\n",
      "Epoch 39/50\n",
      "21011/21011 [==============================] - 100s 5ms/sample - loss: 0.7207 - accuracy: 0.9868 - val_loss: 0.8339 - val_accuracy: 0.9761\n",
      "__ lr =%f __ 3.6787946555705275e-06\n",
      "Epoch 40/50\n",
      "21011/21011 [==============================] - 100s 5ms/sample - loss: 0.7172 - accuracy: 0.9868 - val_loss: 0.8364 - val_accuracy: 0.9760\n",
      "__ lr =%f __ 3.6787946555705275e-06\n",
      "Epoch 41/50\n",
      "21011/21011 [==============================] - 101s 5ms/sample - loss: 0.7089 - accuracy: 0.9875 - val_loss: 0.8341 - val_accuracy: 0.9758\n",
      "__ lr =%f __ 3.6787946555705275e-06\n",
      "Epoch 42/50\n",
      "21011/21011 [==============================] - 100s 5ms/sample - loss: 0.7097 - accuracy: 0.9873 - val_loss: 0.8332 - val_accuracy: 0.9762\n",
      "** lr =%f ** tf.Tensor(3.0119425e-06, shape=(), dtype=float32)\n",
      "Epoch 43/50\n",
      "21011/21011 [==============================] - 100s 5ms/sample - loss: 0.6977 - accuracy: 0.9881 - val_loss: 0.8303 - val_accuracy: 0.9762\n"
     ]
    },
    {
     "name": "stdout",
     "output_type": "stream",
     "text": [
      "__ lr =%f __ 3.0119424536678707e-06\n",
      "Epoch 44/50\n",
      "21011/21011 [==============================] - 101s 5ms/sample - loss: 0.6981 - accuracy: 0.9881 - val_loss: 0.8295 - val_accuracy: 0.9762\n",
      "__ lr =%f __ 3.0119424536678707e-06\n",
      "Epoch 45/50\n",
      "21011/21011 [==============================] - 100s 5ms/sample - loss: 0.6929 - accuracy: 0.9886 - val_loss: 0.8314 - val_accuracy: 0.9760\n",
      "__ lr =%f __ 3.0119424536678707e-06\n",
      "Epoch 46/50\n",
      "21011/21011 [==============================] - 100s 5ms/sample - loss: 0.6898 - accuracy: 0.9887 - val_loss: 0.8314 - val_accuracy: 0.9765\n",
      "__ lr =%f __ 3.0119424536678707e-06\n",
      "Epoch 47/50\n",
      "21011/21011 [==============================] - 101s 5ms/sample - loss: 0.6875 - accuracy: 0.9887 - val_loss: 0.8346 - val_accuracy: 0.9761\n",
      "__ lr =%f __ 3.0119424536678707e-06\n",
      "Epoch 48/50\n",
      "21011/21011 [==============================] - 101s 5ms/sample - loss: 0.6828 - accuracy: 0.9891 - val_loss: 0.8266 - val_accuracy: 0.9762\n",
      "__ lr =%f __ 3.0119424536678707e-06\n",
      "Epoch 49/50\n",
      "21011/21011 [==============================] - 100s 5ms/sample - loss: 0.6771 - accuracy: 0.9895 - val_loss: 0.8273 - val_accuracy: 0.9763\n",
      "** lr =%f ** tf.Tensor(2.46597e-06, shape=(), dtype=float32)\n",
      "Epoch 50/50\n",
      "21011/21011 [==============================] - 101s 5ms/sample - loss: 0.6707 - accuracy: 0.9899 - val_loss: 0.8318 - val_accuracy: 0.9762\n",
      "Training Accuracy: 0.9957\n",
      "Testing Accuracy:  0.9762\n"
     ]
    }
   ],
   "source": [
    "history = model_ConV.fit(train_seq_x, \n",
    "                    train_y,\n",
    "                    batch_size=4,\n",
    "                    epochs=50,\n",
    "                    verbose=1,\n",
    "                    validation_data=(valid_seq_x, valid_y),\n",
    "                    callbacks=[callback])\n",
    "loss, accuracy = model_ConV.evaluate(train_seq_x, train_y, verbose=False)\n",
    "print(\"Training Accuracy: {:.4f}\".format(accuracy))\n",
    "loss, accuracy = model_ConV.evaluate(valid_seq_x, valid_y, verbose=False)\n",
    "print(\"Testing Accuracy:  {:.4f}\".format(accuracy))\n",
    "plot_history(history)"
   ]
  },
  {
   "cell_type": "code",
   "execution_count": 24,
   "id": "ca70e89e",
   "metadata": {
    "colab": {
     "base_uri": "https://localhost:8080/"
    },
    "id": "wp0atXVuB8ES",
    "outputId": "4e268170-a6b2-4e40-bbd0-894bf90f6c99"
   },
   "outputs": [
    {
     "name": "stdout",
     "output_type": "stream",
     "text": [
      "7204/7204 [==============================] - 14s 2ms/sample - loss: 0.8644 - accuracy: 0.9730\n"
     ]
    },
    {
     "data": {
      "text/plain": [
       "[0.8643834316386309, 0.97297287]"
      ]
     },
     "execution_count": 24,
     "metadata": {},
     "output_type": "execute_result"
    }
   ],
   "source": [
    " model_ConV.evaluate(test_seq_x,test_y,batch_size=4)"
   ]
  },
  {
   "cell_type": "code",
   "execution_count": 25,
   "id": "94233e3a",
   "metadata": {
    "colab": {
     "base_uri": "https://localhost:8080/",
     "height": 171
    },
    "id": "7jPLiui6EAto",
    "outputId": "ba345f6e-8743-4b06-eb4d-7948cc5d27e5"
   },
   "outputs": [
    {
     "data": {
      "text/plain": [
       "array([3, 4, 1, ..., 1, 1, 1], dtype=int64)"
      ]
     },
     "execution_count": 25,
     "metadata": {},
     "output_type": "execute_result"
    }
   ],
   "source": [
    "\n",
    "pred_conv =np.argmax(model_ConV.predict(test_seq_x), axis=-1)\n",
    "pred_conv"
   ]
  },
  {
   "cell_type": "code",
   "execution_count": 26,
   "id": "1960fd94",
   "metadata": {
    "colab": {
     "base_uri": "https://localhost:8080/"
    },
    "id": "HrGMVUs1EJvI",
    "outputId": "de09acf2-5c15-4644-b294-0c6ff52f9085"
   },
   "outputs": [
    {
     "data": {
      "text/plain": [
       "array([3, 4, 1, ..., 1, 1, 1])"
      ]
     },
     "execution_count": 26,
     "metadata": {},
     "output_type": "execute_result"
    }
   ],
   "source": [
    "y_eval_conv = y_test.to_numpy()\n",
    "y_eval_conv"
   ]
  },
  {
   "cell_type": "code",
   "execution_count": 27,
   "id": "ec85d688",
   "metadata": {
    "colab": {
     "base_uri": "https://localhost:8080/"
    },
    "id": "DAg8CbZrEM_4",
    "outputId": "39765267-6316-449b-ca75-50d77bbab100"
   },
   "outputs": [
    {
     "name": "stdout",
     "output_type": "stream",
     "text": [
      "              precision    recall  f1-score   support\n",
      "\n",
      "           0       0.82      0.89      0.85      2304\n",
      "           1       0.88      0.89      0.89      2305\n",
      "           2       0.86      0.73      0.79      1017\n",
      "           3       0.81      0.70      0.75       807\n",
      "           4       0.83      0.86      0.85       771\n",
      "\n",
      "    accuracy                           0.84      7204\n",
      "   macro avg       0.84      0.82      0.83      7204\n",
      "weighted avg       0.84      0.84      0.84      7204\n",
      "\n"
     ]
    }
   ],
   "source": [
    "from sklearn.metrics import confusion_matrix\n",
    "from sklearn.metrics import classification_report\n",
    "\n",
    "matrix = classification_report(y_eval_conv,pred_conv)\n",
    "print(matrix)"
   ]
  },
  {
   "cell_type": "code",
   "execution_count": 28,
   "id": "13010c59",
   "metadata": {
    "id": "GmPwll219g6o"
   },
   "outputs": [
    {
     "name": "stdout",
     "output_type": "stream",
     "text": [
      "[[2062  112   33   80   17]\n",
      " [ 180 2048   35   13   29]\n",
      " [ 136   88  739   29   25]\n",
      " [ 114   32   29  567   65]\n",
      " [  30   42   20   14  665]]\n"
     ]
    }
   ],
   "source": [
    "confusion_matrix_conv = confusion_matrix(y_eval_conv,pred_conv)\n",
    "print(confusion_matrix_conv)"
   ]
  },
  {
   "cell_type": "code",
   "execution_count": null,
   "id": "28667674",
   "metadata": {},
   "outputs": [],
   "source": []
  }
 ],
 "metadata": {
  "accelerator": "GPU",
  "colab": {
   "collapsed_sections": [],
   "name": "DNN-LSTM01C.ipynb",
   "provenance": []
  },
  "kernelspec": {
   "display_name": "Python 3.7 (tensorflow)",
   "language": "python",
   "name": "tensorflow"
  },
  "language_info": {
   "codemirror_mode": {
    "name": "ipython",
    "version": 3
   },
   "file_extension": ".py",
   "mimetype": "text/x-python",
   "name": "python",
   "nbconvert_exporter": "python",
   "pygments_lexer": "ipython3",
   "version": "3.7.11"
  }
 },
 "nbformat": 4,
 "nbformat_minor": 5
}
