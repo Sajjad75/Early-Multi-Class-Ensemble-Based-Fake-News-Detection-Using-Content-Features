{
 "cells": [
  {
   "cell_type": "code",
   "execution_count": 1,
   "id": "57042c6c",
   "metadata": {
    "id": "c0ad506d"
   },
   "outputs": [],
   "source": [
    "import logging\n",
    "import pandas as pd\n",
    "import numpy as np\n",
    "from numpy import random\n",
    "from sklearn.model_selection import train_test_split\n",
    "from sklearn.feature_extraction.text import CountVectorizer, TfidfVectorizer\n",
    "from sklearn.metrics import accuracy_score, confusion_matrix\n",
    "import matplotlib.pyplot as plt\n",
    "from nltk.corpus import stopwords\n",
    "import re\n",
    "\n",
    "\n",
    "from sklearn import model_selection, preprocessing, linear_model, naive_bayes, metrics, svm\n",
    "from sklearn.feature_extraction.text import TfidfVectorizer, CountVectorizer\n",
    "from sklearn import decomposition, ensemble\n",
    "\n",
    "import textblob, string\n",
    "from tensorflow.keras.preprocessing import text, sequence\n",
    "from tensorflow.keras import layers, models, optimizers, Sequential"
   ]
  },
  {
   "cell_type": "code",
   "execution_count": 2,
   "id": "4e6c3d79",
   "metadata": {
    "id": "In_zYnx7iyjm"
   },
   "outputs": [],
   "source": [
    "\n",
    "\n",
    "df = pd.read_csv('L:/Thesis/Dateset/FeaturesExtraction_Compeleted - Binary01.csv', encoding='latin-1')\n",
    "\n",
    "df = df.astype(dtype={'title': 'string','url': 'string',\n",
    "                                'date_published': 'string','author_name': 'string',\n",
    "                                'content': 'string','label': 'string'})\n",
    "\n",
    "cols = ['countOfPosWord', 'countOfNegWord', 'NumberOfChar','NumberOfWords','NumberOfSentences','AvgCharPerWord','AvgWordPerSent','NumberOfUpCase','NumberOfPunctuatuion','Orgtitle_contentSim','TopicModellingSim','afinn_score','vader_score_compound','FREI','FKGL','ARI','GFI','CLI']\n",
    "data = pd.read_csv('L:/Thesis/Dateset/FeaturesExtraction_Compeleted - Binary01.csv',  usecols = cols)"
   ]
  },
  {
   "cell_type": "code",
   "execution_count": 3,
   "id": "7c5f08b8",
   "metadata": {},
   "outputs": [
    {
     "data": {
      "text/plain": [
       "False    13011\n",
       "True     12754\n",
       "Name: label, dtype: Int64"
      ]
     },
     "execution_count": 3,
     "metadata": {},
     "output_type": "execute_result"
    }
   ],
   "source": [
    "df['label'].value_counts()"
   ]
  },
  {
   "cell_type": "code",
   "execution_count": 4,
   "id": "7a9ac363",
   "metadata": {
    "id": "qPaG74F9VoFX"
   },
   "outputs": [],
   "source": [
    "df['text_features']= df['title'] +' '+ df['content'] +' '+ df['author_name'] +' '+ df['date_published']\n",
    "df['Complete_Data'] = df['text_features'] "
   ]
  },
  {
   "cell_type": "code",
   "execution_count": 5,
   "id": "89395cf4",
   "metadata": {},
   "outputs": [
    {
     "name": "stdout",
     "output_type": "stream",
     "text": [
      "25765\n"
     ]
    }
   ],
   "source": [
    "print(len(df))"
   ]
  },
  {
   "cell_type": "markdown",
   "id": "7df5fe04",
   "metadata": {
    "id": "6CXPMvsK2Iif"
   },
   "source": [
    "## **SpellCheker**"
   ]
  },
  {
   "cell_type": "markdown",
   "id": "490967b2",
   "metadata": {
    "id": "j4HlFVjdHcP7"
   },
   "source": [
    "**Data Preprocessing**"
   ]
  },
  {
   "cell_type": "code",
   "execution_count": null,
   "id": "82502b2a",
   "metadata": {
    "colab": {
     "base_uri": "https://localhost:8080/"
    },
    "id": "VHWMrBrJbsg1",
    "outputId": "5ee1ab7f-43f4-4c5f-b020-1b71b8646bea"
   },
   "outputs": [],
   "source": [
    "import nltk\n",
    "nltk.download('stopwords')\n",
    "nltk.download('wordnet')"
   ]
  },
  {
   "cell_type": "code",
   "execution_count": 6,
   "id": "ba023fdc",
   "metadata": {
    "colab": {
     "base_uri": "https://localhost:8080/"
    },
    "id": "QUyk98dgFhvi",
    "outputId": "17f1c138-ec57-4b63-f89a-41c482feaa21"
   },
   "outputs": [
    {
     "name": "stdout",
     "output_type": "stream",
     "text": [
      "Done\n"
     ]
    }
   ],
   "source": [
    "for row in range(len(df)):\n",
    "  df['Complete_Data'][row] = re.sub(r\"won\\'t\", \"will not\", df['Complete_Data'][row])\n",
    "  df['Complete_Data'][row] = re.sub(r\"can\\'t\", \"can not\", df['Complete_Data'][row])\n",
    "\n",
    "    # general\n",
    "  df['Complete_Data'][row] = re.sub(r\"n\\'t\", \" not\", df['Complete_Data'][row])\n",
    "  df['Complete_Data'][row] = re.sub(r\"\\'re\", \" are\", df['Complete_Data'][row])\n",
    "  df['Complete_Data'][row] = re.sub(r\"\\'s\", \" is\", df['Complete_Data'][row])\n",
    "  df['Complete_Data'][row] = re.sub(r\"\\'d\", \" would\", df['Complete_Data'][row])\n",
    "  df['Complete_Data'][row] = re.sub(r\"\\'ll\", \" will\", df['Complete_Data'][row])\n",
    "  df['Complete_Data'][row] = re.sub(r\"\\'t\", \" not\", df['Complete_Data'][row])\n",
    "  df['Complete_Data'][row] = re.sub(r\"\\'ve\", \" have\", df['Complete_Data'][row])\n",
    "  df['Complete_Data'][row] = re.sub(r\"\\'m\", \" am\", df['Complete_Data'][row])\n",
    "print(\"Done\")"
   ]
  },
  {
   "cell_type": "code",
   "execution_count": 7,
   "id": "7c83d2f0",
   "metadata": {
    "colab": {
     "base_uri": "https://localhost:8080/"
    },
    "id": "592f0f46",
    "outputId": "3d66939c-728a-4d34-ab7b-9ea973ae71c2"
   },
   "outputs": [
    {
     "name": "stdout",
     "output_type": "stream",
     "text": [
      "Done\n"
     ]
    }
   ],
   "source": [
    "from nltk.stem.porter import PorterStemmer\n",
    "ps = PorterStemmer()\n",
    "\n",
    "X = df['Complete_Data']\n",
    "stop_words = set(stopwords.words(\"english\"))\n",
    "\n",
    "import re\n",
    "documents = []\n",
    "\n",
    "from nltk.stem import WordNetLemmatizer\n",
    "\n",
    "stemmer = WordNetLemmatizer()\n",
    "\n",
    "for sen in range(0, len(X)):\n",
    "    # Remove all the special characters\n",
    "    document = re.sub(r'\\W', ' ', str(X[sen]))\n",
    "    \n",
    "    # remove all single characters\n",
    "    document = re.sub(r'\\s+[a-zA-Z]\\s+', ' ', document)\n",
    "    \n",
    "    # Remove single characters from the start\n",
    "    document = re.sub(r'\\^[a-zA-Z]\\s+', ' ', document) \n",
    "    \n",
    "    # Substituting multiple spaces with single space\n",
    "    document = re.sub(r'\\s+', ' ', document, flags=re.I)\n",
    "    \n",
    "    # Removing prefixed 'b'\n",
    "    document = re.sub(r'^b\\s+', '', document)\n",
    "    \n",
    "    # Converting to Lowercase\n",
    "    document = document.lower()\n",
    "    \n",
    "    # Lemmatization\n",
    "    document = document.split()\n",
    "    document= [word for word in document if word not in stop_words]\n",
    "    document = [ps.stem(word) for word in document]\n",
    "    document = ' '.join(document)\n",
    "    \n",
    "    documents.append(document)\n",
    "    \n",
    "df['Complete_Data'] = documents\n",
    "print(\"Done\")"
   ]
  },
  {
   "cell_type": "markdown",
   "id": "9c0b85ab",
   "metadata": {
    "id": "JhOwiMYbI2-a"
   },
   "source": [
    "**Add Numeric features to text features**"
   ]
  },
  {
   "cell_type": "code",
   "execution_count": null,
   "id": "63fc7e27",
   "metadata": {
    "id": "dSQIHcNHdlML"
   },
   "outputs": [],
   "source": [
    "from sklearn.preprocessing import StandardScaler\n",
    "scaler = StandardScaler() \n",
    "data_scaled = scaler.fit_transform(data)"
   ]
  },
  {
   "cell_type": "code",
   "execution_count": null,
   "id": "057e132b",
   "metadata": {
    "id": "YHKQuov7dH_h"
   },
   "outputs": [],
   "source": [
    "from sklearn.preprocessing import MinMaxScaler\n",
    "scaler = MinMaxScaler() \n",
    "data_scaled = scaler.fit_transform(data)"
   ]
  },
  {
   "cell_type": "code",
   "execution_count": null,
   "id": "804f4e57",
   "metadata": {
    "id": "kjR7uLY6dlTp"
   },
   "outputs": [],
   "source": [
    "numerical_data=list()\n",
    "for row in range(0,len(df)):\n",
    "  numerical_data.insert(row,data_scaled[row])\n",
    "df['numerical_features'] = numerical_data"
   ]
  },
  {
   "cell_type": "code",
   "execution_count": null,
   "id": "c0ebb215",
   "metadata": {
    "id": "4lDuf-IydlZ4"
   },
   "outputs": [],
   "source": [
    "df = df.astype(dtype={'numerical_features': 'string'})"
   ]
  },
  {
   "cell_type": "code",
   "execution_count": null,
   "id": "183c9780",
   "metadata": {
    "id": "r8h8X_lzly67"
   },
   "outputs": [],
   "source": [
    "df['Complete_Data'] = df['Complete_Data'] + df['numerical_features']"
   ]
  },
  {
   "cell_type": "code",
   "execution_count": null,
   "id": "f1dcf68b",
   "metadata": {
    "colab": {
     "base_uri": "https://localhost:8080/",
     "height": 145
    },
    "id": "bUbudSpF2UR9",
    "outputId": "80139565-ad55-4029-fa11-dc38489b6be0"
   },
   "outputs": [],
   "source": [
    "df['Complete_Data'][150]"
   ]
  },
  {
   "cell_type": "code",
   "execution_count": null,
   "id": "0c48b44a",
   "metadata": {
    "id": "UtxsAJb1m-w8"
   },
   "outputs": [],
   "source": [
    "for row in range(0,len(df)):\n",
    "    df['Complete_Data'][row] = re.sub(r'\\[',' ',df['Complete_Data'][row])\n",
    "    df['Complete_Data'][row] = re.sub(r'\\]',' ',df['Complete_Data'][row])\n",
    "    df['Complete_Data'][row] = re.sub(r'\\n',' ',df['Complete_Data'][row])\n",
    "    df['Complete_Data'][row] = re.sub(r'\\s+', ' ', df['Complete_Data'][row], flags=re.I)\n",
    "\n"
   ]
  },
  {
   "cell_type": "markdown",
   "id": "d5efb583",
   "metadata": {
    "id": "HGyMxm6mVkCl"
   },
   "source": [
    "## **Set Max features**"
   ]
  },
  {
   "cell_type": "code",
   "execution_count": null,
   "id": "12dec26f",
   "metadata": {
    "colab": {
     "base_uri": "https://localhost:8080/"
    },
    "id": "EEzfuJCxnJBD",
    "outputId": "82a43333-5b64-4632-ed26-125fcdab4d36"
   },
   "outputs": [],
   "source": [
    "!pip install textstat"
   ]
  },
  {
   "cell_type": "code",
   "execution_count": 8,
   "id": "6afe2056",
   "metadata": {
    "colab": {
     "base_uri": "https://localhost:8080/"
    },
    "id": "b5cfb51a",
    "outputId": "bafcc972-0e5f-4c91-a834-4f1b70ef24f7"
   },
   "outputs": [
    {
     "name": "stdout",
     "output_type": "stream",
     "text": [
      "min:  19\n",
      "max:  3072\n",
      "mean: 419.65\n",
      "mean + 2 *sigma: 918.70\n",
      "918\n"
     ]
    }
   ],
   "source": [
    "import textstat\n",
    "lenght=list()\n",
    "for row in range(0,len(df)):\n",
    "    lenght.insert(row , textstat.lexicon_count(df['Complete_Data'][row]))\n",
    "df['lenght']=lenght\n",
    "\n",
    "print('min: ', min(df['lenght']))\n",
    "print('max: ', max(df['lenght']))\n",
    "\n",
    "print('mean: {:.2f}'.format(np.mean(df['lenght'])))\n",
    "\n",
    "print('mean + 2 *sigma: {:.2f}'.format(np.mean(df['lenght'])+ 2.0 * np.std(df['lenght'])))\n",
    "\n",
    "\n",
    "max_features = int(np.mean(df['lenght'])+ 2.0 * np.std(df['lenght']))\n",
    "print(max_features)"
   ]
  },
  {
   "cell_type": "code",
   "execution_count": 9,
   "id": "20699eb7",
   "metadata": {
    "id": "643d9b64"
   },
   "outputs": [],
   "source": [
    "encoder = preprocessing.LabelEncoder()\n",
    "df['label'] = encoder.fit_transform(df['label'])"
   ]
  },
  {
   "cell_type": "code",
   "execution_count": 10,
   "id": "9f726da2",
   "metadata": {
    "colab": {
     "base_uri": "https://localhost:8080/"
    },
    "id": "FvGtb5dczm6H",
    "outputId": "60565963-b3bc-4224-9d23-22bffd6e9951"
   },
   "outputs": [
    {
     "data": {
      "text/plain": [
       "array(['False', 'True'], dtype=object)"
      ]
     },
     "execution_count": 10,
     "metadata": {},
     "output_type": "execute_result"
    }
   ],
   "source": [
    "encoder.classes_"
   ]
  },
  {
   "cell_type": "code",
   "execution_count": 11,
   "id": "a5a16ecb",
   "metadata": {
    "colab": {
     "base_uri": "https://localhost:8080/"
    },
    "id": "a0dc9389",
    "outputId": "cefc42f4-3265-4050-cb7e-174f6df82a47"
   },
   "outputs": [
    {
     "data": {
      "text/plain": [
       "0        0\n",
       "1        0\n",
       "2        0\n",
       "3        0\n",
       "4        1\n",
       "        ..\n",
       "25760    1\n",
       "25761    1\n",
       "25762    1\n",
       "25763    1\n",
       "25764    1\n",
       "Name: label, Length: 25765, dtype: int32"
      ]
     },
     "execution_count": 11,
     "metadata": {},
     "output_type": "execute_result"
    }
   ],
   "source": [
    "df['label']"
   ]
  },
  {
   "cell_type": "code",
   "execution_count": 12,
   "id": "3d002fcd",
   "metadata": {
    "colab": {
     "base_uri": "https://localhost:8080/"
    },
    "id": "GLQunBt9PHnx",
    "outputId": "f8147b9d-4aa7-4a88-d790-5f892e335dce"
   },
   "outputs": [
    {
     "name": "stdout",
     "output_type": "stream",
     "text": [
      "18035 1546 6184\n",
      "18035 1546 6184\n"
     ]
    }
   ],
   "source": [
    "train_ratio = 0.70\n",
    "validation_ratio = 0.10\n",
    "test_ratio = 0.20\n",
    "\n",
    "# train is now 75% of the entire data set\n",
    "# the _junk suffix means that we drop that variable completely\n",
    "x_train, x_test, y_train, y_test = train_test_split(df['Complete_Data'], df['label'], test_size=0.3)\n",
    "\n",
    "# test is now 10% of the initial data set\n",
    "# validation is now 15% of the initial data set\n",
    "x_val, x_test, y_val, y_test = train_test_split(x_test, y_test, train_size=0.2)\n",
    "\n",
    "#import tensorflow as tf\n",
    "#train_y = tf.keras.utils.to_categorical(y_train, num_classes=5)\n",
    "#valid_y = tf.keras.utils.to_categorical(y_val, num_classes=5)\n",
    "#test_y = tf.keras.utils.to_categorical(y_test, num_classes=5)\n",
    "\n",
    "print(len(x_train), len(x_val), len(x_test))\n",
    "print(len(y_train), len(y_val), len(y_test))\n"
   ]
  },
  {
   "cell_type": "markdown",
   "id": "51b6f583",
   "metadata": {
    "id": "bzreAg3HIZj2"
   },
   "source": [
    "## **word2vec**"
   ]
  },
  {
   "cell_type": "code",
   "execution_count": 13,
   "id": "7272b8db",
   "metadata": {
    "id": "ZXKaGCPvAoVi"
   },
   "outputs": [],
   "source": [
    "import numpy as np\n",
    "\n",
    "\n",
    "class Embeddings():\n",
    "    \"\"\"\n",
    "    A class to read the word embedding file and to create the word embedding matrix\n",
    "    \"\"\"\n",
    "\n",
    "    def __init__(self, path, vector_dimension):\n",
    "        self.path = path \n",
    "        self.vector_dimension = vector_dimension\n",
    "    \n",
    "    @staticmethod\n",
    "    def get_coefs(word, *arr): \n",
    "        return word, np.asarray(arr, dtype='float32')\n",
    "\n",
    "    def get_embedding_index(self):\n",
    "        embeddings_index = dict(self.get_coefs(*o.split(\" \")) for o in open(self.path, errors='ignore'))\n",
    "        return embeddings_index\n",
    "\n",
    "    def create_embedding_matrix(self, tokenizer, vocab_size):\n",
    "        \"\"\"\n",
    "        A method to create the embedding matrix\n",
    "        \"\"\"\n",
    "        model_embed = self.get_embedding_index()\n",
    "\n",
    "        embedding_matrix = np.zeros((vocab_size + 1, self.vector_dimension))\n",
    "        for word, index in tokenizer.word_index.items():\n",
    "            if index > max_features:\n",
    "                break\n",
    "            else:\n",
    "                try:\n",
    "                    embedding_matrix[index] = model_embed[word]\n",
    "                except:\n",
    "                    continue\n",
    "        return embedding_matrix\n"
   ]
  },
  {
   "cell_type": "code",
   "execution_count": 14,
   "id": "7bafdc17",
   "metadata": {
    "id": "mLIeNymoDXjU"
   },
   "outputs": [],
   "source": [
    "tokenizer = text.Tokenizer()\n",
    "tokenizer.fit_on_texts(df['Complete_Data'])\n",
    "word_index = tokenizer.word_index\n",
    "vocab_size = len(word_index)"
   ]
  },
  {
   "cell_type": "code",
   "execution_count": 15,
   "id": "31d5f3c5",
   "metadata": {
    "id": "7uSlgsw5DGXs"
   },
   "outputs": [],
   "source": [
    "embedding = Embeddings(\n",
    "  'G:/datasets/glove.840B.300d/glove.840B.300d.txt', \n",
    "  vector_dimension = 300\n",
    ")\n",
    "embedding_matrix = embedding.create_embedding_matrix(tokenizer, vocab_size)"
   ]
  },
  {
   "cell_type": "code",
   "execution_count": 16,
   "id": "f88ccb99",
   "metadata": {
    "colab": {
     "base_uri": "https://localhost:8080/"
    },
    "id": "5Wa1tcLp4uLN",
    "outputId": "d818864e-4686-4e8f-aea6-a96f0dc52569"
   },
   "outputs": [
    {
     "data": {
      "text/plain": [
       "0.008437165571013606"
      ]
     },
     "execution_count": 16,
     "metadata": {},
     "output_type": "execute_result"
    }
   ],
   "source": [
    "nonzero_elements = np.count_nonzero(np.count_nonzero(embedding_matrix, axis=1))\n",
    "vocab_size = len(tokenizer.word_index) + 1\n",
    "nonzero_elements / vocab_size"
   ]
  },
  {
   "cell_type": "code",
   "execution_count": 17,
   "id": "9664181e",
   "metadata": {
    "id": "81b4135f"
   },
   "outputs": [],
   "source": [
    "padding_type='post'\n",
    "trunc_type='post'\n",
    "\n",
    "#train_seq_x = sequence.pad_sequences(tokenizer.texts_to_sequences(train_x), maxlen=max_features, padding=padding_type, truncating=trunc_type)\n",
    "#valid_seq_x = sequence.pad_sequences(tokenizer.texts_to_sequences(valid_x), maxlen=max_features, padding=padding_type, truncating=trunc_type)\n",
    "\n",
    "train_seq_x = sequence.pad_sequences(tokenizer.texts_to_sequences(x_train), maxlen=max_features, padding=padding_type, truncating=trunc_type)\n",
    "\n",
    "test_seq_x = sequence.pad_sequences(tokenizer.texts_to_sequences(x_test), maxlen=max_features, padding=padding_type, truncating=trunc_type)\n",
    "valid_seq_x = sequence.pad_sequences(tokenizer.texts_to_sequences(x_val), maxlen=max_features, padding=padding_type, truncating=trunc_type)\n"
   ]
  },
  {
   "cell_type": "code",
   "execution_count": 18,
   "id": "f8fe540e",
   "metadata": {
    "colab": {
     "base_uri": "https://localhost:8080/"
    },
    "id": "6_pH6AAZVVYk",
    "outputId": "c371cff1-1f78-4794-c91b-c54f882d38bc"
   },
   "outputs": [
    {
     "name": "stdout",
     "output_type": "stream",
     "text": [
      "18035 6184 1546\n"
     ]
    }
   ],
   "source": [
    "print(len(train_seq_x), len(test_seq_x), len(valid_seq_x))\n"
   ]
  },
  {
   "cell_type": "code",
   "execution_count": null,
   "id": "1870a741",
   "metadata": {
    "colab": {
     "base_uri": "https://localhost:8080/"
    },
    "id": "f5ec9662",
    "outputId": "855b8346-b5e3-426e-8913-2999c45d50f1"
   },
   "outputs": [],
   "source": [
    "# load the pre-trained word-embedding vectors \n",
    "embeddings_index = {}\n",
    "for i, line in enumerate(open('/content/drive/MyDrive/Datasets/Glove.6B/GoogleNews-vectors-negative300.bin',encoding=\"ISO-8859-1\")):\n",
    "    values = line.split()\n",
    "    embeddings_index[values[0]] = np.asarray(values[1:], dtype='float64')\n",
    "    \n",
    "#num_word = 10000\n",
    "\n",
    "# create a tokenizer \n",
    "token = text.Tokenizer(oov_token='UNK', filters='!\"#$%&()*+,-./:;<=>?@[\\\\]^_`{|}~\\t\\n',lower=True)\n",
    "token.fit_on_texts(df['Complete_Data'])\n",
    "word_index = token.word_index\n",
    "print(len(word_index))\n",
    "# convert text to sequence of tokens and pad them to ensure equal length vectors \n",
    "train_seq_x = sequence.pad_sequences(token.texts_to_sequences(train_x), maxlen=max_features, padding=padding_type, truncating=trunc_type)\n",
    "valid_seq_x = sequence.pad_sequences(token.texts_to_sequences(valid_x), maxlen=max_features, padding=padding_type, truncating=trunc_type)\n",
    "\n",
    "# create token-embedding mapping\n",
    "embedding_matrix = numpy.zeros((len(word_index) + 1, 300))\n",
    "for word, i in word_index.items():\n",
    "    embedding_vector = embeddings_index.get(word)\n",
    "    if embedding_vector is not None:\n",
    "        embedding_matrix[i] = embedding_vector"
   ]
  },
  {
   "cell_type": "code",
   "execution_count": 19,
   "id": "1942022c",
   "metadata": {
    "id": "_r-mLVX3-3xY"
   },
   "outputs": [
    {
     "name": "stderr",
     "output_type": "stream",
     "text": [
      "C:\\Users\\Wintest\\miniconda3\\envs\\tensorflow\\lib\\site-packages\\sklearn\\utils\\validation.py:72: FutureWarning: Pass classes=[0 1], y=0        0\n",
      "1        0\n",
      "2        0\n",
      "3        0\n",
      "4        1\n",
      "        ..\n",
      "25760    1\n",
      "25761    1\n",
      "25762    1\n",
      "25763    1\n",
      "25764    1\n",
      "Name: label, Length: 25765, dtype: int32 as keyword args. From version 1.0 (renaming of 0.25) passing these as positional arguments will result in an error\n",
      "  \"will result in an error\", FutureWarning)\n"
     ]
    }
   ],
   "source": [
    "from sklearn.utils import class_weight\n",
    "\n",
    "def compute_classweights(target):\n",
    "    \"\"\"\n",
    "    Computes the weights of the target values based on the samples\n",
    "    :param target: Y-target variable\n",
    "    :return: dictionary object\n",
    "    \"\"\"\n",
    "    # compute class weights\n",
    "    class_weights = class_weight.compute_class_weight('balanced',\n",
    "                                                     np.unique(target),\n",
    "                                                     target)\n",
    "    \n",
    "    # make the class weight list into dictionary\n",
    "    weights = {}\n",
    "    \n",
    "    # enumerate the list\n",
    "    for index, weight in enumerate(class_weights):\n",
    "        weights[index] = weight\n",
    "        \n",
    "    return weights\n",
    "\n",
    "# Get the class weights for the target variable\n",
    "weights = compute_classweights(df['label'])"
   ]
  },
  {
   "cell_type": "code",
   "execution_count": 20,
   "id": "b992245f",
   "metadata": {
    "colab": {
     "base_uri": "https://localhost:8080/"
    },
    "id": "RThPs-YZE_W6",
    "outputId": "becfccd2-a57b-40c1-ce38-57907ed7395e"
   },
   "outputs": [
    {
     "data": {
      "text/plain": [
       "{0: 0.9901237414495427, 1: 1.0100752705033715}"
      ]
     },
     "execution_count": 20,
     "metadata": {},
     "output_type": "execute_result"
    }
   ],
   "source": [
    "weights"
   ]
  },
  {
   "cell_type": "code",
   "execution_count": 21,
   "id": "88e4d83f",
   "metadata": {
    "id": "bd7aec1e"
   },
   "outputs": [],
   "source": [
    "def plot_history(history):\n",
    "    acc = history.history['accuracy']\n",
    "    val_acc = history.history['val_accuracy']\n",
    "    loss = history.history['loss']\n",
    "    val_loss = history.history['val_loss']\n",
    "    x = range(1, len(acc) + 1)\n",
    "    \n",
    "\n",
    "    plt.figure(figsize=(12, 5))\n",
    "    plt.subplot(1, 2, 1)\n",
    "    plt.plot(x, acc, 'b', label='Training acc')\n",
    "    plt.plot(x, val_acc, 'r', label='Validation acc')\n",
    "    plt.title('Training and validation accuracy')\n",
    "    plt.legend()\n",
    "    plt.subplot(1, 2, 2)\n",
    "    plt.plot(x, loss, 'b', label='Training loss')\n",
    "    plt.plot(x, val_loss, 'r', label='Validation loss')\n",
    "    plt.title('Training and validation loss')\n",
    "    plt.legend()"
   ]
  },
  {
   "cell_type": "code",
   "execution_count": 22,
   "id": "306d26d6",
   "metadata": {
    "id": "ODi0zfyvxI7o"
   },
   "outputs": [],
   "source": [
    "import tensorflow\n",
    "def scheduler(epoch, lr):\n",
    "    \n",
    "    if epoch < 7:\n",
    "        print('-- lr =%f --',lr) \n",
    "        return lr\n",
    "\n",
    "    elif (epoch%7 == 0):\n",
    "        lr = lr * tensorflow.math.exp(-0.2)\n",
    "        print('** lr =%f **',lr)  \n",
    "        return lr\n",
    "        \n",
    "    else:\n",
    "        print('__ lr =%f __',lr) \n",
    "        return lr\n",
    "    \n",
    "    \n",
    "callback = tensorflow.keras.callbacks.LearningRateScheduler(scheduler)"
   ]
  },
  {
   "cell_type": "code",
   "execution_count": 23,
   "id": "4349f988",
   "metadata": {
    "colab": {
     "base_uri": "https://localhost:8080/"
    },
    "id": "8IL6VCFwG5UT",
    "outputId": "2520a715-65cc-4b81-94ec-8afb9bdb6d47"
   },
   "outputs": [
    {
     "name": "stdout",
     "output_type": "stream",
     "text": [
      "Model: \"sequential\"\n",
      "_________________________________________________________________\n",
      "Layer (type)                 Output Shape              Param #   \n",
      "=================================================================\n",
      "embedding (Embedding)        (None, 918, 300)          31396800  \n",
      "_________________________________________________________________\n",
      "batch_normalization (BatchNo (None, 918, 300)          1200      \n",
      "_________________________________________________________________\n",
      "conv1d (Conv1D)              (None, 916, 256)          230656    \n",
      "_________________________________________________________________\n",
      "dense (Dense)                (None, 916, 128)          32896     \n",
      "_________________________________________________________________\n",
      "global_max_pooling1d (Global (None, 128)               0         \n",
      "_________________________________________________________________\n",
      "dense_1 (Dense)              (None, 64)                8256      \n",
      "_________________________________________________________________\n",
      "dropout (Dropout)            (None, 64)                0         \n",
      "_________________________________________________________________\n",
      "dense_2 (Dense)              (None, 32)                2080      \n",
      "_________________________________________________________________\n",
      "dropout_1 (Dropout)          (None, 32)                0         \n",
      "_________________________________________________________________\n",
      "dense_3 (Dense)              (None, 1)                 33        \n",
      "=================================================================\n",
      "Total params: 31,671,921\n",
      "Trainable params: 274,521\n",
      "Non-trainable params: 31,397,400\n",
      "_________________________________________________________________\n"
     ]
    }
   ],
   "source": [
    "from tensorflow.keras import losses\n",
    "import tensorflow as tf\n",
    "\n",
    "embedding_dim =300\n",
    "model_ConV = Sequential()\n",
    "model_ConV.add(layers.Embedding(vocab_size, embedding_dim, input_length=max_features, weights=[embedding_matrix], trainable=False))\n",
    "model_ConV.add(layers.BatchNormalization())\n",
    "model_ConV.add(layers.Conv1D(256,3))\n",
    "model_ConV.add(layers.Dense(128, activation='relu', kernel_regularizer=tf.keras.regularizers.L1L2(l2=0.002)))\n",
    "model_ConV.add(layers.GlobalMaxPool1D()) # Remove flatten layer\n",
    "model_ConV.add(layers.Dense(64, activation='relu', kernel_regularizer=tf.keras.regularizers.L1L2(l2=0.002)))\n",
    "model_ConV.add(layers.Dropout(0.3))\n",
    "model_ConV.add(layers.Dense(32, activation='relu', kernel_regularizer=tf.keras.regularizers.L1L2(l2=0.002)))\n",
    "model_ConV.add(layers.Dropout(0.3))\n",
    "model_ConV.add(layers.Dense(1, activation='sigmoid'))\n",
    "\n",
    "model_ConV.summary()\n",
    "\n",
    "model_ConV.compile(optimizer=tf.keras.optimizers.Adam(1e-4), \n",
    "                  loss=losses.BinaryCrossentropy(), \n",
    "                  metrics=[tf.metrics.AUC(name='accuracy')])\n",
    "\n"
   ]
  },
  {
   "cell_type": "code",
   "execution_count": 24,
   "id": "c37bc528",
   "metadata": {
    "colab": {
     "base_uri": "https://localhost:8080/",
     "height": 1000
    },
    "id": "9oH4jDcvHV9-",
    "outputId": "bd568eee-538a-4e0b-d4d3-9cfa7f51e433"
   },
   "outputs": [
    {
     "name": "stdout",
     "output_type": "stream",
     "text": [
      "Train on 18035 samples, validate on 1546 samples\n",
      "-- lr =%f -- 9.999999747378752e-05\n",
      "Epoch 1/50\n",
      "18035/18035 [==============================] - 90s 5ms/sample - loss: 1.0325 - accuracy: 0.8670 - val_loss: 0.7511 - val_accuracy: 0.9630\n",
      "-- lr =%f -- 9.999999747378752e-05\n",
      "Epoch 2/50\n",
      "18035/18035 [==============================] - 85s 5ms/sample - loss: 0.7185 - accuracy: 0.9544 - val_loss: 0.6221 - val_accuracy: 0.9704\n",
      "-- lr =%f -- 9.999999747378752e-05\n",
      "Epoch 3/50\n",
      "18035/18035 [==============================] - 85s 5ms/sample - loss: 0.5775 - accuracy: 0.9690 - val_loss: 0.5183 - val_accuracy: 0.9733\n",
      "-- lr =%f -- 9.999999747378752e-05\n",
      "Epoch 4/50\n",
      "18035/18035 [==============================] - 85s 5ms/sample - loss: 0.4751 - accuracy: 0.9757 - val_loss: 0.4450 - val_accuracy: 0.9779\n",
      "-- lr =%f -- 9.999999747378752e-05\n",
      "Epoch 5/50\n",
      "18035/18035 [==============================] - 85s 5ms/sample - loss: 0.4022 - accuracy: 0.9796 - val_loss: 0.3750 - val_accuracy: 0.9803\n",
      "-- lr =%f -- 9.999999747378752e-05\n",
      "Epoch 6/50\n",
      "18035/18035 [==============================] - 85s 5ms/sample - loss: 0.3445 - accuracy: 0.9833 - val_loss: 0.3596 - val_accuracy: 0.9773\n",
      "-- lr =%f -- 9.999999747378752e-05\n",
      "Epoch 7/50\n",
      "18035/18035 [==============================] - 85s 5ms/sample - loss: 0.2994 - accuracy: 0.9869 - val_loss: 0.3442 - val_accuracy: 0.9793\n",
      "** lr =%f ** tf.Tensor(8.187308e-05, shape=(), dtype=float32)\n",
      "Epoch 8/50\n",
      "18035/18035 [==============================] - 85s 5ms/sample - loss: 0.2598 - accuracy: 0.9905 - val_loss: 0.3498 - val_accuracy: 0.9785\n",
      "__ lr =%f __ 8.187307685147971e-05\n",
      "Epoch 9/50\n",
      "18035/18035 [==============================] - 87s 5ms/sample - loss: 0.2330 - accuracy: 0.9925 - val_loss: 0.3084 - val_accuracy: 0.9806\n",
      "__ lr =%f __ 8.187307685147971e-05\n",
      "Epoch 10/50\n",
      "18035/18035 [==============================] - 87s 5ms/sample - loss: 0.2079 - accuracy: 0.9945 - val_loss: 0.3224 - val_accuracy: 0.9789\n",
      "__ lr =%f __ 8.187307685147971e-05\n",
      "Epoch 11/50\n",
      "18035/18035 [==============================] - 88s 5ms/sample - loss: 0.1924 - accuracy: 0.9955 - val_loss: 0.3483 - val_accuracy: 0.9769\n",
      "__ lr =%f __ 8.187307685147971e-05\n",
      "Epoch 12/50\n",
      "18035/18035 [==============================] - 88s 5ms/sample - loss: 0.1759 - accuracy: 0.9964 - val_loss: 0.3597 - val_accuracy: 0.9765\n",
      "__ lr =%f __ 8.187307685147971e-05\n",
      "Epoch 13/50\n",
      "18035/18035 [==============================] - 88s 5ms/sample - loss: 0.1617 - accuracy: 0.9971 - val_loss: 0.3387 - val_accuracy: 0.9750\n",
      "__ lr =%f __ 8.187307685147971e-05\n",
      "Epoch 14/50\n",
      "18035/18035 [==============================] - 85s 5ms/sample - loss: 0.1532 - accuracy: 0.9975 - val_loss: 0.3662 - val_accuracy: 0.9718\n",
      "** lr =%f ** tf.Tensor(6.703201e-05, shape=(), dtype=float32)\n",
      "Epoch 15/50\n",
      "18035/18035 [==============================] - 85s 5ms/sample - loss: 0.1398 - accuracy: 0.9980 - val_loss: 0.3325 - val_accuracy: 0.9744\n",
      "__ lr =%f __ 6.70320077915676e-05\n",
      "Epoch 16/50\n",
      "18035/18035 [==============================] - 85s 5ms/sample - loss: 0.1263 - accuracy: 0.9989 - val_loss: 0.4413 - val_accuracy: 0.9672\n",
      "__ lr =%f __ 6.70320077915676e-05\n",
      "Epoch 17/50\n",
      "18035/18035 [==============================] - 86s 5ms/sample - loss: 0.1203 - accuracy: 0.9990 - val_loss: 0.3944 - val_accuracy: 0.9674\n",
      "__ lr =%f __ 6.70320077915676e-05\n",
      "Epoch 18/50\n",
      "18035/18035 [==============================] - 86s 5ms/sample - loss: 0.1153 - accuracy: 0.9990 - val_loss: 0.4048 - val_accuracy: 0.9663\n",
      "__ lr =%f __ 6.70320077915676e-05\n",
      "Epoch 19/50\n",
      "18035/18035 [==============================] - 86s 5ms/sample - loss: 0.1114 - accuracy: 0.9991 - val_loss: 0.4110 - val_accuracy: 0.9654\n",
      "__ lr =%f __ 6.70320077915676e-05\n",
      "Epoch 20/50\n",
      "18035/18035 [==============================] - 86s 5ms/sample - loss: 0.1067 - accuracy: 0.9991 - val_loss: 0.4112 - val_accuracy: 0.9651\n",
      "__ lr =%f __ 6.70320077915676e-05\n",
      "Epoch 21/50\n",
      "18035/18035 [==============================] - 86s 5ms/sample - loss: 0.1037 - accuracy: 0.9993 - val_loss: 0.3899 - val_accuracy: 0.9676\n",
      "** lr =%f ** tf.Tensor(5.4881166e-05, shape=(), dtype=float32)\n",
      "Epoch 22/50\n",
      "18035/18035 [==============================] - 86s 5ms/sample - loss: 0.0927 - accuracy: 0.9995 - val_loss: 0.4652 - val_accuracy: 0.9588\n",
      "__ lr =%f __ 5.488116585183889e-05\n",
      "Epoch 23/50\n",
      "18035/18035 [==============================] - 86s 5ms/sample - loss: 0.0906 - accuracy: 0.9994 - val_loss: 0.4721 - val_accuracy: 0.9597\n",
      "__ lr =%f __ 5.488116585183889e-05\n",
      "Epoch 24/50\n",
      "18035/18035 [==============================] - 86s 5ms/sample - loss: 0.0890 - accuracy: 0.9996 - val_loss: 0.4497 - val_accuracy: 0.9585\n",
      "__ lr =%f __ 5.488116585183889e-05\n",
      "Epoch 25/50\n",
      "18035/18035 [==============================] - 85s 5ms/sample - loss: 0.0855 - accuracy: 0.9997 - val_loss: 0.4076 - val_accuracy: 0.9683\n",
      "__ lr =%f __ 5.488116585183889e-05\n",
      "Epoch 26/50\n",
      "18035/18035 [==============================] - 86s 5ms/sample - loss: 0.0830 - accuracy: 0.9995 - val_loss: 0.3870 - val_accuracy: 0.9676\n",
      "__ lr =%f __ 5.488116585183889e-05\n",
      "Epoch 27/50\n",
      "18035/18035 [==============================] - 88s 5ms/sample - loss: 0.0800 - accuracy: 0.9996 - val_loss: 0.4680 - val_accuracy: 0.9577\n",
      "__ lr =%f __ 5.488116585183889e-05\n",
      "Epoch 28/50\n",
      "18035/18035 [==============================] - 87s 5ms/sample - loss: 0.0773 - accuracy: 0.9995 - val_loss: 0.3926 - val_accuracy: 0.9655\n",
      "** lr =%f ** tf.Tensor(4.4932898e-05, shape=(), dtype=float32)\n",
      "Epoch 29/50\n",
      "18035/18035 [==============================] - 88s 5ms/sample - loss: 0.0716 - accuracy: 0.9998 - val_loss: 0.4604 - val_accuracy: 0.9536\n",
      "__ lr =%f __ 4.493289816309698e-05\n",
      "Epoch 30/50\n",
      "18035/18035 [==============================] - 86s 5ms/sample - loss: 0.0688 - accuracy: 0.9998 - val_loss: 0.4323 - val_accuracy: 0.9611\n",
      "__ lr =%f __ 4.493289816309698e-05\n",
      "Epoch 31/50\n",
      "18035/18035 [==============================] - 85s 5ms/sample - loss: 0.0667 - accuracy: 0.9998 - val_loss: 0.4498 - val_accuracy: 0.9559\n",
      "__ lr =%f __ 4.493289816309698e-05\n",
      "Epoch 32/50\n",
      "18035/18035 [==============================] - 85s 5ms/sample - loss: 0.0664 - accuracy: 0.9998 - val_loss: 0.4334 - val_accuracy: 0.9605\n",
      "__ lr =%f __ 4.493289816309698e-05\n",
      "Epoch 33/50\n",
      "18035/18035 [==============================] - 85s 5ms/sample - loss: 0.0656 - accuracy: 0.9998 - val_loss: 0.4375 - val_accuracy: 0.9587\n",
      "__ lr =%f __ 4.493289816309698e-05\n",
      "Epoch 34/50\n",
      "18035/18035 [==============================] - 85s 5ms/sample - loss: 0.0622 - accuracy: 0.9999 - val_loss: 0.4883 - val_accuracy: 0.9532\n",
      "__ lr =%f __ 4.493289816309698e-05\n",
      "Epoch 35/50\n",
      "18035/18035 [==============================] - 86s 5ms/sample - loss: 0.0627 - accuracy: 0.9998 - val_loss: 0.4689 - val_accuracy: 0.9513\n",
      "** lr =%f ** tf.Tensor(3.6787947e-05, shape=(), dtype=float32)\n",
      "Epoch 36/50\n",
      "18035/18035 [==============================] - 84s 5ms/sample - loss: 0.0575 - accuracy: 0.9998 - val_loss: 0.4492 - val_accuracy: 0.9543\n",
      "__ lr =%f __ 3.678794746519998e-05\n",
      "Epoch 37/50\n",
      "18035/18035 [==============================] - 84s 5ms/sample - loss: 0.0570 - accuracy: 0.9999 - val_loss: 0.4495 - val_accuracy: 0.9537\n",
      "__ lr =%f __ 3.678794746519998e-05\n",
      "Epoch 38/50\n",
      "18035/18035 [==============================] - 84s 5ms/sample - loss: 0.0547 - accuracy: 0.9999 - val_loss: 0.4534 - val_accuracy: 0.9535\n",
      "__ lr =%f __ 3.678794746519998e-05\n",
      "Epoch 39/50\n",
      "18035/18035 [==============================] - 84s 5ms/sample - loss: 0.0539 - accuracy: 0.9999 - val_loss: 0.4511 - val_accuracy: 0.9549\n",
      "__ lr =%f __ 3.678794746519998e-05\n",
      "Epoch 40/50\n",
      "18035/18035 [==============================] - 84s 5ms/sample - loss: 0.0528 - accuracy: 0.9999 - val_loss: 0.5037 - val_accuracy: 0.9502\n",
      "__ lr =%f __ 3.678794746519998e-05\n",
      "Epoch 41/50\n",
      "18035/18035 [==============================] - 84s 5ms/sample - loss: 0.0513 - accuracy: 0.9998 - val_loss: 0.4531 - val_accuracy: 0.9548\n",
      "__ lr =%f __ 3.678794746519998e-05\n",
      "Epoch 42/50\n",
      "18035/18035 [==============================] - 84s 5ms/sample - loss: 0.0496 - accuracy: 0.9999 - val_loss: 0.4409 - val_accuracy: 0.9574\n",
      "** lr =%f ** tf.Tensor(3.0119425e-05, shape=(), dtype=float32)\n",
      "Epoch 43/50\n",
      "18035/18035 [==============================] - 84s 5ms/sample - loss: 0.0474 - accuracy: 0.9999 - val_loss: 0.4842 - val_accuracy: 0.9504\n",
      "__ lr =%f __ 3.0119424991426058e-05\n",
      "Epoch 44/50\n"
     ]
    },
    {
     "name": "stdout",
     "output_type": "stream",
     "text": [
      "18035/18035 [==============================] - 84s 5ms/sample - loss: 0.0462 - accuracy: 0.9999 - val_loss: 0.5058 - val_accuracy: 0.9443\n",
      "__ lr =%f __ 3.0119424991426058e-05\n",
      "Epoch 45/50\n",
      "18035/18035 [==============================] - 84s 5ms/sample - loss: 0.0459 - accuracy: 0.9999 - val_loss: 0.5026 - val_accuracy: 0.9468\n",
      "__ lr =%f __ 3.0119424991426058e-05\n",
      "Epoch 46/50\n",
      "18035/18035 [==============================] - 84s 5ms/sample - loss: 0.0447 - accuracy: 0.9999 - val_loss: 0.4612 - val_accuracy: 0.9539\n",
      "__ lr =%f __ 3.0119424991426058e-05\n",
      "Epoch 47/50\n",
      "18035/18035 [==============================] - 84s 5ms/sample - loss: 0.0435 - accuracy: 0.9999 - val_loss: 0.4759 - val_accuracy: 0.9525\n",
      "__ lr =%f __ 3.0119424991426058e-05\n",
      "Epoch 48/50\n",
      "18035/18035 [==============================] - 84s 5ms/sample - loss: 0.0423 - accuracy: 1.0000 - val_loss: 0.4624 - val_accuracy: 0.9528\n",
      "__ lr =%f __ 3.0119424991426058e-05\n",
      "Epoch 49/50\n",
      "18035/18035 [==============================] - 85s 5ms/sample - loss: 0.0435 - accuracy: 0.9998 - val_loss: 0.4480 - val_accuracy: 0.9522\n",
      "** lr =%f ** tf.Tensor(2.46597e-05, shape=(), dtype=float32)\n",
      "Epoch 50/50\n",
      "18035/18035 [==============================] - 85s 5ms/sample - loss: 0.0396 - accuracy: 1.0000 - val_loss: 0.5004 - val_accuracy: 0.9489\n"
     ]
    }
   ],
   "source": [
    "history = model_ConV.fit(train_seq_x, \n",
    "                    y_train,\n",
    "                    batch_size=4,\n",
    "                    epochs=50,\n",
    "                    verbose=1,\n",
    "                    validation_data=(valid_seq_x, y_val),\n",
    "                    callbacks=[callback])"
   ]
  },
  {
   "cell_type": "code",
   "execution_count": 31,
   "id": "9e16d7da",
   "metadata": {},
   "outputs": [
    {
     "name": "stdout",
     "output_type": "stream",
     "text": [
      "Training Accuracy: 1.0000\n",
      "Testing Accuracy:  0.9489\n"
     ]
    }
   ],
   "source": [
    "\n",
    "loss, accuracy = model_ConV.evaluate(train_seq_x, y_train, verbose=False)\n",
    "print(\"Training Accuracy: {:.4f}\".format(accuracy))\n",
    "loss, accuracy = model_ConV.evaluate(valid_seq_x, y_val, verbose=False)\n",
    "print(\"Testing Accuracy:  {:.4f}\".format(accuracy))\n"
   ]
  },
  {
   "cell_type": "code",
   "execution_count": 32,
   "id": "f32603b0",
   "metadata": {
    "colab": {
     "base_uri": "https://localhost:8080/"
    },
    "id": "wp0atXVuB8ES",
    "outputId": "4e268170-a6b2-4e40-bbd0-894bf90f6c99"
   },
   "outputs": [
    {
     "name": "stdout",
     "output_type": "stream",
     "text": [
      "6184/6184 [==============================] - 11s 2ms/sample - loss: 0.5148 - accuracy: 0.9478\n"
     ]
    },
    {
     "data": {
      "text/plain": [
       "[0.5147605699235224, 0.9478177]"
      ]
     },
     "execution_count": 32,
     "metadata": {},
     "output_type": "execute_result"
    }
   ],
   "source": [
    " model_ConV.evaluate(test_seq_x,y_test,batch_size=4)"
   ]
  },
  {
   "cell_type": "code",
   "execution_count": 33,
   "id": "10e5d3c0",
   "metadata": {
    "colab": {
     "base_uri": "https://localhost:8080/",
     "height": 171
    },
    "id": "7jPLiui6EAto",
    "outputId": "ba345f6e-8743-4b06-eb4d-7948cc5d27e5"
   },
   "outputs": [
    {
     "data": {
      "text/plain": [
       "array([[1],\n",
       "       [0],\n",
       "       [1],\n",
       "       ...,\n",
       "       [0],\n",
       "       [0],\n",
       "       [1]])"
      ]
     },
     "execution_count": 33,
     "metadata": {},
     "output_type": "execute_result"
    }
   ],
   "source": [
    "\n",
    "pred_conv =model_ConV.predict_classes(test_seq_x)\n",
    "pred_conv"
   ]
  },
  {
   "cell_type": "code",
   "execution_count": 34,
   "id": "47abccb9",
   "metadata": {
    "colab": {
     "base_uri": "https://localhost:8080/"
    },
    "id": "HrGMVUs1EJvI",
    "outputId": "de09acf2-5c15-4644-b294-0c6ff52f9085"
   },
   "outputs": [
    {
     "data": {
      "text/plain": [
       "array([0, 0, 1, ..., 0, 0, 1])"
      ]
     },
     "execution_count": 34,
     "metadata": {},
     "output_type": "execute_result"
    }
   ],
   "source": [
    "y_eval_conv = y_test.to_numpy()\n",
    "y_eval_conv"
   ]
  },
  {
   "cell_type": "code",
   "execution_count": 35,
   "id": "d264208e",
   "metadata": {
    "colab": {
     "base_uri": "https://localhost:8080/"
    },
    "id": "DAg8CbZrEM_4",
    "outputId": "39765267-6316-449b-ca75-50d77bbab100"
   },
   "outputs": [
    {
     "name": "stdout",
     "output_type": "stream",
     "text": [
      "              precision    recall  f1-score   support\n",
      "\n",
      "           0       0.90      0.93      0.92      3094\n",
      "           1       0.93      0.90      0.91      3090\n",
      "\n",
      "    accuracy                           0.91      6184\n",
      "   macro avg       0.92      0.91      0.91      6184\n",
      "weighted avg       0.92      0.91      0.91      6184\n",
      "\n"
     ]
    }
   ],
   "source": [
    "from sklearn.metrics import confusion_matrix\n",
    "from sklearn.metrics import classification_report\n",
    "\n",
    "matrix = classification_report(y_eval_conv,pred_conv, labels=np.unique(pred_conv))\n",
    "print(matrix)"
   ]
  },
  {
   "cell_type": "code",
   "execution_count": 36,
   "id": "d335e2ad",
   "metadata": {
    "id": "GmPwll219g6o"
   },
   "outputs": [
    {
     "name": "stdout",
     "output_type": "stream",
     "text": [
      "[[2877  217]\n",
      " [ 310 2780]]\n"
     ]
    }
   ],
   "source": [
    "confusion_matrix_conv = confusion_matrix(y_eval_conv,pred_conv)\n",
    "print(confusion_matrix_conv)"
   ]
  },
  {
   "cell_type": "code",
   "execution_count": null,
   "id": "4a9f65c5",
   "metadata": {},
   "outputs": [],
   "source": []
  }
 ],
 "metadata": {
  "accelerator": "GPU",
  "colab": {
   "collapsed_sections": [],
   "name": "DNN-LSTM01C.ipynb",
   "provenance": []
  },
  "kernelspec": {
   "display_name": "Python 3",
   "language": "python",
   "name": "python3"
  },
  "language_info": {
   "codemirror_mode": {
    "name": "ipython",
    "version": 3
   },
   "file_extension": ".py",
   "mimetype": "text/x-python",
   "name": "python",
   "nbconvert_exporter": "python",
   "pygments_lexer": "ipython3",
   "version": "3.7.11"
  }
 },
 "nbformat": 4,
 "nbformat_minor": 5
}
